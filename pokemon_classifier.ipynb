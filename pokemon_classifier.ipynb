{
 "cells": [
  {
   "cell_type": "markdown",
   "id": "1686f011",
   "metadata": {},
   "source": [
    "### This Code is about classifying different type of pokemon using VGG16 Transfer Learning.\n",
    "                                            by Mansion See Lui\n",
    "#### To be exact, there are 5 types of pokemon to be classify.\n",
    "#### The data provided have 50 picture for each type of pokemon."
   ]
  },
  {
   "cell_type": "markdown",
   "id": "394048c5",
   "metadata": {},
   "source": [
    "Note: If it cause an error during fit stage, may need to install a lower version of tensorflow. Tensorflow version = 2.2.0. \n",
    "\n",
    "!pip unistall -y tensorflow (to uninstall)\n",
    "\n",
    "!pip install tensorflow==2.2.0 (to install)\n",
    "\n",
    "And of course all other library use you may need to pip install."
   ]
  },
  {
   "cell_type": "markdown",
   "id": "0875ce35",
   "metadata": {},
   "source": [
    "#### What is the process of this training and validation file?\n",
    "A. Pre coding\n",
    "   1. Create training and validation directory.\n",
    "   2. On training and validation directory, each pokemon type have each folder.\n",
    "   3. The training and validation data are split into 80% and 20% respectively at random.\n",
    "   4. Copy the original files into the training and validation directory.\n",
    "   \n",
    "B. Pre processing of data\n",
    "   1. Image Data Generator with rescaling. (validation is rescale only)\n",
    "   2. Resize the training and validation data\n",
    "   \n",
    "C. Transfer Learning Preparation\n",
    "   1. Load VGG16 model and Fix the weight of all layer.\n",
    "   2. Prepare the model with customize output layer.\n",
    "   3. Fit and select an optimizer base on accuracy.\n",
    "   4. Add layer on the output layer with different number of nodes.\n",
    "   5. Fit and select appropriate output layer base on accuracy.\n",
    "   6. Load VGG16 model with weight of the last block set to trainable.\n",
    "   7. Fit and run with different output layer setting.\n",
    "   8. Load VGG16 model, set all layer to be trainable.\n",
    "   9. Fit and run with selected output layer.\n",
    "\n",
    "D. Summary of Results\n",
    "\n",
    "E. Make conclusion and select model"
   ]
  },
  {
   "cell_type": "code",
   "execution_count": 1,
   "id": "1c868334",
   "metadata": {},
   "outputs": [],
   "source": [
    "import os\n",
    "import shutil\n",
    "import glob\n",
    "import pandas as pd\n",
    "import numpy as np\n",
    "import sklearn\n",
    "import matplotlib.pyplot as plt\n",
    "import tensorflow as tf"
   ]
  },
  {
   "cell_type": "code",
   "execution_count": 2,
   "id": "c342a3c9",
   "metadata": {},
   "outputs": [],
   "source": [
    "np.random.seed(42)\n",
    "\n",
    "# Set the raw data and processed data directory\n",
    "raw_data_dir = './pokemon'"
   ]
  },
  {
   "cell_type": "markdown",
   "id": "c7efa24f",
   "metadata": {},
   "source": [
    "#### Note:\n",
    "#### Below two line of code remove the train and val directory derive from pokemon files.\n",
    "#### If the train and val directory doesn't exist, there will be error in the code. Not an issue, just proceed to run the rest.\n",
    "#### ----------------------------------------------------------------------------------------------------------------------------------------------------------------------------"
   ]
  },
  {
   "cell_type": "code",
   "execution_count": 3,
   "id": "7ac4240e",
   "metadata": {},
   "outputs": [],
   "source": [
    "def remove(path):\n",
    "    \"\"\" param <path> could either be relative or absolute. \"\"\"\n",
    "    if os.path.isfile(path) or os.path.islink(path):\n",
    "        os.remove(path)  # remove the file\n",
    "    elif os.path.isdir(path):\n",
    "        shutil.rmtree(path)  # remove dir and all contains\n",
    "    else:\n",
    "        raise ValueError(\"file {} is not a file or dir.\".format(path))"
   ]
  },
  {
   "cell_type": "code",
   "execution_count": 4,
   "id": "a6d312d5",
   "metadata": {},
   "outputs": [],
   "source": [
    "train_dir = raw_data_dir+'/train'\n",
    "val_dir = raw_data_dir+'/val'\n",
    "\n",
    "remove(train_dir)\n",
    "remove(val_dir)\n"
   ]
  },
  {
   "cell_type": "markdown",
   "id": "dc25f01d",
   "metadata": {},
   "source": [
    "#### -----------------------------------------------------------------------------------------------------------------------------------------------------------------------"
   ]
  },
  {
   "cell_type": "markdown",
   "id": "69025f14",
   "metadata": {},
   "source": [
    "### Pre processing of the data. Segregating into train and validation data.\n",
    "### The split is 80% training data and 20% validation data."
   ]
  },
  {
   "cell_type": "code",
   "execution_count": 5,
   "id": "6cba788d",
   "metadata": {},
   "outputs": [
    {
     "name": "stdout",
     "output_type": "stream",
     "text": [
      "squirtle   50\n",
      "mewtwo   50\n",
      "bulbasaur   50\n",
      "charmander   50\n",
      "pikachu   50\n"
     ]
    }
   ],
   "source": [
    "# Collecting files of type *.jpg and *.png. Can add different type of picture extension.\n",
    "# Reason for doing this because of the thumbs.db keep appearing.\n",
    "files_1 = glob.glob(raw_data_dir+'/*/*.jpg')\n",
    "files_2 = glob.glob(raw_data_dir+'/*/*.png')\n",
    "files = files_1 + files_2\n",
    "\n",
    "# check all quantity of the data file of each category\n",
    "pokemon_file = {}\n",
    "data_dir = os.listdir(raw_data_dir)\n",
    "for d in data_dir:\n",
    "    key = d+'_files'\n",
    "    pokemon_file[key] = [fn for fn in files if d in fn]\n",
    "    print(d, ' ', len(pokemon_file[key]))"
   ]
  },
  {
   "cell_type": "code",
   "execution_count": 6,
   "id": "440e2f17",
   "metadata": {},
   "outputs": [
    {
     "name": "stdout",
     "output_type": "stream",
     "text": [
      "squirtle  datasets: (40,) (10,)\n",
      "mewtwo  datasets: (40,) (10,)\n",
      "bulbasaur  datasets: (40,) (10,)\n",
      "charmander  datasets: (40,) (10,)\n",
      "pikachu  datasets: (40,) (10,)\n"
     ]
    }
   ],
   "source": [
    "# setting up the training and validation size\n",
    "train_size = 40\n",
    "val_size = 10\n",
    "\n",
    "# getting the file path for training data and validation data\n",
    "pokemon_train = {}\n",
    "pokemon_val = {}\n",
    "\n",
    "for key in pokemon_file:\n",
    "    key_1 = key[:-6]+'_train'\n",
    "    key_2 = key[:-6]+'_val'\n",
    "    pokemon_train[key_1] = np.random.choice(pokemon_file[key], size=train_size, replace=False)\n",
    "    temp = list(set(pokemon_file[key]) - set(pokemon_train[key_1]))\n",
    "    pokemon_val[key_2] = np.random.choice(temp, size=val_size, replace=False)\n",
    "    print(key[:-6],' datasets:', pokemon_train[key_1].shape, pokemon_val[key_2].shape)   "
   ]
  },
  {
   "cell_type": "code",
   "execution_count": 7,
   "id": "c2958653",
   "metadata": {},
   "outputs": [],
   "source": [
    "# setting up and creating the train and validation directory\n",
    "train_dir = '/train'\n",
    "val_dir = '/val'\n",
    "\n",
    "os.mkdir(raw_data_dir+train_dir) if not os.path.isdir(raw_data_dir+train_dir) else None\n",
    "os.mkdir(raw_data_dir+val_dir) if not os.path.isdir(raw_data_dir+val_dir) else None"
   ]
  },
  {
   "cell_type": "code",
   "execution_count": 8,
   "id": "5f9b9770",
   "metadata": {},
   "outputs": [],
   "source": [
    "# copy from the original folder of pokemon images into train and val folder\n",
    "for train_file in pokemon_train.keys():\n",
    "    d = train_file[:-6]\n",
    "    os.mkdir(raw_data_dir+train_dir+'/'+d) if not os.path.isdir(raw_data_dir+train_dir+'/'+d) else None\n",
    "    for fn in pokemon_train[train_file]:\n",
    "        shutil.copy(fn, raw_data_dir+train_dir+'/'+d)\n",
    "for val_file in pokemon_val.keys():\n",
    "    d = val_file[:-4]\n",
    "    os.mkdir(raw_data_dir+val_dir+'/'+d) if not os.path.isdir(raw_data_dir+val_dir+'/'+d) else None\n",
    "    for fn in pokemon_val[val_file]:\n",
    "        shutil.copy(fn, raw_data_dir+val_dir+'/'+d)"
   ]
  },
  {
   "cell_type": "markdown",
   "id": "1dbf4e48",
   "metadata": {},
   "source": [
    "#### Additional data preprocessing for training, using the ImageDataGenerator"
   ]
  },
  {
   "cell_type": "code",
   "execution_count": 9,
   "id": "411640f5",
   "metadata": {},
   "outputs": [],
   "source": [
    "# Setting up the image data generator for the training data and validation data\n",
    "from tensorflow.keras.preprocessing.image import ImageDataGenerator\n",
    "\n",
    "datagen_train = ImageDataGenerator(\n",
    "    samplewise_center=True,  # set each sample mean to 0\n",
    "    rotation_range=10,  # randomly rotate images in the range (degrees, 0 to 180)\n",
    "    rescale=1./255,\n",
    "    zoom_range=0.1,  # Randomly zoom image\n",
    "    width_shift_range=0.1,  # randomly shift images horizontally (fraction of total width)\n",
    "    height_shift_range=0.1,  # randomly shift images vertically (fraction of total height)\n",
    "    horizontal_flip=True,  # randomly flip images\n",
    "    vertical_flip=True)\n",
    "\n",
    "\n",
    "datagen_valid = ImageDataGenerator(rescale=1./255, samplewise_center=True)"
   ]
  },
  {
   "cell_type": "code",
   "execution_count": 10,
   "id": "83730d38",
   "metadata": {},
   "outputs": [],
   "source": [
    "# Image dimension setting for input to Neural Network\n",
    "img_x = 224\n",
    "img_y = 224"
   ]
  },
  {
   "cell_type": "code",
   "execution_count": 12,
   "id": "39ea43a9",
   "metadata": {},
   "outputs": [
    {
     "name": "stdout",
     "output_type": "stream",
     "text": [
      "Found 200 images belonging to 5 classes.\n",
      "Found 50 images belonging to 5 classes.\n"
     ]
    }
   ],
   "source": [
    "# load and iterate training dataset and reshaping the picture size\n",
    "train_it = datagen_train.flow_from_directory(\n",
    "    \"./pokemon/train\",\n",
    "    target_size=(img_x,img_y),\n",
    "    batch_size= 25,\n",
    "    color_mode=\"rgb\",\n",
    "    class_mode=\"categorical\"\n",
    ")\n",
    "# load and iterate validation dataset and reshaping the picture size\n",
    "valid_it = datagen_valid.flow_from_directory(\n",
    "    \"./pokemon/val\",\n",
    "    target_size=(img_x,img_y),\n",
    "    batch_size= 25,\n",
    "    color_mode=\"rgb\",\n",
    "    class_mode=\"categorical\"\n",
    ")"
   ]
  },
  {
   "cell_type": "markdown",
   "id": "d5df3f52",
   "metadata": {},
   "source": [
    "### Preparation of Transfer Learning using VGG16."
   ]
  },
  {
   "cell_type": "code",
   "execution_count": 13,
   "id": "de965803",
   "metadata": {},
   "outputs": [
    {
     "name": "stderr",
     "output_type": "stream",
     "text": [
      "2022-04-19 03:27:13.419097: I tensorflow/stream_executor/platform/default/dso_loader.cc:44] Successfully opened dynamic library libcuda.so.1\n",
      "2022-04-19 03:27:13.517002: I tensorflow/core/common_runtime/gpu/gpu_device.cc:1561] Found device 0 with properties: \n",
      "pciBusID: 0000:47:00.0 name: NVIDIA A100-SXM4-40GB MIG 2g.10gb computeCapability: 8.0\n",
      "coreClock: 1.41GHz coreCount: 28 deviceMemorySize: 9.75GiB deviceMemoryBandwidth: 362.10GiB/s\n",
      "2022-04-19 03:27:13.517317: W tensorflow/stream_executor/platform/default/dso_loader.cc:55] Could not load dynamic library 'libcudart.so.10.1'; dlerror: libcudart.so.10.1: cannot open shared object file: No such file or directory; LD_LIBRARY_PATH: /usr/local/cuda/extras/CUPTI/lib64:/usr/local/cuda/compat/lib:/usr/local/nvidia/lib:/usr/local/nvidia/lib64\n",
      "2022-04-19 03:27:13.517413: W tensorflow/stream_executor/platform/default/dso_loader.cc:55] Could not load dynamic library 'libcublas.so.10'; dlerror: libcublas.so.10: cannot open shared object file: No such file or directory; LD_LIBRARY_PATH: /usr/local/cuda/extras/CUPTI/lib64:/usr/local/cuda/compat/lib:/usr/local/nvidia/lib:/usr/local/nvidia/lib64\n",
      "2022-04-19 03:27:13.555790: I tensorflow/stream_executor/platform/default/dso_loader.cc:44] Successfully opened dynamic library libcufft.so.10\n",
      "2022-04-19 03:27:13.556794: I tensorflow/stream_executor/platform/default/dso_loader.cc:44] Successfully opened dynamic library libcurand.so.10\n",
      "2022-04-19 03:27:13.556909: W tensorflow/stream_executor/platform/default/dso_loader.cc:55] Could not load dynamic library 'libcusolver.so.10'; dlerror: libcusolver.so.10: cannot open shared object file: No such file or directory; LD_LIBRARY_PATH: /usr/local/cuda/extras/CUPTI/lib64:/usr/local/cuda/compat/lib:/usr/local/nvidia/lib:/usr/local/nvidia/lib64\n",
      "2022-04-19 03:27:13.556963: W tensorflow/stream_executor/platform/default/dso_loader.cc:55] Could not load dynamic library 'libcusparse.so.10'; dlerror: libcusparse.so.10: cannot open shared object file: No such file or directory; LD_LIBRARY_PATH: /usr/local/cuda/extras/CUPTI/lib64:/usr/local/cuda/compat/lib:/usr/local/nvidia/lib:/usr/local/nvidia/lib64\n",
      "2022-04-19 03:27:13.557018: W tensorflow/stream_executor/platform/default/dso_loader.cc:55] Could not load dynamic library 'libcudnn.so.7'; dlerror: libcudnn.so.7: cannot open shared object file: No such file or directory; LD_LIBRARY_PATH: /usr/local/cuda/extras/CUPTI/lib64:/usr/local/cuda/compat/lib:/usr/local/nvidia/lib:/usr/local/nvidia/lib64\n",
      "2022-04-19 03:27:13.557028: W tensorflow/core/common_runtime/gpu/gpu_device.cc:1598] Cannot dlopen some GPU libraries. Please make sure the missing libraries mentioned above are installed properly if you would like to use GPU. Follow the guide at https://www.tensorflow.org/install/gpu for how to download and setup the required libraries for your platform.\n",
      "Skipping registering GPU devices...\n",
      "2022-04-19 03:27:13.557919: I tensorflow/core/platform/cpu_feature_guard.cc:143] Your CPU supports instructions that this TensorFlow binary was not compiled to use: AVX2 FMA\n",
      "2022-04-19 03:27:13.585158: I tensorflow/core/platform/profile_utils/cpu_utils.cc:102] CPU Frequency: 2245890000 Hz\n",
      "2022-04-19 03:27:13.606142: I tensorflow/compiler/xla/service/service.cc:168] XLA service 0x7f6734000b90 initialized for platform Host (this does not guarantee that XLA will be used). Devices:\n",
      "2022-04-19 03:27:13.606232: I tensorflow/compiler/xla/service/service.cc:176]   StreamExecutor device (0): Host, Default Version\n",
      "2022-04-19 03:27:13.608702: I tensorflow/core/common_runtime/gpu/gpu_device.cc:1102] Device interconnect StreamExecutor with strength 1 edge matrix:\n",
      "2022-04-19 03:27:13.608771: I tensorflow/core/common_runtime/gpu/gpu_device.cc:1108]      \n"
     ]
    }
   ],
   "source": [
    "# Loading VGG16 model for transfer learning\n",
    "\n",
    "from tensorflow import keras\n",
    "\n",
    "base_model_vgg16 = keras.applications.VGG16(\n",
    "    weights='imagenet',  \n",
    "    input_shape=(img_x,img_y, 3),\n",
    "    include_top=False)"
   ]
  },
  {
   "cell_type": "code",
   "execution_count": 14,
   "id": "c46e2577",
   "metadata": {},
   "outputs": [],
   "source": [
    "# Setting up the transfer learning\n",
    "base_model_vgg16.trainable = False"
   ]
  },
  {
   "cell_type": "code",
   "execution_count": 15,
   "id": "051c19b5",
   "metadata": {},
   "outputs": [],
   "source": [
    "# Setup 1 VGG16 with base model of vgg16 = false, top layer of Global Average Pooling 2D and then Dense 5 activation softmax \n",
    "# for output. Compiler optimizer is RMSprop\n",
    "\n",
    "# Create inputs with correct shape\n",
    "inputs = keras.Input(shape=(img_x,img_y, 3))\n",
    "\n",
    "x = base_model_vgg16(inputs, training=False)\n",
    "\n",
    "# Add pooling layer or flatten layer\n",
    "x = keras.layers.GlobalAveragePooling2D()(x)\n",
    "\n",
    "# Add final dense layer\n",
    "outputs = keras.layers.Dense(5, activation = 'softmax')(x)\n",
    "\n",
    "# Combine inputs and outputs to create model\n",
    "model_vgg16 = keras.Model(inputs, outputs)\n",
    "\n",
    "model_vgg16.compile(optimizer=keras.optimizers.RMSprop(),\n",
    "    loss = keras.losses.CategoricalCrossentropy(from_logits=True) , metrics = [keras.metrics.CategoricalAccuracy()])"
   ]
  },
  {
   "cell_type": "code",
   "execution_count": 16,
   "id": "a2f15001",
   "metadata": {},
   "outputs": [
    {
     "name": "stdout",
     "output_type": "stream",
     "text": [
      "Model: \"model\"\n",
      "_________________________________________________________________\n",
      "Layer (type)                 Output Shape              Param #   \n",
      "=================================================================\n",
      "input_2 (InputLayer)         [(None, 224, 224, 3)]     0         \n",
      "_________________________________________________________________\n",
      "vgg16 (Model)                (None, 7, 7, 512)         14714688  \n",
      "_________________________________________________________________\n",
      "global_average_pooling2d (Gl (None, 512)               0         \n",
      "_________________________________________________________________\n",
      "dense (Dense)                (None, 5)                 2565      \n",
      "=================================================================\n",
      "Total params: 14,717,253\n",
      "Trainable params: 2,565\n",
      "Non-trainable params: 14,714,688\n",
      "_________________________________________________________________\n"
     ]
    }
   ],
   "source": [
    "model_vgg16.summary()"
   ]
  },
  {
   "cell_type": "markdown",
   "id": "9370ab46",
   "metadata": {},
   "source": [
    "#### Using RMSprop optimizer"
   ]
  },
  {
   "cell_type": "code",
   "execution_count": 17,
   "id": "b82f8eec",
   "metadata": {},
   "outputs": [
    {
     "name": "stderr",
     "output_type": "stream",
     "text": [
      "/usr/local/lib/python3.8/dist-packages/PIL/Image.py:945: UserWarning: Palette images with Transparency expressed in bytes should be converted to RGBA images\n",
      "  warnings.warn(\n"
     ]
    },
    {
     "name": "stdout",
     "output_type": "stream",
     "text": [
      "Epoch 1/100\n",
      "8/8 [==============================] - 13s 2s/step - loss: 1.6035 - categorical_accuracy: 0.2750 - val_loss: 1.5973 - val_categorical_accuracy: 0.2600\n",
      "Epoch 2/100\n",
      "8/8 [==============================] - 13s 2s/step - loss: 1.5883 - categorical_accuracy: 0.3200 - val_loss: 1.5864 - val_categorical_accuracy: 0.3000\n",
      "Epoch 3/100\n",
      "8/8 [==============================] - 13s 2s/step - loss: 1.5783 - categorical_accuracy: 0.3650 - val_loss: 1.5765 - val_categorical_accuracy: 0.3400\n",
      "Epoch 4/100\n",
      "8/8 [==============================] - 13s 2s/step - loss: 1.5671 - categorical_accuracy: 0.4500 - val_loss: 1.5677 - val_categorical_accuracy: 0.4200\n",
      "Epoch 5/100\n",
      "8/8 [==============================] - 13s 2s/step - loss: 1.5575 - categorical_accuracy: 0.4600 - val_loss: 1.5590 - val_categorical_accuracy: 0.4200\n",
      "Epoch 6/100\n",
      "8/8 [==============================] - 13s 2s/step - loss: 1.5467 - categorical_accuracy: 0.4800 - val_loss: 1.5500 - val_categorical_accuracy: 0.4800\n",
      "Epoch 7/100\n",
      "8/8 [==============================] - 13s 2s/step - loss: 1.5399 - categorical_accuracy: 0.5150 - val_loss: 1.5419 - val_categorical_accuracy: 0.5000\n",
      "Epoch 8/100\n",
      "8/8 [==============================] - 13s 2s/step - loss: 1.5285 - categorical_accuracy: 0.5150 - val_loss: 1.5336 - val_categorical_accuracy: 0.5000\n",
      "Epoch 9/100\n",
      "8/8 [==============================] - 12s 2s/step - loss: 1.5201 - categorical_accuracy: 0.5450 - val_loss: 1.5260 - val_categorical_accuracy: 0.5200\n",
      "Epoch 10/100\n",
      "8/8 [==============================] - 13s 2s/step - loss: 1.5108 - categorical_accuracy: 0.5850 - val_loss: 1.5184 - val_categorical_accuracy: 0.5000\n",
      "Epoch 11/100\n",
      "8/8 [==============================] - 12s 2s/step - loss: 1.5014 - categorical_accuracy: 0.5550 - val_loss: 1.5107 - val_categorical_accuracy: 0.5000\n",
      "Epoch 12/100\n",
      "8/8 [==============================] - 12s 2s/step - loss: 1.5002 - categorical_accuracy: 0.5850 - val_loss: 1.5036 - val_categorical_accuracy: 0.5400\n",
      "Epoch 13/100\n",
      "8/8 [==============================] - 13s 2s/step - loss: 1.4888 - categorical_accuracy: 0.5950 - val_loss: 1.4972 - val_categorical_accuracy: 0.5400\n",
      "Epoch 14/100\n",
      "8/8 [==============================] - 13s 2s/step - loss: 1.4773 - categorical_accuracy: 0.6050 - val_loss: 1.4908 - val_categorical_accuracy: 0.5200\n",
      "Epoch 15/100\n",
      "8/8 [==============================] - 13s 2s/step - loss: 1.4689 - categorical_accuracy: 0.6300 - val_loss: 1.4846 - val_categorical_accuracy: 0.5400\n",
      "Epoch 16/100\n",
      "8/8 [==============================] - 13s 2s/step - loss: 1.4603 - categorical_accuracy: 0.6200 - val_loss: 1.4783 - val_categorical_accuracy: 0.5600\n",
      "Epoch 17/100\n",
      "8/8 [==============================] - 14s 2s/step - loss: 1.4574 - categorical_accuracy: 0.6250 - val_loss: 1.4714 - val_categorical_accuracy: 0.5600\n",
      "Epoch 18/100\n",
      "8/8 [==============================] - 13s 2s/step - loss: 1.4476 - categorical_accuracy: 0.6200 - val_loss: 1.4654 - val_categorical_accuracy: 0.5600\n",
      "Epoch 19/100\n",
      "8/8 [==============================] - 12s 2s/step - loss: 1.4371 - categorical_accuracy: 0.6300 - val_loss: 1.4603 - val_categorical_accuracy: 0.5600\n",
      "Epoch 20/100\n",
      "8/8 [==============================] - 14s 2s/step - loss: 1.4280 - categorical_accuracy: 0.6450 - val_loss: 1.4544 - val_categorical_accuracy: 0.5600\n",
      "Epoch 21/100\n",
      "8/8 [==============================] - 13s 2s/step - loss: 1.4269 - categorical_accuracy: 0.6550 - val_loss: 1.4496 - val_categorical_accuracy: 0.5600\n",
      "Epoch 22/100\n",
      "8/8 [==============================] - 11s 1s/step - loss: 1.4168 - categorical_accuracy: 0.6450 - val_loss: 1.4447 - val_categorical_accuracy: 0.5600\n",
      "Epoch 23/100\n",
      "8/8 [==============================] - 12s 1s/step - loss: 1.4108 - categorical_accuracy: 0.6350 - val_loss: 1.4396 - val_categorical_accuracy: 0.5600\n",
      "Epoch 24/100\n",
      "8/8 [==============================] - 13s 2s/step - loss: 1.4004 - categorical_accuracy: 0.6600 - val_loss: 1.4352 - val_categorical_accuracy: 0.5600\n",
      "Epoch 25/100\n",
      "8/8 [==============================] - 12s 2s/step - loss: 1.4010 - categorical_accuracy: 0.6300 - val_loss: 1.4314 - val_categorical_accuracy: 0.6000\n",
      "Epoch 26/100\n",
      "8/8 [==============================] - 13s 2s/step - loss: 1.3924 - categorical_accuracy: 0.6650 - val_loss: 1.4258 - val_categorical_accuracy: 0.5600\n",
      "Epoch 27/100\n",
      "8/8 [==============================] - 13s 2s/step - loss: 1.3966 - categorical_accuracy: 0.6350 - val_loss: 1.4225 - val_categorical_accuracy: 0.5800\n",
      "Epoch 28/100\n",
      "8/8 [==============================] - 12s 1s/step - loss: 1.3832 - categorical_accuracy: 0.6300 - val_loss: 1.4177 - val_categorical_accuracy: 0.5800\n",
      "Epoch 29/100\n",
      "8/8 [==============================] - 12s 2s/step - loss: 1.3788 - categorical_accuracy: 0.6600 - val_loss: 1.4135 - val_categorical_accuracy: 0.5800\n",
      "Epoch 30/100\n",
      "8/8 [==============================] - 12s 2s/step - loss: 1.3642 - categorical_accuracy: 0.6650 - val_loss: 1.4096 - val_categorical_accuracy: 0.5800\n",
      "Epoch 31/100\n",
      "8/8 [==============================] - 12s 2s/step - loss: 1.3651 - categorical_accuracy: 0.6350 - val_loss: 1.4055 - val_categorical_accuracy: 0.5600\n",
      "Epoch 32/100\n",
      "8/8 [==============================] - 12s 1s/step - loss: 1.3652 - categorical_accuracy: 0.6450 - val_loss: 1.4020 - val_categorical_accuracy: 0.5800\n",
      "Epoch 33/100\n",
      "8/8 [==============================] - 12s 2s/step - loss: 1.3532 - categorical_accuracy: 0.6800 - val_loss: 1.3989 - val_categorical_accuracy: 0.6000\n",
      "Epoch 34/100\n",
      "8/8 [==============================] - 12s 2s/step - loss: 1.3479 - categorical_accuracy: 0.6700 - val_loss: 1.3953 - val_categorical_accuracy: 0.6000\n",
      "Epoch 35/100\n",
      "8/8 [==============================] - 12s 2s/step - loss: 1.3523 - categorical_accuracy: 0.6600 - val_loss: 1.3931 - val_categorical_accuracy: 0.5800\n",
      "Epoch 36/100\n",
      "8/8 [==============================] - 12s 2s/step - loss: 1.3470 - categorical_accuracy: 0.6750 - val_loss: 1.3893 - val_categorical_accuracy: 0.6000\n",
      "Epoch 37/100\n",
      "8/8 [==============================] - 12s 1s/step - loss: 1.3389 - categorical_accuracy: 0.6800 - val_loss: 1.3864 - val_categorical_accuracy: 0.6200\n",
      "Epoch 38/100\n",
      "8/8 [==============================] - 12s 1s/step - loss: 1.3347 - categorical_accuracy: 0.6800 - val_loss: 1.3839 - val_categorical_accuracy: 0.6200\n",
      "Epoch 39/100\n",
      "8/8 [==============================] - 12s 2s/step - loss: 1.3272 - categorical_accuracy: 0.7050 - val_loss: 1.3799 - val_categorical_accuracy: 0.6200\n",
      "Epoch 40/100\n",
      "8/8 [==============================] - 12s 2s/step - loss: 1.3224 - categorical_accuracy: 0.7000 - val_loss: 1.3760 - val_categorical_accuracy: 0.6000\n",
      "Epoch 41/100\n",
      "8/8 [==============================] - 12s 2s/step - loss: 1.3134 - categorical_accuracy: 0.7100 - val_loss: 1.3735 - val_categorical_accuracy: 0.6200\n",
      "Epoch 42/100\n",
      "8/8 [==============================] - 12s 1s/step - loss: 1.3176 - categorical_accuracy: 0.7150 - val_loss: 1.3708 - val_categorical_accuracy: 0.6200\n",
      "Epoch 43/100\n",
      "8/8 [==============================] - 12s 1s/step - loss: 1.3121 - categorical_accuracy: 0.7000 - val_loss: 1.3675 - val_categorical_accuracy: 0.6200\n",
      "Epoch 44/100\n",
      "8/8 [==============================] - 11s 1s/step - loss: 1.3039 - categorical_accuracy: 0.7300 - val_loss: 1.3648 - val_categorical_accuracy: 0.6200\n",
      "Epoch 45/100\n",
      "8/8 [==============================] - 12s 1s/step - loss: 1.2956 - categorical_accuracy: 0.7350 - val_loss: 1.3616 - val_categorical_accuracy: 0.6400\n",
      "Epoch 46/100\n",
      "8/8 [==============================] - 11s 1s/step - loss: 1.2973 - categorical_accuracy: 0.7350 - val_loss: 1.3596 - val_categorical_accuracy: 0.6400\n",
      "Epoch 47/100\n",
      "8/8 [==============================] - 12s 2s/step - loss: 1.2879 - categorical_accuracy: 0.7500 - val_loss: 1.3572 - val_categorical_accuracy: 0.6400\n",
      "Epoch 48/100\n",
      "8/8 [==============================] - 12s 2s/step - loss: 1.2912 - categorical_accuracy: 0.7700 - val_loss: 1.3539 - val_categorical_accuracy: 0.6400\n",
      "Epoch 49/100\n",
      "8/8 [==============================] - 11s 1s/step - loss: 1.2791 - categorical_accuracy: 0.7700 - val_loss: 1.3517 - val_categorical_accuracy: 0.6400\n",
      "Epoch 50/100\n",
      "8/8 [==============================] - 12s 1s/step - loss: 1.2777 - categorical_accuracy: 0.7500 - val_loss: 1.3491 - val_categorical_accuracy: 0.6600\n",
      "Epoch 51/100\n"
     ]
    },
    {
     "name": "stdout",
     "output_type": "stream",
     "text": [
      "8/8 [==============================] - 12s 2s/step - loss: 1.2804 - categorical_accuracy: 0.7650 - val_loss: 1.3472 - val_categorical_accuracy: 0.6400\n",
      "Epoch 52/100\n",
      "8/8 [==============================] - 12s 1s/step - loss: 1.2754 - categorical_accuracy: 0.7750 - val_loss: 1.3440 - val_categorical_accuracy: 0.6600\n",
      "Epoch 53/100\n",
      "8/8 [==============================] - 12s 2s/step - loss: 1.2700 - categorical_accuracy: 0.7600 - val_loss: 1.3421 - val_categorical_accuracy: 0.6600\n",
      "Epoch 54/100\n",
      "8/8 [==============================] - 12s 1s/step - loss: 1.2681 - categorical_accuracy: 0.7450 - val_loss: 1.3399 - val_categorical_accuracy: 0.6600\n",
      "Epoch 55/100\n",
      "8/8 [==============================] - 11s 1s/step - loss: 1.2593 - categorical_accuracy: 0.7800 - val_loss: 1.3369 - val_categorical_accuracy: 0.6800\n",
      "Epoch 56/100\n",
      "8/8 [==============================] - 12s 2s/step - loss: 1.2621 - categorical_accuracy: 0.7900 - val_loss: 1.3347 - val_categorical_accuracy: 0.6600\n",
      "Epoch 57/100\n",
      "8/8 [==============================] - 12s 2s/step - loss: 1.2520 - categorical_accuracy: 0.7750 - val_loss: 1.3348 - val_categorical_accuracy: 0.6600\n",
      "Epoch 58/100\n",
      "8/8 [==============================] - 12s 1s/step - loss: 1.2524 - categorical_accuracy: 0.7900 - val_loss: 1.3301 - val_categorical_accuracy: 0.7000\n",
      "Epoch 59/100\n",
      "8/8 [==============================] - 13s 2s/step - loss: 1.2479 - categorical_accuracy: 0.8000 - val_loss: 1.3284 - val_categorical_accuracy: 0.6800\n",
      "Epoch 60/100\n",
      "8/8 [==============================] - 12s 2s/step - loss: 1.2514 - categorical_accuracy: 0.7950 - val_loss: 1.3271 - val_categorical_accuracy: 0.7000\n",
      "Epoch 61/100\n",
      "8/8 [==============================] - 12s 1s/step - loss: 1.2459 - categorical_accuracy: 0.7600 - val_loss: 1.3241 - val_categorical_accuracy: 0.7000\n",
      "Epoch 62/100\n",
      "8/8 [==============================] - 12s 1s/step - loss: 1.2488 - categorical_accuracy: 0.7750 - val_loss: 1.3228 - val_categorical_accuracy: 0.7000\n",
      "Epoch 63/100\n",
      "8/8 [==============================] - 12s 2s/step - loss: 1.2371 - categorical_accuracy: 0.8000 - val_loss: 1.3204 - val_categorical_accuracy: 0.7000\n",
      "Epoch 64/100\n",
      "8/8 [==============================] - 12s 1s/step - loss: 1.2357 - categorical_accuracy: 0.7800 - val_loss: 1.3185 - val_categorical_accuracy: 0.6800\n",
      "Epoch 65/100\n",
      "8/8 [==============================] - 12s 1s/step - loss: 1.2381 - categorical_accuracy: 0.7900 - val_loss: 1.3171 - val_categorical_accuracy: 0.6800\n",
      "Epoch 66/100\n",
      "8/8 [==============================] - 12s 2s/step - loss: 1.2297 - categorical_accuracy: 0.8150 - val_loss: 1.3142 - val_categorical_accuracy: 0.6800\n",
      "Epoch 67/100\n",
      "8/8 [==============================] - 12s 1s/step - loss: 1.2279 - categorical_accuracy: 0.7800 - val_loss: 1.3135 - val_categorical_accuracy: 0.7000\n",
      "Epoch 68/100\n",
      "8/8 [==============================] - 12s 2s/step - loss: 1.2349 - categorical_accuracy: 0.7900 - val_loss: 1.3130 - val_categorical_accuracy: 0.6800\n",
      "Epoch 69/100\n",
      "8/8 [==============================] - 11s 1s/step - loss: 1.2253 - categorical_accuracy: 0.7900 - val_loss: 1.3128 - val_categorical_accuracy: 0.6800\n",
      "Epoch 70/100\n",
      "8/8 [==============================] - 12s 1s/step - loss: 1.2223 - categorical_accuracy: 0.7750 - val_loss: 1.3088 - val_categorical_accuracy: 0.7000\n",
      "Epoch 71/100\n",
      "8/8 [==============================] - 13s 2s/step - loss: 1.2201 - categorical_accuracy: 0.7950 - val_loss: 1.3085 - val_categorical_accuracy: 0.6800\n",
      "Epoch 72/100\n",
      "8/8 [==============================] - 12s 2s/step - loss: 1.2176 - categorical_accuracy: 0.8150 - val_loss: 1.3071 - val_categorical_accuracy: 0.7000\n",
      "Epoch 73/100\n",
      "8/8 [==============================] - 11s 1s/step - loss: 1.2097 - categorical_accuracy: 0.8100 - val_loss: 1.3047 - val_categorical_accuracy: 0.7000\n",
      "Epoch 74/100\n",
      "8/8 [==============================] - 12s 2s/step - loss: 1.2195 - categorical_accuracy: 0.8000 - val_loss: 1.3039 - val_categorical_accuracy: 0.7200\n",
      "Epoch 75/100\n",
      "8/8 [==============================] - 12s 1s/step - loss: 1.2150 - categorical_accuracy: 0.8050 - val_loss: 1.3029 - val_categorical_accuracy: 0.7000\n",
      "Epoch 76/100\n",
      "8/8 [==============================] - 12s 1s/step - loss: 1.2181 - categorical_accuracy: 0.7850 - val_loss: 1.3016 - val_categorical_accuracy: 0.7200\n",
      "Epoch 77/100\n",
      "8/8 [==============================] - 12s 1s/step - loss: 1.2139 - categorical_accuracy: 0.8050 - val_loss: 1.2988 - val_categorical_accuracy: 0.7200\n",
      "Epoch 78/100\n",
      "8/8 [==============================] - 12s 2s/step - loss: 1.1992 - categorical_accuracy: 0.8150 - val_loss: 1.2962 - val_categorical_accuracy: 0.7400\n",
      "Epoch 79/100\n",
      "8/8 [==============================] - 12s 1s/step - loss: 1.2008 - categorical_accuracy: 0.8200 - val_loss: 1.2968 - val_categorical_accuracy: 0.7000\n",
      "Epoch 80/100\n",
      "8/8 [==============================] - 12s 2s/step - loss: 1.2063 - categorical_accuracy: 0.8150 - val_loss: 1.2942 - val_categorical_accuracy: 0.7200\n",
      "Epoch 81/100\n",
      "8/8 [==============================] - 12s 2s/step - loss: 1.1978 - categorical_accuracy: 0.8050 - val_loss: 1.2939 - val_categorical_accuracy: 0.7000\n",
      "Epoch 82/100\n",
      "8/8 [==============================] - 12s 1s/step - loss: 1.2002 - categorical_accuracy: 0.8450 - val_loss: 1.2942 - val_categorical_accuracy: 0.7000\n",
      "Epoch 83/100\n",
      "8/8 [==============================] - 12s 2s/step - loss: 1.1953 - categorical_accuracy: 0.8050 - val_loss: 1.2915 - val_categorical_accuracy: 0.7400\n",
      "Epoch 84/100\n",
      "8/8 [==============================] - 11s 1s/step - loss: 1.1951 - categorical_accuracy: 0.8000 - val_loss: 1.2888 - val_categorical_accuracy: 0.7400\n",
      "Epoch 85/100\n",
      "8/8 [==============================] - 12s 1s/step - loss: 1.1913 - categorical_accuracy: 0.8250 - val_loss: 1.2878 - val_categorical_accuracy: 0.7400\n",
      "Epoch 86/100\n",
      "8/8 [==============================] - 12s 2s/step - loss: 1.1895 - categorical_accuracy: 0.8300 - val_loss: 1.2866 - val_categorical_accuracy: 0.7200\n",
      "Epoch 87/100\n",
      "8/8 [==============================] - 12s 1s/step - loss: 1.1838 - categorical_accuracy: 0.8250 - val_loss: 1.2849 - val_categorical_accuracy: 0.7400\n",
      "Epoch 88/100\n",
      "8/8 [==============================] - 12s 1s/step - loss: 1.1836 - categorical_accuracy: 0.8250 - val_loss: 1.2833 - val_categorical_accuracy: 0.7400\n",
      "Epoch 89/100\n",
      "8/8 [==============================] - 12s 2s/step - loss: 1.1812 - categorical_accuracy: 0.8050 - val_loss: 1.2837 - val_categorical_accuracy: 0.7400\n",
      "Epoch 90/100\n",
      "8/8 [==============================] - 13s 2s/step - loss: 1.1827 - categorical_accuracy: 0.8250 - val_loss: 1.2824 - val_categorical_accuracy: 0.7400\n",
      "Epoch 91/100\n",
      "8/8 [==============================] - 12s 1s/step - loss: 1.1828 - categorical_accuracy: 0.8150 - val_loss: 1.2794 - val_categorical_accuracy: 0.7400\n",
      "Epoch 92/100\n",
      "8/8 [==============================] - 12s 2s/step - loss: 1.1748 - categorical_accuracy: 0.8550 - val_loss: 1.2772 - val_categorical_accuracy: 0.7400\n",
      "Epoch 93/100\n",
      "8/8 [==============================] - 11s 1s/step - loss: 1.1761 - categorical_accuracy: 0.8200 - val_loss: 1.2772 - val_categorical_accuracy: 0.7400\n",
      "Epoch 94/100\n",
      "8/8 [==============================] - 11s 1s/step - loss: 1.1787 - categorical_accuracy: 0.8150 - val_loss: 1.2773 - val_categorical_accuracy: 0.7600\n",
      "Epoch 95/100\n",
      "8/8 [==============================] - 12s 2s/step - loss: 1.1697 - categorical_accuracy: 0.8400 - val_loss: 1.2746 - val_categorical_accuracy: 0.7400\n",
      "Epoch 96/100\n",
      "8/8 [==============================] - 12s 1s/step - loss: 1.1786 - categorical_accuracy: 0.8150 - val_loss: 1.2742 - val_categorical_accuracy: 0.7400\n",
      "Epoch 97/100\n",
      "8/8 [==============================] - 11s 1s/step - loss: 1.1705 - categorical_accuracy: 0.8250 - val_loss: 1.2734 - val_categorical_accuracy: 0.7600\n",
      "Epoch 98/100\n",
      "8/8 [==============================] - 12s 1s/step - loss: 1.1738 - categorical_accuracy: 0.8400 - val_loss: 1.2733 - val_categorical_accuracy: 0.7600\n",
      "Epoch 99/100\n",
      "8/8 [==============================] - 12s 1s/step - loss: 1.1713 - categorical_accuracy: 0.8250 - val_loss: 1.2700 - val_categorical_accuracy: 0.7400\n",
      "Epoch 100/100\n",
      "8/8 [==============================] - 12s 2s/step - loss: 1.1593 - categorical_accuracy: 0.8700 - val_loss: 1.2702 - val_categorical_accuracy: 0.7600\n"
     ]
    }
   ],
   "source": [
    "# Training for setup 1.\n",
    "\n",
    "history = model_vgg16.fit(train_it,\n",
    "          validation_data=valid_it,\n",
    "          steps_per_epoch=int(round(train_it.samples/train_it.batch_size)),\n",
    "          validation_steps=valid_it.samples/valid_it.batch_size,\n",
    "          epochs=100)"
   ]
  },
  {
   "cell_type": "code",
   "execution_count": 18,
   "id": "391e94c1",
   "metadata": {},
   "outputs": [
    {
     "name": "stdout",
     "output_type": "stream",
     "text": [
      "accuracy:  83.5 %\n",
      "val accuracy:  75.2 %\n"
     ]
    }
   ],
   "source": [
    "acc=0\n",
    "v_acc = 0\n",
    "for a in range(-5, 0, 1):\n",
    "    acc = history.history['categorical_accuracy'][a] + acc\n",
    "    v_acc = history.history['val_categorical_accuracy'][a] + v_acc\n",
    "print('accuracy: ', round(acc/5, 4)*100,'%')\n",
    "print('val accuracy: ', round(v_acc/5, 4)*100,'%')"
   ]
  },
  {
   "cell_type": "code",
   "execution_count": 19,
   "id": "57a5f9e7",
   "metadata": {},
   "outputs": [],
   "source": [
    "# Function definition for plotting loss and accuracy. This will be use for all iteration.\n",
    "\n",
    "def plot_loss(history):\n",
    "    train_loss = history.history['loss']\n",
    "    test_loss = history.history['val_loss']\n",
    "    x = list(range(1, len(test_loss) + 1))\n",
    "    plt.plot(x, test_loss, color='red', label='Val loss')\n",
    "    plt.plot(x, train_loss, label='Train loss')\n",
    "    plt.xlabel('Epoch')\n",
    "    plt.ylabel('Loss')\n",
    "    plt.title('Loss vs. Epoch')\n",
    "    plt.legend()\n",
    "\n",
    "def plot_accuracy(history):\n",
    "    train_acc = history.history['categorical_accuracy']\n",
    "    test_acc = history.history['val_categorical_accuracy']\n",
    "    x = list(range(1, len(test_acc) + 1))\n",
    "    plt.plot(x, test_acc, color='red', label='Val accuracy')\n",
    "    plt.plot(x, train_acc, label='Train accuracy')  \n",
    "    plt.xlabel('Epoch')\n",
    "    plt.ylabel('Accuracy')\n",
    "    plt.xlim([0, 100])\n",
    "    #plt.ylim([0, 100])\n",
    "    plt.title('Accuracy vs. Epoch')  \n",
    "    plt.legend(loc='lower right')"
   ]
  },
  {
   "cell_type": "code",
   "execution_count": 20,
   "id": "d02f631d",
   "metadata": {},
   "outputs": [
    {
     "data": {
      "image/png": "[encoded data removed]",
      "text/plain": [
       "<Figure size 432x288 with 1 Axes>"
      ]
     },
     "metadata": {
      "needs_background": "light"
     },
     "output_type": "display_data"
    }
   ],
   "source": [
    "plot_loss(history)"
   ]
  },
  {
   "cell_type": "code",
   "execution_count": 21,
   "id": "06d9236c",
   "metadata": {},
   "outputs": [
    {
     "data": {
      "image/png": "[encoded data removed]",
      "text/plain": [
       "<Figure size 432x288 with 1 Axes>"
      ]
     },
     "metadata": {
      "needs_background": "light"
     },
     "output_type": "display_data"
    }
   ],
   "source": [
    "plot_accuracy(history)"
   ]
  },
  {
   "cell_type": "markdown",
   "id": "1b85b41b",
   "metadata": {},
   "source": [
    "#### Same setup, but using SGD optimizer"
   ]
  },
  {
   "cell_type": "code",
   "execution_count": 22,
   "id": "1e654892",
   "metadata": {},
   "outputs": [],
   "source": [
    "# Same setup as Setup 1 but different compiler. Compiler optimizer is SGD\n",
    "\n",
    "model_vgg16.compile(optimizer=keras.optimizers.SGD(),\n",
    "    loss = keras.losses.CategoricalCrossentropy(from_logits=True) , metrics = [keras.metrics.CategoricalAccuracy()])"
   ]
  },
  {
   "cell_type": "code",
   "execution_count": 23,
   "id": "9b802afe",
   "metadata": {},
   "outputs": [
    {
     "name": "stdout",
     "output_type": "stream",
     "text": [
      "Epoch 1/100\n",
      "8/8 [==============================] - 12s 1s/step - loss: 1.1591 - categorical_accuracy: 0.8350 - val_loss: 1.2698 - val_categorical_accuracy: 0.7600\n",
      "Epoch 2/100\n",
      "8/8 [==============================] - 11s 1s/step - loss: 1.1633 - categorical_accuracy: 0.8450 - val_loss: 1.2700 - val_categorical_accuracy: 0.7600\n",
      "Epoch 3/100\n",
      "8/8 [==============================] - 12s 1s/step - loss: 1.1635 - categorical_accuracy: 0.8450 - val_loss: 1.2699 - val_categorical_accuracy: 0.7400\n",
      "Epoch 4/100\n",
      "8/8 [==============================] - 11s 1s/step - loss: 1.1624 - categorical_accuracy: 0.8450 - val_loss: 1.2694 - val_categorical_accuracy: 0.7400\n",
      "Epoch 5/100\n",
      "8/8 [==============================] - 11s 1s/step - loss: 1.1590 - categorical_accuracy: 0.8400 - val_loss: 1.2698 - val_categorical_accuracy: 0.7600\n",
      "Epoch 6/100\n",
      "8/8 [==============================] - 12s 1s/step - loss: 1.1618 - categorical_accuracy: 0.8400 - val_loss: 1.2699 - val_categorical_accuracy: 0.7600\n",
      "Epoch 7/100\n",
      "8/8 [==============================] - 12s 1s/step - loss: 1.1657 - categorical_accuracy: 0.8500 - val_loss: 1.2699 - val_categorical_accuracy: 0.7600\n",
      "Epoch 8/100\n",
      "8/8 [==============================] - 11s 1s/step - loss: 1.1543 - categorical_accuracy: 0.8600 - val_loss: 1.2698 - val_categorical_accuracy: 0.7600\n",
      "Epoch 9/100\n",
      "8/8 [==============================] - 12s 1s/step - loss: 1.1650 - categorical_accuracy: 0.8500 - val_loss: 1.2696 - val_categorical_accuracy: 0.7600\n",
      "Epoch 10/100\n",
      "8/8 [==============================] - 12s 1s/step - loss: 1.1599 - categorical_accuracy: 0.8300 - val_loss: 1.2695 - val_categorical_accuracy: 0.7600\n",
      "Epoch 11/100\n",
      "8/8 [==============================] - 12s 1s/step - loss: 1.1584 - categorical_accuracy: 0.8700 - val_loss: 1.2694 - val_categorical_accuracy: 0.7600\n",
      "Epoch 12/100\n",
      "8/8 [==============================] - 11s 1s/step - loss: 1.1648 - categorical_accuracy: 0.8400 - val_loss: 1.2692 - val_categorical_accuracy: 0.7400\n",
      "Epoch 13/100\n",
      "8/8 [==============================] - 12s 2s/step - loss: 1.1595 - categorical_accuracy: 0.8700 - val_loss: 1.2688 - val_categorical_accuracy: 0.7400\n",
      "Epoch 14/100\n",
      "8/8 [==============================] - 13s 2s/step - loss: 1.1590 - categorical_accuracy: 0.8300 - val_loss: 1.2689 - val_categorical_accuracy: 0.7600\n",
      "Epoch 15/100\n",
      "8/8 [==============================] - 11s 1s/step - loss: 1.1597 - categorical_accuracy: 0.8500 - val_loss: 1.2693 - val_categorical_accuracy: 0.7600\n",
      "Epoch 16/100\n",
      "8/8 [==============================] - 12s 2s/step - loss: 1.1633 - categorical_accuracy: 0.8450 - val_loss: 1.2691 - val_categorical_accuracy: 0.7600\n",
      "Epoch 17/100\n",
      "8/8 [==============================] - 13s 2s/step - loss: 1.1680 - categorical_accuracy: 0.8550 - val_loss: 1.2686 - val_categorical_accuracy: 0.7600\n",
      "Epoch 18/100\n",
      "8/8 [==============================] - 11s 1s/step - loss: 1.1650 - categorical_accuracy: 0.8500 - val_loss: 1.2684 - val_categorical_accuracy: 0.7600\n",
      "Epoch 19/100\n",
      "8/8 [==============================] - 12s 1s/step - loss: 1.1647 - categorical_accuracy: 0.8500 - val_loss: 1.2685 - val_categorical_accuracy: 0.7600\n",
      "Epoch 20/100\n",
      "8/8 [==============================] - 11s 1s/step - loss: 1.1654 - categorical_accuracy: 0.8400 - val_loss: 1.2686 - val_categorical_accuracy: 0.7600\n",
      "Epoch 21/100\n",
      "8/8 [==============================] - 12s 2s/step - loss: 1.1607 - categorical_accuracy: 0.8400 - val_loss: 1.2689 - val_categorical_accuracy: 0.7600\n",
      "Epoch 22/100\n",
      "8/8 [==============================] - 12s 2s/step - loss: 1.1618 - categorical_accuracy: 0.8650 - val_loss: 1.2696 - val_categorical_accuracy: 0.7600\n",
      "Epoch 23/100\n",
      "8/8 [==============================] - 12s 2s/step - loss: 1.1650 - categorical_accuracy: 0.8500 - val_loss: 1.2695 - val_categorical_accuracy: 0.7600\n",
      "Epoch 24/100\n",
      "8/8 [==============================] - 13s 2s/step - loss: 1.1666 - categorical_accuracy: 0.8550 - val_loss: 1.2695 - val_categorical_accuracy: 0.7600\n",
      "Epoch 25/100\n",
      "8/8 [==============================] - 12s 2s/step - loss: 1.1722 - categorical_accuracy: 0.8250 - val_loss: 1.2694 - val_categorical_accuracy: 0.7600\n",
      "Epoch 26/100\n",
      "8/8 [==============================] - 12s 1s/step - loss: 1.1549 - categorical_accuracy: 0.8500 - val_loss: 1.2694 - val_categorical_accuracy: 0.7600\n",
      "Epoch 27/100\n",
      "8/8 [==============================] - 12s 2s/step - loss: 1.1623 - categorical_accuracy: 0.8600 - val_loss: 1.2689 - val_categorical_accuracy: 0.7600\n",
      "Epoch 28/100\n",
      "8/8 [==============================] - 12s 2s/step - loss: 1.1690 - categorical_accuracy: 0.8250 - val_loss: 1.2686 - val_categorical_accuracy: 0.7600\n",
      "Epoch 29/100\n",
      "8/8 [==============================] - 10s 1s/step - loss: 1.1692 - categorical_accuracy: 0.8300 - val_loss: 1.2684 - val_categorical_accuracy: 0.7600\n",
      "Epoch 30/100\n",
      "8/8 [==============================] - 10s 1s/step - loss: 1.1670 - categorical_accuracy: 0.8550 - val_loss: 1.2686 - val_categorical_accuracy: 0.7600\n",
      "Epoch 31/100\n",
      "8/8 [==============================] - 10s 1s/step - loss: 1.1707 - categorical_accuracy: 0.8150 - val_loss: 1.2685 - val_categorical_accuracy: 0.7600\n",
      "Epoch 32/100\n",
      "8/8 [==============================] - 10s 1s/step - loss: 1.1541 - categorical_accuracy: 0.8550 - val_loss: 1.2683 - val_categorical_accuracy: 0.7600\n",
      "Epoch 33/100\n",
      "8/8 [==============================] - 10s 1s/step - loss: 1.1644 - categorical_accuracy: 0.8650 - val_loss: 1.2683 - val_categorical_accuracy: 0.7400\n",
      "Epoch 34/100\n",
      "8/8 [==============================] - 10s 1s/step - loss: 1.1562 - categorical_accuracy: 0.8550 - val_loss: 1.2680 - val_categorical_accuracy: 0.7400\n",
      "Epoch 35/100\n",
      "8/8 [==============================] - 11s 1s/step - loss: 1.1579 - categorical_accuracy: 0.8500 - val_loss: 1.2679 - val_categorical_accuracy: 0.7400\n",
      "Epoch 36/100\n",
      "8/8 [==============================] - 12s 2s/step - loss: 1.1614 - categorical_accuracy: 0.8700 - val_loss: 1.2681 - val_categorical_accuracy: 0.7600\n",
      "Epoch 37/100\n",
      "8/8 [==============================] - 12s 2s/step - loss: 1.1538 - categorical_accuracy: 0.8550 - val_loss: 1.2683 - val_categorical_accuracy: 0.7600\n",
      "Epoch 38/100\n",
      "8/8 [==============================] - 12s 1s/step - loss: 1.1596 - categorical_accuracy: 0.8450 - val_loss: 1.2681 - val_categorical_accuracy: 0.7600\n",
      "Epoch 39/100\n",
      "8/8 [==============================] - 12s 1s/step - loss: 1.1570 - categorical_accuracy: 0.8650 - val_loss: 1.2681 - val_categorical_accuracy: 0.7600\n",
      "Epoch 40/100\n",
      "8/8 [==============================] - 12s 1s/step - loss: 1.1615 - categorical_accuracy: 0.8300 - val_loss: 1.2680 - val_categorical_accuracy: 0.7600\n",
      "Epoch 41/100\n",
      "8/8 [==============================] - 12s 1s/step - loss: 1.1590 - categorical_accuracy: 0.8500 - val_loss: 1.2678 - val_categorical_accuracy: 0.7600\n",
      "Epoch 42/100\n",
      "8/8 [==============================] - 12s 1s/step - loss: 1.1541 - categorical_accuracy: 0.8450 - val_loss: 1.2676 - val_categorical_accuracy: 0.7600\n",
      "Epoch 43/100\n",
      "8/8 [==============================] - 12s 2s/step - loss: 1.1662 - categorical_accuracy: 0.8350 - val_loss: 1.2676 - val_categorical_accuracy: 0.7600\n",
      "Epoch 44/100\n",
      "8/8 [==============================] - 12s 2s/step - loss: 1.1618 - categorical_accuracy: 0.8450 - val_loss: 1.2678 - val_categorical_accuracy: 0.7600\n",
      "Epoch 45/100\n",
      "8/8 [==============================] - 12s 1s/step - loss: 1.1512 - categorical_accuracy: 0.8700 - val_loss: 1.2676 - val_categorical_accuracy: 0.7400\n",
      "Epoch 46/100\n",
      "8/8 [==============================] - 12s 2s/step - loss: 1.1625 - categorical_accuracy: 0.8350 - val_loss: 1.2678 - val_categorical_accuracy: 0.7400\n",
      "Epoch 47/100\n",
      "8/8 [==============================] - 12s 1s/step - loss: 1.1532 - categorical_accuracy: 0.8650 - val_loss: 1.2681 - val_categorical_accuracy: 0.7400\n",
      "Epoch 48/100\n",
      "8/8 [==============================] - 12s 1s/step - loss: 1.1613 - categorical_accuracy: 0.8500 - val_loss: 1.2679 - val_categorical_accuracy: 0.7400\n",
      "Epoch 49/100\n",
      "8/8 [==============================] - 11s 1s/step - loss: 1.1623 - categorical_accuracy: 0.8500 - val_loss: 1.2677 - val_categorical_accuracy: 0.7600\n",
      "Epoch 50/100\n",
      "8/8 [==============================] - 12s 2s/step - loss: 1.1611 - categorical_accuracy: 0.8450 - val_loss: 1.2677 - val_categorical_accuracy: 0.7600\n",
      "Epoch 51/100\n"
     ]
    },
    {
     "name": "stdout",
     "output_type": "stream",
     "text": [
      "8/8 [==============================] - 12s 1s/step - loss: 1.1597 - categorical_accuracy: 0.8250 - val_loss: 1.2679 - val_categorical_accuracy: 0.7600\n",
      "Epoch 52/100\n",
      "8/8 [==============================] - 12s 1s/step - loss: 1.1562 - categorical_accuracy: 0.8600 - val_loss: 1.2677 - val_categorical_accuracy: 0.7400\n",
      "Epoch 53/100\n",
      "8/8 [==============================] - 11s 1s/step - loss: 1.1596 - categorical_accuracy: 0.8450 - val_loss: 1.2676 - val_categorical_accuracy: 0.7400\n",
      "Epoch 54/100\n",
      "8/8 [==============================] - 12s 2s/step - loss: 1.1649 - categorical_accuracy: 0.8250 - val_loss: 1.2676 - val_categorical_accuracy: 0.7400\n",
      "Epoch 55/100\n",
      "8/8 [==============================] - 12s 2s/step - loss: 1.1670 - categorical_accuracy: 0.8300 - val_loss: 1.2674 - val_categorical_accuracy: 0.7400\n",
      "Epoch 56/100\n",
      "8/8 [==============================] - 12s 1s/step - loss: 1.1573 - categorical_accuracy: 0.8650 - val_loss: 1.2679 - val_categorical_accuracy: 0.7400\n",
      "Epoch 57/100\n",
      "8/8 [==============================] - 12s 1s/step - loss: 1.1553 - categorical_accuracy: 0.8550 - val_loss: 1.2677 - val_categorical_accuracy: 0.7400\n",
      "Epoch 58/100\n",
      "8/8 [==============================] - 12s 1s/step - loss: 1.1589 - categorical_accuracy: 0.8550 - val_loss: 1.2675 - val_categorical_accuracy: 0.7600\n",
      "Epoch 59/100\n",
      "8/8 [==============================] - 11s 1s/step - loss: 1.1611 - categorical_accuracy: 0.8350 - val_loss: 1.2677 - val_categorical_accuracy: 0.7600\n",
      "Epoch 60/100\n",
      "8/8 [==============================] - 12s 1s/step - loss: 1.1631 - categorical_accuracy: 0.8600 - val_loss: 1.2677 - val_categorical_accuracy: 0.7600\n",
      "Epoch 61/100\n",
      "8/8 [==============================] - 12s 1s/step - loss: 1.1593 - categorical_accuracy: 0.8450 - val_loss: 1.2673 - val_categorical_accuracy: 0.7600\n",
      "Epoch 62/100\n",
      "8/8 [==============================] - 12s 1s/step - loss: 1.1593 - categorical_accuracy: 0.8700 - val_loss: 1.2669 - val_categorical_accuracy: 0.7600\n",
      "Epoch 63/100\n",
      "8/8 [==============================] - 11s 1s/step - loss: 1.1559 - categorical_accuracy: 0.8550 - val_loss: 1.2669 - val_categorical_accuracy: 0.7600\n",
      "Epoch 64/100\n",
      "8/8 [==============================] - 12s 1s/step - loss: 1.1641 - categorical_accuracy: 0.8300 - val_loss: 1.2668 - val_categorical_accuracy: 0.7600\n",
      "Epoch 65/100\n",
      "8/8 [==============================] - 13s 2s/step - loss: 1.1680 - categorical_accuracy: 0.8350 - val_loss: 1.2666 - val_categorical_accuracy: 0.7600\n",
      "Epoch 66/100\n",
      "8/8 [==============================] - 11s 1s/step - loss: 1.1559 - categorical_accuracy: 0.8550 - val_loss: 1.2669 - val_categorical_accuracy: 0.7400\n",
      "Epoch 67/100\n",
      "8/8 [==============================] - 11s 1s/step - loss: 1.1578 - categorical_accuracy: 0.8650 - val_loss: 1.2665 - val_categorical_accuracy: 0.7600\n",
      "Epoch 68/100\n",
      "8/8 [==============================] - 12s 1s/step - loss: 1.1614 - categorical_accuracy: 0.8350 - val_loss: 1.2662 - val_categorical_accuracy: 0.7400\n",
      "Epoch 69/100\n",
      "8/8 [==============================] - 11s 1s/step - loss: 1.1622 - categorical_accuracy: 0.8400 - val_loss: 1.2664 - val_categorical_accuracy: 0.7400\n",
      "Epoch 70/100\n",
      "8/8 [==============================] - 12s 1s/step - loss: 1.1628 - categorical_accuracy: 0.8400 - val_loss: 1.2666 - val_categorical_accuracy: 0.7400\n",
      "Epoch 71/100\n",
      "8/8 [==============================] - 12s 1s/step - loss: 1.1662 - categorical_accuracy: 0.8500 - val_loss: 1.2665 - val_categorical_accuracy: 0.7400\n",
      "Epoch 72/100\n",
      "8/8 [==============================] - 12s 2s/step - loss: 1.1607 - categorical_accuracy: 0.8450 - val_loss: 1.2668 - val_categorical_accuracy: 0.7600\n",
      "Epoch 73/100\n",
      "8/8 [==============================] - 12s 2s/step - loss: 1.1580 - categorical_accuracy: 0.8400 - val_loss: 1.2663 - val_categorical_accuracy: 0.7400\n",
      "Epoch 74/100\n",
      "8/8 [==============================] - 12s 1s/step - loss: 1.1619 - categorical_accuracy: 0.8350 - val_loss: 1.2664 - val_categorical_accuracy: 0.7600\n",
      "Epoch 75/100\n",
      "8/8 [==============================] - 12s 1s/step - loss: 1.1526 - categorical_accuracy: 0.8600 - val_loss: 1.2665 - val_categorical_accuracy: 0.7600\n",
      "Epoch 76/100\n",
      "8/8 [==============================] - 12s 1s/step - loss: 1.1600 - categorical_accuracy: 0.8250 - val_loss: 1.2665 - val_categorical_accuracy: 0.7600\n",
      "Epoch 77/100\n",
      "8/8 [==============================] - 12s 2s/step - loss: 1.1570 - categorical_accuracy: 0.8500 - val_loss: 1.2666 - val_categorical_accuracy: 0.7600\n",
      "Epoch 78/100\n",
      "8/8 [==============================] - 13s 2s/step - loss: 1.1590 - categorical_accuracy: 0.8550 - val_loss: 1.2667 - val_categorical_accuracy: 0.7600\n",
      "Epoch 79/100\n",
      "8/8 [==============================] - 12s 1s/step - loss: 1.1603 - categorical_accuracy: 0.8650 - val_loss: 1.2667 - val_categorical_accuracy: 0.7600\n",
      "Epoch 80/100\n",
      "8/8 [==============================] - 12s 2s/step - loss: 1.1576 - categorical_accuracy: 0.8550 - val_loss: 1.2667 - val_categorical_accuracy: 0.7600\n",
      "Epoch 81/100\n",
      "8/8 [==============================] - 12s 1s/step - loss: 1.1583 - categorical_accuracy: 0.8550 - val_loss: 1.2667 - val_categorical_accuracy: 0.7600\n",
      "Epoch 82/100\n",
      "8/8 [==============================] - 12s 1s/step - loss: 1.1619 - categorical_accuracy: 0.8450 - val_loss: 1.2664 - val_categorical_accuracy: 0.7400\n",
      "Epoch 83/100\n",
      "8/8 [==============================] - 12s 1s/step - loss: 1.1581 - categorical_accuracy: 0.8650 - val_loss: 1.2660 - val_categorical_accuracy: 0.7400\n",
      "Epoch 84/100\n",
      "8/8 [==============================] - 11s 1s/step - loss: 1.1502 - categorical_accuracy: 0.8500 - val_loss: 1.2661 - val_categorical_accuracy: 0.7400\n",
      "Epoch 85/100\n",
      "8/8 [==============================] - 11s 1s/step - loss: 1.1652 - categorical_accuracy: 0.8350 - val_loss: 1.2657 - val_categorical_accuracy: 0.7400\n",
      "Epoch 86/100\n",
      "8/8 [==============================] - 12s 1s/step - loss: 1.1584 - categorical_accuracy: 0.8300 - val_loss: 1.2657 - val_categorical_accuracy: 0.7400\n",
      "Epoch 87/100\n",
      "8/8 [==============================] - 12s 1s/step - loss: 1.1622 - categorical_accuracy: 0.8500 - val_loss: 1.2655 - val_categorical_accuracy: 0.7600\n",
      "Epoch 88/100\n",
      "8/8 [==============================] - 12s 1s/step - loss: 1.1610 - categorical_accuracy: 0.8500 - val_loss: 1.2658 - val_categorical_accuracy: 0.7600\n",
      "Epoch 89/100\n",
      "8/8 [==============================] - 11s 1s/step - loss: 1.1619 - categorical_accuracy: 0.8650 - val_loss: 1.2659 - val_categorical_accuracy: 0.7400\n",
      "Epoch 90/100\n",
      "8/8 [==============================] - 12s 2s/step - loss: 1.1542 - categorical_accuracy: 0.8550 - val_loss: 1.2657 - val_categorical_accuracy: 0.7400\n",
      "Epoch 91/100\n",
      "8/8 [==============================] - 12s 1s/step - loss: 1.1636 - categorical_accuracy: 0.8750 - val_loss: 1.2659 - val_categorical_accuracy: 0.7400\n",
      "Epoch 92/100\n",
      "8/8 [==============================] - 13s 2s/step - loss: 1.1581 - categorical_accuracy: 0.8500 - val_loss: 1.2660 - val_categorical_accuracy: 0.7400\n",
      "Epoch 93/100\n",
      "8/8 [==============================] - 12s 2s/step - loss: 1.1563 - categorical_accuracy: 0.8650 - val_loss: 1.2654 - val_categorical_accuracy: 0.7400\n",
      "Epoch 94/100\n",
      "8/8 [==============================] - 11s 1s/step - loss: 1.1551 - categorical_accuracy: 0.8600 - val_loss: 1.2653 - val_categorical_accuracy: 0.7400\n",
      "Epoch 95/100\n",
      "8/8 [==============================] - 12s 1s/step - loss: 1.1586 - categorical_accuracy: 0.8500 - val_loss: 1.2652 - val_categorical_accuracy: 0.7400\n",
      "Epoch 96/100\n",
      "8/8 [==============================] - 12s 1s/step - loss: 1.1602 - categorical_accuracy: 0.8600 - val_loss: 1.2651 - val_categorical_accuracy: 0.7400\n",
      "Epoch 97/100\n",
      "8/8 [==============================] - 12s 2s/step - loss: 1.1553 - categorical_accuracy: 0.8650 - val_loss: 1.2655 - val_categorical_accuracy: 0.7600\n",
      "Epoch 98/100\n",
      "8/8 [==============================] - 12s 2s/step - loss: 1.1578 - categorical_accuracy: 0.8500 - val_loss: 1.2657 - val_categorical_accuracy: 0.7400\n",
      "Epoch 99/100\n",
      "8/8 [==============================] - 12s 1s/step - loss: 1.1592 - categorical_accuracy: 0.8650 - val_loss: 1.2660 - val_categorical_accuracy: 0.7600\n",
      "Epoch 100/100\n",
      "8/8 [==============================] - 12s 2s/step - loss: 1.1556 - categorical_accuracy: 0.8650 - val_loss: 1.2656 - val_categorical_accuracy: 0.7600\n"
     ]
    }
   ],
   "source": [
    "history = model_vgg16.fit(train_it,\n",
    "          validation_data=valid_it,\n",
    "          steps_per_epoch=int(round(train_it.samples/train_it.batch_size)),\n",
    "          validation_steps=valid_it.samples/valid_it.batch_size,\n",
    "          epochs=100)"
   ]
  },
  {
   "cell_type": "code",
   "execution_count": 24,
   "id": "6d2ef404",
   "metadata": {},
   "outputs": [
    {
     "name": "stdout",
     "output_type": "stream",
     "text": [
      "accuracy:  86.1 %\n",
      "val accuracy:  75.2 %\n"
     ]
    }
   ],
   "source": [
    "acc=0\n",
    "v_acc = 0\n",
    "for a in range(-5, 0, 1):\n",
    "    acc = history.history['categorical_accuracy'][a] + acc\n",
    "    v_acc = history.history['val_categorical_accuracy'][a] + v_acc\n",
    "print('accuracy: ', round(acc/5, 4)*100,'%')\n",
    "print('val accuracy: ', round(v_acc/5, 4)*100,'%')"
   ]
  },
  {
   "cell_type": "code",
   "execution_count": 25,
   "id": "f1c75689",
   "metadata": {},
   "outputs": [
    {
     "data": {
      "image/png": "[encoded data removed]",
      "text/plain": [
       "<Figure size 432x288 with 1 Axes>"
      ]
     },
     "metadata": {
      "needs_background": "light"
     },
     "output_type": "display_data"
    }
   ],
   "source": [
    "plot_loss(history)"
   ]
  },
  {
   "cell_type": "code",
   "execution_count": 26,
   "id": "ede1e945",
   "metadata": {},
   "outputs": [
    {
     "data": {
      "image/png": "[encoded data removed]",
      "text/plain": [
       "<Figure size 432x288 with 1 Axes>"
      ]
     },
     "metadata": {
      "needs_background": "light"
     },
     "output_type": "display_data"
    }
   ],
   "source": [
    "plot_accuracy(history)"
   ]
  },
  {
   "cell_type": "markdown",
   "id": "4a136620",
   "metadata": {},
   "source": [
    "#### Same Setup, but use Adam optimizer"
   ]
  },
  {
   "cell_type": "code",
   "execution_count": 27,
   "id": "b8f282f2",
   "metadata": {},
   "outputs": [],
   "source": [
    "# Same setup as Setup 1 but different compiler. Compiler optimizer is ADAM\n",
    "\n",
    "model_vgg16.compile(optimizer=keras.optimizers.Adam(),\n",
    "    loss = keras.losses.CategoricalCrossentropy(from_logits=True) , metrics = [keras.metrics.CategoricalAccuracy()])"
   ]
  },
  {
   "cell_type": "code",
   "execution_count": 28,
   "id": "68b6f8f8",
   "metadata": {},
   "outputs": [
    {
     "name": "stdout",
     "output_type": "stream",
     "text": [
      "Epoch 1/100\n",
      "8/8 [==============================] - 13s 2s/step - loss: 1.1477 - categorical_accuracy: 0.8550 - val_loss: 1.2633 - val_categorical_accuracy: 0.7600\n",
      "Epoch 2/100\n",
      "8/8 [==============================] - 11s 1s/step - loss: 1.1531 - categorical_accuracy: 0.8550 - val_loss: 1.2625 - val_categorical_accuracy: 0.7600\n",
      "Epoch 3/100\n",
      "8/8 [==============================] - 12s 1s/step - loss: 1.1526 - categorical_accuracy: 0.8600 - val_loss: 1.2607 - val_categorical_accuracy: 0.7600\n",
      "Epoch 4/100\n",
      "8/8 [==============================] - 12s 1s/step - loss: 1.1575 - categorical_accuracy: 0.8350 - val_loss: 1.2602 - val_categorical_accuracy: 0.7600\n",
      "Epoch 5/100\n",
      "8/8 [==============================] - 11s 1s/step - loss: 1.1610 - categorical_accuracy: 0.8400 - val_loss: 1.2590 - val_categorical_accuracy: 0.7600\n",
      "Epoch 6/100\n",
      "8/8 [==============================] - 10s 1s/step - loss: 1.1493 - categorical_accuracy: 0.8450 - val_loss: 1.2577 - val_categorical_accuracy: 0.7600\n",
      "Epoch 7/100\n",
      "8/8 [==============================] - 11s 1s/step - loss: 1.1457 - categorical_accuracy: 0.8600 - val_loss: 1.2580 - val_categorical_accuracy: 0.7600\n",
      "Epoch 8/100\n",
      "8/8 [==============================] - 12s 1s/step - loss: 1.1516 - categorical_accuracy: 0.8400 - val_loss: 1.2571 - val_categorical_accuracy: 0.7600\n",
      "Epoch 9/100\n",
      "8/8 [==============================] - 12s 1s/step - loss: 1.1463 - categorical_accuracy: 0.8450 - val_loss: 1.2571 - val_categorical_accuracy: 0.7600\n",
      "Epoch 10/100\n",
      "8/8 [==============================] - 12s 1s/step - loss: 1.1470 - categorical_accuracy: 0.8550 - val_loss: 1.2546 - val_categorical_accuracy: 0.7600\n",
      "Epoch 11/100\n",
      "8/8 [==============================] - 12s 1s/step - loss: 1.1422 - categorical_accuracy: 0.8600 - val_loss: 1.2541 - val_categorical_accuracy: 0.7600\n",
      "Epoch 12/100\n",
      "8/8 [==============================] - 12s 2s/step - loss: 1.1423 - categorical_accuracy: 0.8350 - val_loss: 1.2526 - val_categorical_accuracy: 0.7600\n",
      "Epoch 13/100\n",
      "8/8 [==============================] - 11s 1s/step - loss: 1.1431 - categorical_accuracy: 0.8450 - val_loss: 1.2509 - val_categorical_accuracy: 0.7600\n",
      "Epoch 14/100\n",
      "8/8 [==============================] - 12s 1s/step - loss: 1.1366 - categorical_accuracy: 0.8800 - val_loss: 1.2502 - val_categorical_accuracy: 0.7600\n",
      "Epoch 15/100\n",
      "8/8 [==============================] - 12s 1s/step - loss: 1.1451 - categorical_accuracy: 0.8250 - val_loss: 1.2518 - val_categorical_accuracy: 0.7800\n",
      "Epoch 16/100\n",
      "8/8 [==============================] - 11s 1s/step - loss: 1.1377 - categorical_accuracy: 0.8600 - val_loss: 1.2495 - val_categorical_accuracy: 0.7600\n",
      "Epoch 17/100\n",
      "8/8 [==============================] - 11s 1s/step - loss: 1.1324 - categorical_accuracy: 0.8650 - val_loss: 1.2468 - val_categorical_accuracy: 0.7800\n",
      "Epoch 18/100\n",
      "8/8 [==============================] - 12s 1s/step - loss: 1.1357 - categorical_accuracy: 0.8650 - val_loss: 1.2480 - val_categorical_accuracy: 0.7800\n",
      "Epoch 19/100\n",
      "8/8 [==============================] - 12s 1s/step - loss: 1.1360 - categorical_accuracy: 0.8750 - val_loss: 1.2479 - val_categorical_accuracy: 0.7800\n",
      "Epoch 20/100\n",
      "8/8 [==============================] - 11s 1s/step - loss: 1.1362 - categorical_accuracy: 0.8800 - val_loss: 1.2471 - val_categorical_accuracy: 0.7800\n",
      "Epoch 21/100\n",
      "8/8 [==============================] - 11s 1s/step - loss: 1.1316 - categorical_accuracy: 0.8700 - val_loss: 1.2453 - val_categorical_accuracy: 0.7800\n",
      "Epoch 22/100\n",
      "8/8 [==============================] - 11s 1s/step - loss: 1.1185 - categorical_accuracy: 0.8950 - val_loss: 1.2444 - val_categorical_accuracy: 0.7800\n",
      "Epoch 23/100\n",
      "8/8 [==============================] - 12s 1s/step - loss: 1.1239 - categorical_accuracy: 0.8700 - val_loss: 1.2430 - val_categorical_accuracy: 0.7800\n",
      "Epoch 24/100\n",
      "8/8 [==============================] - 10s 1s/step - loss: 1.1230 - categorical_accuracy: 0.8700 - val_loss: 1.2416 - val_categorical_accuracy: 0.7800\n",
      "Epoch 25/100\n",
      "8/8 [==============================] - 11s 1s/step - loss: 1.1300 - categorical_accuracy: 0.8700 - val_loss: 1.2396 - val_categorical_accuracy: 0.7800\n",
      "Epoch 26/100\n",
      "8/8 [==============================] - 11s 1s/step - loss: 1.1212 - categorical_accuracy: 0.8650 - val_loss: 1.2390 - val_categorical_accuracy: 0.7800\n",
      "Epoch 27/100\n",
      "8/8 [==============================] - 11s 1s/step - loss: 1.1280 - categorical_accuracy: 0.8800 - val_loss: 1.2377 - val_categorical_accuracy: 0.7800\n",
      "Epoch 28/100\n",
      "8/8 [==============================] - 12s 1s/step - loss: 1.1137 - categorical_accuracy: 0.8850 - val_loss: 1.2383 - val_categorical_accuracy: 0.7800\n",
      "Epoch 29/100\n",
      "8/8 [==============================] - 11s 1s/step - loss: 1.1132 - categorical_accuracy: 0.8850 - val_loss: 1.2369 - val_categorical_accuracy: 0.7600\n",
      "Epoch 30/100\n",
      "8/8 [==============================] - 12s 2s/step - loss: 1.1208 - categorical_accuracy: 0.8750 - val_loss: 1.2375 - val_categorical_accuracy: 0.7800\n",
      "Epoch 31/100\n",
      "8/8 [==============================] - 11s 1s/step - loss: 1.1225 - categorical_accuracy: 0.8700 - val_loss: 1.2382 - val_categorical_accuracy: 0.7600\n",
      "Epoch 32/100\n",
      "8/8 [==============================] - 12s 1s/step - loss: 1.1137 - categorical_accuracy: 0.8650 - val_loss: 1.2360 - val_categorical_accuracy: 0.7600\n",
      "Epoch 33/100\n",
      "8/8 [==============================] - 12s 1s/step - loss: 1.1182 - categorical_accuracy: 0.8600 - val_loss: 1.2343 - val_categorical_accuracy: 0.7800\n",
      "Epoch 34/100\n",
      "8/8 [==============================] - 11s 1s/step - loss: 1.1148 - categorical_accuracy: 0.8750 - val_loss: 1.2337 - val_categorical_accuracy: 0.7800\n",
      "Epoch 35/100\n",
      "8/8 [==============================] - 11s 1s/step - loss: 1.1084 - categorical_accuracy: 0.8800 - val_loss: 1.2327 - val_categorical_accuracy: 0.7800\n",
      "Epoch 36/100\n",
      "8/8 [==============================] - 11s 1s/step - loss: 1.1118 - categorical_accuracy: 0.8750 - val_loss: 1.2312 - val_categorical_accuracy: 0.7800\n",
      "Epoch 37/100\n",
      "8/8 [==============================] - 12s 1s/step - loss: 1.1166 - categorical_accuracy: 0.8550 - val_loss: 1.2298 - val_categorical_accuracy: 0.8000\n",
      "Epoch 38/100\n",
      "8/8 [==============================] - 11s 1s/step - loss: 1.1091 - categorical_accuracy: 0.8750 - val_loss: 1.2292 - val_categorical_accuracy: 0.7600\n",
      "Epoch 39/100\n",
      "8/8 [==============================] - 11s 1s/step - loss: 1.1140 - categorical_accuracy: 0.8700 - val_loss: 1.2306 - val_categorical_accuracy: 0.7800\n",
      "Epoch 40/100\n",
      "8/8 [==============================] - 11s 1s/step - loss: 1.1100 - categorical_accuracy: 0.8950 - val_loss: 1.2290 - val_categorical_accuracy: 0.7600\n",
      "Epoch 41/100\n",
      "8/8 [==============================] - 12s 1s/step - loss: 1.1114 - categorical_accuracy: 0.8750 - val_loss: 1.2281 - val_categorical_accuracy: 0.8000\n",
      "Epoch 42/100\n",
      "8/8 [==============================] - 11s 1s/step - loss: 1.1006 - categorical_accuracy: 0.8850 - val_loss: 1.2267 - val_categorical_accuracy: 0.8000\n",
      "Epoch 43/100\n",
      "8/8 [==============================] - 11s 1s/step - loss: 1.1034 - categorical_accuracy: 0.8850 - val_loss: 1.2252 - val_categorical_accuracy: 0.8000\n",
      "Epoch 44/100\n",
      "8/8 [==============================] - 12s 1s/step - loss: 1.0990 - categorical_accuracy: 0.8900 - val_loss: 1.2241 - val_categorical_accuracy: 0.8000\n",
      "Epoch 45/100\n",
      "8/8 [==============================] - 11s 1s/step - loss: 1.1068 - categorical_accuracy: 0.8800 - val_loss: 1.2229 - val_categorical_accuracy: 0.8000\n",
      "Epoch 46/100\n",
      "8/8 [==============================] - 11s 1s/step - loss: 1.1002 - categorical_accuracy: 0.8800 - val_loss: 1.2230 - val_categorical_accuracy: 0.8000\n",
      "Epoch 47/100\n",
      "8/8 [==============================] - 12s 1s/step - loss: 1.1023 - categorical_accuracy: 0.8850 - val_loss: 1.2216 - val_categorical_accuracy: 0.8000\n",
      "Epoch 48/100\n",
      "8/8 [==============================] - 12s 1s/step - loss: 1.1090 - categorical_accuracy: 0.8600 - val_loss: 1.2210 - val_categorical_accuracy: 0.8000\n",
      "Epoch 49/100\n",
      "8/8 [==============================] - 11s 1s/step - loss: 1.1046 - categorical_accuracy: 0.8950 - val_loss: 1.2216 - val_categorical_accuracy: 0.8000\n",
      "Epoch 50/100\n",
      "8/8 [==============================] - 12s 1s/step - loss: 1.1014 - categorical_accuracy: 0.8650 - val_loss: 1.2208 - val_categorical_accuracy: 0.8000\n",
      "Epoch 51/100\n"
     ]
    },
    {
     "name": "stdout",
     "output_type": "stream",
     "text": [
      "8/8 [==============================] - 11s 1s/step - loss: 1.0962 - categorical_accuracy: 0.9000 - val_loss: 1.2196 - val_categorical_accuracy: 0.8000\n",
      "Epoch 52/100\n",
      "8/8 [==============================] - 12s 1s/step - loss: 1.1001 - categorical_accuracy: 0.8800 - val_loss: 1.2183 - val_categorical_accuracy: 0.8000\n",
      "Epoch 53/100\n",
      "8/8 [==============================] - 11s 1s/step - loss: 1.1004 - categorical_accuracy: 0.8850 - val_loss: 1.2193 - val_categorical_accuracy: 0.8000\n",
      "Epoch 54/100\n",
      "8/8 [==============================] - 12s 1s/step - loss: 1.1041 - categorical_accuracy: 0.8650 - val_loss: 1.2184 - val_categorical_accuracy: 0.8000\n",
      "Epoch 55/100\n",
      "8/8 [==============================] - 11s 1s/step - loss: 1.0930 - categorical_accuracy: 0.8850 - val_loss: 1.2171 - val_categorical_accuracy: 0.8000\n",
      "Epoch 56/100\n",
      "8/8 [==============================] - 11s 1s/step - loss: 1.0857 - categorical_accuracy: 0.8900 - val_loss: 1.2176 - val_categorical_accuracy: 0.8000\n",
      "Epoch 57/100\n",
      "8/8 [==============================] - 12s 1s/step - loss: 1.0942 - categorical_accuracy: 0.8900 - val_loss: 1.2157 - val_categorical_accuracy: 0.8000\n",
      "Epoch 58/100\n",
      "8/8 [==============================] - 12s 1s/step - loss: 1.0973 - categorical_accuracy: 0.9050 - val_loss: 1.2159 - val_categorical_accuracy: 0.8000\n",
      "Epoch 59/100\n",
      "8/8 [==============================] - 11s 1s/step - loss: 1.0898 - categorical_accuracy: 0.8900 - val_loss: 1.2165 - val_categorical_accuracy: 0.8000\n",
      "Epoch 60/100\n",
      "8/8 [==============================] - 11s 1s/step - loss: 1.0874 - categorical_accuracy: 0.9000 - val_loss: 1.2138 - val_categorical_accuracy: 0.8000\n",
      "Epoch 61/100\n",
      "8/8 [==============================] - 12s 1s/step - loss: 1.0829 - categorical_accuracy: 0.9250 - val_loss: 1.2132 - val_categorical_accuracy: 0.8000\n",
      "Epoch 62/100\n",
      "8/8 [==============================] - 11s 1s/step - loss: 1.0874 - categorical_accuracy: 0.8900 - val_loss: 1.2112 - val_categorical_accuracy: 0.8200\n",
      "Epoch 63/100\n",
      "8/8 [==============================] - 12s 1s/step - loss: 1.0930 - categorical_accuracy: 0.8950 - val_loss: 1.2131 - val_categorical_accuracy: 0.8200\n",
      "Epoch 64/100\n",
      "8/8 [==============================] - 11s 1s/step - loss: 1.0871 - categorical_accuracy: 0.9050 - val_loss: 1.2121 - val_categorical_accuracy: 0.8000\n",
      "Epoch 65/100\n",
      "8/8 [==============================] - 12s 1s/step - loss: 1.0977 - categorical_accuracy: 0.8700 - val_loss: 1.2115 - val_categorical_accuracy: 0.8000\n",
      "Epoch 66/100\n",
      "8/8 [==============================] - 11s 1s/step - loss: 1.0789 - categorical_accuracy: 0.9100 - val_loss: 1.2091 - val_categorical_accuracy: 0.8200\n",
      "Epoch 67/100\n",
      "8/8 [==============================] - 11s 1s/step - loss: 1.0801 - categorical_accuracy: 0.9200 - val_loss: 1.2094 - val_categorical_accuracy: 0.8200\n",
      "Epoch 68/100\n",
      "8/8 [==============================] - 12s 1s/step - loss: 1.0855 - categorical_accuracy: 0.8900 - val_loss: 1.2085 - val_categorical_accuracy: 0.8200\n",
      "Epoch 69/100\n",
      "8/8 [==============================] - 12s 1s/step - loss: 1.0799 - categorical_accuracy: 0.9100 - val_loss: 1.2078 - val_categorical_accuracy: 0.8200\n",
      "Epoch 70/100\n",
      "8/8 [==============================] - 12s 1s/step - loss: 1.0847 - categorical_accuracy: 0.8950 - val_loss: 1.2079 - val_categorical_accuracy: 0.8200\n",
      "Epoch 71/100\n",
      "8/8 [==============================] - 10s 1s/step - loss: 1.0797 - categorical_accuracy: 0.8950 - val_loss: 1.2083 - val_categorical_accuracy: 0.8200\n",
      "Epoch 72/100\n",
      "8/8 [==============================] - 12s 1s/step - loss: 1.0834 - categorical_accuracy: 0.9000 - val_loss: 1.2058 - val_categorical_accuracy: 0.8200\n",
      "Epoch 73/100\n",
      "8/8 [==============================] - 12s 1s/step - loss: 1.0803 - categorical_accuracy: 0.9000 - val_loss: 1.2039 - val_categorical_accuracy: 0.8400\n",
      "Epoch 74/100\n",
      "8/8 [==============================] - 11s 1s/step - loss: 1.0845 - categorical_accuracy: 0.9100 - val_loss: 1.2040 - val_categorical_accuracy: 0.8400\n",
      "Epoch 75/100\n",
      "8/8 [==============================] - 11s 1s/step - loss: 1.0856 - categorical_accuracy: 0.9050 - val_loss: 1.2048 - val_categorical_accuracy: 0.8200\n",
      "Epoch 76/100\n",
      "8/8 [==============================] - 12s 1s/step - loss: 1.0830 - categorical_accuracy: 0.8850 - val_loss: 1.2054 - val_categorical_accuracy: 0.8000\n",
      "Epoch 77/100\n",
      "8/8 [==============================] - 12s 1s/step - loss: 1.0796 - categorical_accuracy: 0.9100 - val_loss: 1.2051 - val_categorical_accuracy: 0.8200\n",
      "Epoch 78/100\n",
      "8/8 [==============================] - 11s 1s/step - loss: 1.0730 - categorical_accuracy: 0.9050 - val_loss: 1.2038 - val_categorical_accuracy: 0.8200\n",
      "Epoch 79/100\n",
      "8/8 [==============================] - 11s 1s/step - loss: 1.0721 - categorical_accuracy: 0.9100 - val_loss: 1.2019 - val_categorical_accuracy: 0.8400\n",
      "Epoch 80/100\n",
      "8/8 [==============================] - 12s 1s/step - loss: 1.0740 - categorical_accuracy: 0.9100 - val_loss: 1.2018 - val_categorical_accuracy: 0.8200\n",
      "Epoch 81/100\n",
      "8/8 [==============================] - 11s 1s/step - loss: 1.0810 - categorical_accuracy: 0.8900 - val_loss: 1.2022 - val_categorical_accuracy: 0.8400\n",
      "Epoch 82/100\n",
      "8/8 [==============================] - 11s 1s/step - loss: 1.0734 - categorical_accuracy: 0.9100 - val_loss: 1.2028 - val_categorical_accuracy: 0.8600\n",
      "Epoch 83/100\n",
      "8/8 [==============================] - 11s 1s/step - loss: 1.0790 - categorical_accuracy: 0.8950 - val_loss: 1.2004 - val_categorical_accuracy: 0.8400\n",
      "Epoch 84/100\n",
      "8/8 [==============================] - 11s 1s/step - loss: 1.0740 - categorical_accuracy: 0.9050 - val_loss: 1.1993 - val_categorical_accuracy: 0.8600\n",
      "Epoch 85/100\n",
      "8/8 [==============================] - 11s 1s/step - loss: 1.0666 - categorical_accuracy: 0.9050 - val_loss: 1.1988 - val_categorical_accuracy: 0.8600\n",
      "Epoch 86/100\n",
      "8/8 [==============================] - 11s 1s/step - loss: 1.0667 - categorical_accuracy: 0.9100 - val_loss: 1.1991 - val_categorical_accuracy: 0.8600\n",
      "Epoch 87/100\n",
      "8/8 [==============================] - 12s 1s/step - loss: 1.0683 - categorical_accuracy: 0.9200 - val_loss: 1.1989 - val_categorical_accuracy: 0.8600\n",
      "Epoch 88/100\n",
      "8/8 [==============================] - 12s 1s/step - loss: 1.0699 - categorical_accuracy: 0.9100 - val_loss: 1.1982 - val_categorical_accuracy: 0.8400\n",
      "Epoch 89/100\n",
      "8/8 [==============================] - 11s 1s/step - loss: 1.0649 - categorical_accuracy: 0.9050 - val_loss: 1.1998 - val_categorical_accuracy: 0.8400\n",
      "Epoch 90/100\n",
      "8/8 [==============================] - 12s 1s/step - loss: 1.0745 - categorical_accuracy: 0.9050 - val_loss: 1.1980 - val_categorical_accuracy: 0.8600\n",
      "Epoch 91/100\n",
      "8/8 [==============================] - 12s 1s/step - loss: 1.0714 - categorical_accuracy: 0.9150 - val_loss: 1.1958 - val_categorical_accuracy: 0.8600\n",
      "Epoch 92/100\n",
      "8/8 [==============================] - 11s 1s/step - loss: 1.0694 - categorical_accuracy: 0.9150 - val_loss: 1.1961 - val_categorical_accuracy: 0.8600\n",
      "Epoch 93/100\n",
      "8/8 [==============================] - 11s 1s/step - loss: 1.0668 - categorical_accuracy: 0.9150 - val_loss: 1.1966 - val_categorical_accuracy: 0.8600\n",
      "Epoch 94/100\n",
      "8/8 [==============================] - 12s 1s/step - loss: 1.0656 - categorical_accuracy: 0.9400 - val_loss: 1.1944 - val_categorical_accuracy: 0.8600\n",
      "Epoch 95/100\n",
      "8/8 [==============================] - 12s 1s/step - loss: 1.0704 - categorical_accuracy: 0.9200 - val_loss: 1.1945 - val_categorical_accuracy: 0.8600\n",
      "Epoch 96/100\n",
      "8/8 [==============================] - 10s 1s/step - loss: 1.0738 - categorical_accuracy: 0.9050 - val_loss: 1.1947 - val_categorical_accuracy: 0.8600\n",
      "Epoch 97/100\n",
      "8/8 [==============================] - 12s 1s/step - loss: 1.0610 - categorical_accuracy: 0.9300 - val_loss: 1.1931 - val_categorical_accuracy: 0.8600\n",
      "Epoch 98/100\n",
      "8/8 [==============================] - 11s 1s/step - loss: 1.0645 - categorical_accuracy: 0.9200 - val_loss: 1.1934 - val_categorical_accuracy: 0.8400\n",
      "Epoch 99/100\n",
      "8/8 [==============================] - 12s 2s/step - loss: 1.0681 - categorical_accuracy: 0.9250 - val_loss: 1.1935 - val_categorical_accuracy: 0.8400\n",
      "Epoch 100/100\n",
      "8/8 [==============================] - 11s 1s/step - loss: 1.0615 - categorical_accuracy: 0.9150 - val_loss: 1.1931 - val_categorical_accuracy: 0.8400\n"
     ]
    }
   ],
   "source": [
    "history = model_vgg16.fit(train_it,\n",
    "          validation_data=valid_it,\n",
    "          steps_per_epoch=int(round(train_it.samples/train_it.batch_size)),\n",
    "          validation_steps=valid_it.samples/valid_it.batch_size,\n",
    "          epochs=100)"
   ]
  },
  {
   "cell_type": "code",
   "execution_count": 29,
   "id": "49fbe1ba",
   "metadata": {},
   "outputs": [
    {
     "name": "stdout",
     "output_type": "stream",
     "text": [
      "accuracy:  91.9 %\n",
      "val accuracy:  84.8 %\n"
     ]
    }
   ],
   "source": [
    "acc=0\n",
    "v_acc = 0\n",
    "for a in range(-5, 0, 1):\n",
    "    acc = history.history['categorical_accuracy'][a] + acc\n",
    "    v_acc = history.history['val_categorical_accuracy'][a] + v_acc\n",
    "print('accuracy: ', round(acc/5, 4)*100,'%')\n",
    "print('val accuracy: ', round(v_acc/5, 4)*100,'%')"
   ]
  },
  {
   "cell_type": "code",
   "execution_count": 30,
   "id": "7efb98e5",
   "metadata": {},
   "outputs": [
    {
     "data": {
      "image/png": "[encoded data removed]",
      "text/plain": [
       "<Figure size 432x288 with 1 Axes>"
      ]
     },
     "metadata": {
      "needs_background": "light"
     },
     "output_type": "display_data"
    }
   ],
   "source": [
    "plot_loss(history)"
   ]
  },
  {
   "cell_type": "code",
   "execution_count": 31,
   "id": "c4d73eaa",
   "metadata": {},
   "outputs": [
    {
     "data": {
      "image/png": "[encoded data removed]",
      "text/plain": [
       "<Figure size 432x288 with 1 Axes>"
      ]
     },
     "metadata": {
      "needs_background": "light"
     },
     "output_type": "display_data"
    }
   ],
   "source": [
    "plot_accuracy(history)"
   ]
  },
  {
   "cell_type": "markdown",
   "id": "2311a23e",
   "metadata": {},
   "source": [
    "### Setup 1 with 3 different optimizer (RMSprop, SGD and Adam)\n",
    "#### Results as shown below:\n",
    "                              Training Accuracy      Validation Accuracy\n",
    "                    RMSprop        83.5%                   75.2%\n",
    "                    SGD            86.1%                   75.2%\n",
    "                    ADAM           91.9%                   84.8%\n",
    "*The accuracy is estimated average of the last 5 epoch\n",
    "                             "
   ]
  },
  {
   "cell_type": "markdown",
   "id": "f5dd3c64",
   "metadata": {},
   "source": [
    "### So on Setup 1 experiment, we can say that adam optimizer give us a good results.\n",
    "### Next Step, is we try to add one more dense layer before the output dense layer."
   ]
  },
  {
   "cell_type": "markdown",
   "id": "ba4b98e5",
   "metadata": {},
   "source": [
    "#### Add Dense Layer 512 nodes and activation relu."
   ]
  },
  {
   "cell_type": "code",
   "execution_count": 32,
   "id": "913d634e",
   "metadata": {},
   "outputs": [],
   "source": [
    "# Create inputs with correct shape\n",
    "inputs = keras.Input(shape=(img_x,img_y, 3))\n",
    "\n",
    "x = base_model_vgg16(inputs, training=False)\n",
    "\n",
    "# Add pooling layer or flatten layer\n",
    "x = keras.layers.GlobalAveragePooling2D()(x)\n",
    "x = keras.layers.Dense(512, activation = 'relu')(x)\n",
    "\n",
    "# Add final dense layer\n",
    "outputs = keras.layers.Dense(5, activation = 'softmax')(x)\n",
    "\n",
    "# Combine inputs and outputs to create model\n",
    "model_vgg16_512 = keras.Model(inputs, outputs)\n",
    "\n",
    "model_vgg16_512.compile(optimizer=keras.optimizers.Adam(),\n",
    "                        loss = keras.losses.CategoricalCrossentropy(from_logits=True) , \n",
    "                        metrics = [keras.metrics.CategoricalAccuracy()])"
   ]
  },
  {
   "cell_type": "code",
   "execution_count": 33,
   "id": "5009fd0c",
   "metadata": {},
   "outputs": [
    {
     "name": "stdout",
     "output_type": "stream",
     "text": [
      "Model: \"model_1\"\n",
      "_________________________________________________________________\n",
      "Layer (type)                 Output Shape              Param #   \n",
      "=================================================================\n",
      "input_3 (InputLayer)         [(None, 224, 224, 3)]     0         \n",
      "_________________________________________________________________\n",
      "vgg16 (Model)                (None, 7, 7, 512)         14714688  \n",
      "_________________________________________________________________\n",
      "global_average_pooling2d_1 ( (None, 512)               0         \n",
      "_________________________________________________________________\n",
      "dense_1 (Dense)              (None, 512)               262656    \n",
      "_________________________________________________________________\n",
      "dense_2 (Dense)              (None, 5)                 2565      \n",
      "=================================================================\n",
      "Total params: 14,979,909\n",
      "Trainable params: 265,221\n",
      "Non-trainable params: 14,714,688\n",
      "_________________________________________________________________\n"
     ]
    }
   ],
   "source": [
    "model_vgg16_512.summary()"
   ]
  },
  {
   "cell_type": "code",
   "execution_count": 34,
   "id": "8ed6803f",
   "metadata": {},
   "outputs": [
    {
     "name": "stdout",
     "output_type": "stream",
     "text": [
      "Epoch 1/100\n",
      "8/8 [==============================] - 12s 1s/step - loss: 1.5986 - categorical_accuracy: 0.2650 - val_loss: 1.5412 - val_categorical_accuracy: 0.3600\n",
      "Epoch 2/100\n",
      "8/8 [==============================] - 11s 1s/step - loss: 1.5093 - categorical_accuracy: 0.4700 - val_loss: 1.4874 - val_categorical_accuracy: 0.5000\n",
      "Epoch 3/100\n",
      "8/8 [==============================] - 11s 1s/step - loss: 1.4434 - categorical_accuracy: 0.5950 - val_loss: 1.4361 - val_categorical_accuracy: 0.5600\n",
      "Epoch 4/100\n",
      "8/8 [==============================] - 12s 2s/step - loss: 1.3818 - categorical_accuracy: 0.6150 - val_loss: 1.3960 - val_categorical_accuracy: 0.5600\n",
      "Epoch 5/100\n",
      "8/8 [==============================] - 12s 1s/step - loss: 1.3422 - categorical_accuracy: 0.6500 - val_loss: 1.3738 - val_categorical_accuracy: 0.5600\n",
      "Epoch 6/100\n",
      "8/8 [==============================] - 11s 1s/step - loss: 1.3113 - categorical_accuracy: 0.6550 - val_loss: 1.3482 - val_categorical_accuracy: 0.6000\n",
      "Epoch 7/100\n",
      "8/8 [==============================] - 11s 1s/step - loss: 1.2854 - categorical_accuracy: 0.6650 - val_loss: 1.3341 - val_categorical_accuracy: 0.6200\n",
      "Epoch 8/100\n",
      "8/8 [==============================] - 12s 1s/step - loss: 1.2629 - categorical_accuracy: 0.6900 - val_loss: 1.3383 - val_categorical_accuracy: 0.6200\n",
      "Epoch 9/100\n",
      "8/8 [==============================] - 11s 1s/step - loss: 1.2302 - categorical_accuracy: 0.7400 - val_loss: 1.3128 - val_categorical_accuracy: 0.6200\n",
      "Epoch 10/100\n",
      "8/8 [==============================] - 11s 1s/step - loss: 1.2132 - categorical_accuracy: 0.7650 - val_loss: 1.3040 - val_categorical_accuracy: 0.6200\n",
      "Epoch 11/100\n",
      "8/8 [==============================] - 11s 1s/step - loss: 1.2027 - categorical_accuracy: 0.7550 - val_loss: 1.2805 - val_categorical_accuracy: 0.7000\n",
      "Epoch 12/100\n",
      "8/8 [==============================] - 12s 2s/step - loss: 1.1828 - categorical_accuracy: 0.7900 - val_loss: 1.2631 - val_categorical_accuracy: 0.7000\n",
      "Epoch 13/100\n",
      "8/8 [==============================] - 12s 1s/step - loss: 1.1680 - categorical_accuracy: 0.7850 - val_loss: 1.2595 - val_categorical_accuracy: 0.6800\n",
      "Epoch 14/100\n",
      "8/8 [==============================] - 10s 1s/step - loss: 1.1338 - categorical_accuracy: 0.8300 - val_loss: 1.2411 - val_categorical_accuracy: 0.7800\n",
      "Epoch 15/100\n",
      "8/8 [==============================] - 12s 2s/step - loss: 1.1326 - categorical_accuracy: 0.8450 - val_loss: 1.2311 - val_categorical_accuracy: 0.7600\n",
      "Epoch 16/100\n",
      "8/8 [==============================] - 12s 2s/step - loss: 1.1147 - categorical_accuracy: 0.8450 - val_loss: 1.2148 - val_categorical_accuracy: 0.7600\n",
      "Epoch 17/100\n",
      "8/8 [==============================] - 12s 1s/step - loss: 1.1029 - categorical_accuracy: 0.8700 - val_loss: 1.2167 - val_categorical_accuracy: 0.7800\n",
      "Epoch 18/100\n",
      "8/8 [==============================] - 12s 2s/step - loss: 1.0894 - categorical_accuracy: 0.9050 - val_loss: 1.2018 - val_categorical_accuracy: 0.7800\n",
      "Epoch 19/100\n",
      "8/8 [==============================] - 12s 1s/step - loss: 1.0774 - categorical_accuracy: 0.8800 - val_loss: 1.1906 - val_categorical_accuracy: 0.8400\n",
      "Epoch 20/100\n",
      "8/8 [==============================] - 12s 1s/step - loss: 1.0727 - categorical_accuracy: 0.9000 - val_loss: 1.1837 - val_categorical_accuracy: 0.8000\n",
      "Epoch 21/100\n",
      "8/8 [==============================] - 11s 1s/step - loss: 1.0580 - categorical_accuracy: 0.9200 - val_loss: 1.1779 - val_categorical_accuracy: 0.8400\n",
      "Epoch 22/100\n",
      "8/8 [==============================] - 11s 1s/step - loss: 1.0545 - categorical_accuracy: 0.9050 - val_loss: 1.1696 - val_categorical_accuracy: 0.8400\n",
      "Epoch 23/100\n",
      "8/8 [==============================] - 12s 1s/step - loss: 1.0408 - categorical_accuracy: 0.9100 - val_loss: 1.1764 - val_categorical_accuracy: 0.7600\n",
      "Epoch 24/100\n",
      "8/8 [==============================] - 11s 1s/step - loss: 1.0383 - categorical_accuracy: 0.9250 - val_loss: 1.1529 - val_categorical_accuracy: 0.8400\n",
      "Epoch 25/100\n",
      "8/8 [==============================] - 12s 1s/step - loss: 1.0362 - categorical_accuracy: 0.9250 - val_loss: 1.1507 - val_categorical_accuracy: 0.8400\n",
      "Epoch 26/100\n",
      "8/8 [==============================] - 11s 1s/step - loss: 1.0431 - categorical_accuracy: 0.9050 - val_loss: 1.1457 - val_categorical_accuracy: 0.8600\n",
      "Epoch 27/100\n",
      "8/8 [==============================] - 11s 1s/step - loss: 1.0189 - categorical_accuracy: 0.9250 - val_loss: 1.1628 - val_categorical_accuracy: 0.7800\n",
      "Epoch 28/100\n",
      "8/8 [==============================] - 11s 1s/step - loss: 1.0193 - categorical_accuracy: 0.9300 - val_loss: 1.1429 - val_categorical_accuracy: 0.8600\n",
      "Epoch 29/100\n",
      "8/8 [==============================] - 11s 1s/step - loss: 1.0134 - categorical_accuracy: 0.9300 - val_loss: 1.1538 - val_categorical_accuracy: 0.8200\n",
      "Epoch 30/100\n",
      "8/8 [==============================] - 11s 1s/step - loss: 1.0084 - categorical_accuracy: 0.9300 - val_loss: 1.1358 - val_categorical_accuracy: 0.8600\n",
      "Epoch 31/100\n",
      "8/8 [==============================] - 11s 1s/step - loss: 1.0091 - categorical_accuracy: 0.9400 - val_loss: 1.1506 - val_categorical_accuracy: 0.7800\n",
      "Epoch 32/100\n",
      "8/8 [==============================] - 11s 1s/step - loss: 1.0058 - categorical_accuracy: 0.9350 - val_loss: 1.1431 - val_categorical_accuracy: 0.7800\n",
      "Epoch 33/100\n",
      "8/8 [==============================] - 11s 1s/step - loss: 1.0038 - categorical_accuracy: 0.9550 - val_loss: 1.1199 - val_categorical_accuracy: 0.8800\n",
      "Epoch 34/100\n",
      "8/8 [==============================] - 11s 1s/step - loss: 1.0053 - categorical_accuracy: 0.9300 - val_loss: 1.1457 - val_categorical_accuracy: 0.8000\n",
      "Epoch 35/100\n",
      "8/8 [==============================] - 11s 1s/step - loss: 0.9901 - categorical_accuracy: 0.9600 - val_loss: 1.1213 - val_categorical_accuracy: 0.8800\n",
      "Epoch 36/100\n",
      "8/8 [==============================] - 12s 2s/step - loss: 0.9876 - categorical_accuracy: 0.9450 - val_loss: 1.1128 - val_categorical_accuracy: 0.8800\n",
      "Epoch 37/100\n",
      "8/8 [==============================] - 12s 2s/step - loss: 0.9832 - categorical_accuracy: 0.9550 - val_loss: 1.1319 - val_categorical_accuracy: 0.8200\n",
      "Epoch 38/100\n",
      "8/8 [==============================] - 12s 1s/step - loss: 0.9770 - categorical_accuracy: 0.9750 - val_loss: 1.1201 - val_categorical_accuracy: 0.8400\n",
      "Epoch 39/100\n",
      "8/8 [==============================] - 11s 1s/step - loss: 0.9780 - categorical_accuracy: 0.9750 - val_loss: 1.1220 - val_categorical_accuracy: 0.8200\n",
      "Epoch 40/100\n",
      "8/8 [==============================] - 12s 1s/step - loss: 0.9810 - categorical_accuracy: 0.9500 - val_loss: 1.1165 - val_categorical_accuracy: 0.8400\n",
      "Epoch 41/100\n",
      "8/8 [==============================] - 12s 2s/step - loss: 0.9792 - categorical_accuracy: 0.9650 - val_loss: 1.1232 - val_categorical_accuracy: 0.8000\n",
      "Epoch 42/100\n",
      "8/8 [==============================] - 11s 1s/step - loss: 0.9731 - categorical_accuracy: 0.9750 - val_loss: 1.1166 - val_categorical_accuracy: 0.8200\n",
      "Epoch 43/100\n",
      "8/8 [==============================] - 12s 1s/step - loss: 0.9710 - categorical_accuracy: 0.9550 - val_loss: 1.1103 - val_categorical_accuracy: 0.8600\n",
      "Epoch 44/100\n",
      "8/8 [==============================] - 12s 1s/step - loss: 0.9740 - categorical_accuracy: 0.9600 - val_loss: 1.0905 - val_categorical_accuracy: 0.8800\n",
      "Epoch 45/100\n",
      "8/8 [==============================] - 12s 1s/step - loss: 0.9643 - categorical_accuracy: 0.9700 - val_loss: 1.1060 - val_categorical_accuracy: 0.8800\n",
      "Epoch 46/100\n",
      "8/8 [==============================] - 11s 1s/step - loss: 0.9591 - categorical_accuracy: 0.9750 - val_loss: 1.1169 - val_categorical_accuracy: 0.8200\n",
      "Epoch 47/100\n",
      "8/8 [==============================] - 11s 1s/step - loss: 0.9716 - categorical_accuracy: 0.9750 - val_loss: 1.1079 - val_categorical_accuracy: 0.8400\n",
      "Epoch 48/100\n",
      "8/8 [==============================] - 12s 1s/step - loss: 0.9586 - categorical_accuracy: 0.9800 - val_loss: 1.1006 - val_categorical_accuracy: 0.8400\n",
      "Epoch 49/100\n",
      "8/8 [==============================] - 11s 1s/step - loss: 0.9567 - categorical_accuracy: 0.9700 - val_loss: 1.0964 - val_categorical_accuracy: 0.8400\n",
      "Epoch 50/100\n",
      "8/8 [==============================] - 11s 1s/step - loss: 0.9579 - categorical_accuracy: 0.9800 - val_loss: 1.1455 - val_categorical_accuracy: 0.7800\n",
      "Epoch 51/100\n"
     ]
    },
    {
     "name": "stdout",
     "output_type": "stream",
     "text": [
      "8/8 [==============================] - 12s 1s/step - loss: 0.9636 - categorical_accuracy: 0.9700 - val_loss: 1.1268 - val_categorical_accuracy: 0.7800\n",
      "Epoch 52/100\n",
      "8/8 [==============================] - 11s 1s/step - loss: 0.9683 - categorical_accuracy: 0.9550 - val_loss: 1.1223 - val_categorical_accuracy: 0.8200\n",
      "Epoch 53/100\n",
      "8/8 [==============================] - 11s 1s/step - loss: 0.9537 - categorical_accuracy: 0.9750 - val_loss: 1.1119 - val_categorical_accuracy: 0.8200\n",
      "Epoch 54/100\n",
      "8/8 [==============================] - 13s 2s/step - loss: 0.9518 - categorical_accuracy: 0.9800 - val_loss: 1.1208 - val_categorical_accuracy: 0.8000\n",
      "Epoch 55/100\n",
      "8/8 [==============================] - 12s 1s/step - loss: 0.9453 - categorical_accuracy: 0.9900 - val_loss: 1.0942 - val_categorical_accuracy: 0.8400\n",
      "Epoch 56/100\n",
      "8/8 [==============================] - 11s 1s/step - loss: 0.9512 - categorical_accuracy: 0.9800 - val_loss: 1.1150 - val_categorical_accuracy: 0.8400\n",
      "Epoch 57/100\n",
      "8/8 [==============================] - 11s 1s/step - loss: 0.9508 - categorical_accuracy: 0.9800 - val_loss: 1.1082 - val_categorical_accuracy: 0.8200\n",
      "Epoch 58/100\n",
      "8/8 [==============================] - 12s 1s/step - loss: 0.9526 - categorical_accuracy: 0.9700 - val_loss: 1.1076 - val_categorical_accuracy: 0.8600\n",
      "Epoch 59/100\n",
      "8/8 [==============================] - 12s 1s/step - loss: 0.9414 - categorical_accuracy: 0.9800 - val_loss: 1.0842 - val_categorical_accuracy: 0.8400\n",
      "Epoch 60/100\n",
      "8/8 [==============================] - 11s 1s/step - loss: 0.9435 - categorical_accuracy: 0.9800 - val_loss: 1.1105 - val_categorical_accuracy: 0.8400\n",
      "Epoch 61/100\n",
      "8/8 [==============================] - 11s 1s/step - loss: 0.9385 - categorical_accuracy: 0.9900 - val_loss: 1.0983 - val_categorical_accuracy: 0.8600\n",
      "Epoch 62/100\n",
      "8/8 [==============================] - 12s 1s/step - loss: 0.9465 - categorical_accuracy: 0.9850 - val_loss: 1.0956 - val_categorical_accuracy: 0.8400\n",
      "Epoch 63/100\n",
      "8/8 [==============================] - 12s 1s/step - loss: 0.9432 - categorical_accuracy: 0.9850 - val_loss: 1.1223 - val_categorical_accuracy: 0.8000\n",
      "Epoch 64/100\n",
      "8/8 [==============================] - 11s 1s/step - loss: 0.9447 - categorical_accuracy: 0.9800 - val_loss: 1.0957 - val_categorical_accuracy: 0.8200\n",
      "Epoch 65/100\n",
      "8/8 [==============================] - 11s 1s/step - loss: 0.9454 - categorical_accuracy: 0.9850 - val_loss: 1.0890 - val_categorical_accuracy: 0.8600\n",
      "Epoch 66/100\n",
      "8/8 [==============================] - 12s 1s/step - loss: 0.9421 - categorical_accuracy: 0.9850 - val_loss: 1.0952 - val_categorical_accuracy: 0.8600\n",
      "Epoch 67/100\n",
      "8/8 [==============================] - 12s 1s/step - loss: 0.9354 - categorical_accuracy: 0.9900 - val_loss: 1.1023 - val_categorical_accuracy: 0.8200\n",
      "Epoch 68/100\n",
      "8/8 [==============================] - 12s 1s/step - loss: 0.9409 - categorical_accuracy: 0.9850 - val_loss: 1.0886 - val_categorical_accuracy: 0.8800\n",
      "Epoch 69/100\n",
      "8/8 [==============================] - 12s 1s/step - loss: 0.9350 - categorical_accuracy: 0.9900 - val_loss: 1.1038 - val_categorical_accuracy: 0.8400\n",
      "Epoch 70/100\n",
      "8/8 [==============================] - 11s 1s/step - loss: 0.9314 - categorical_accuracy: 0.9900 - val_loss: 1.0925 - val_categorical_accuracy: 0.8200\n",
      "Epoch 71/100\n",
      "8/8 [==============================] - 12s 1s/step - loss: 0.9308 - categorical_accuracy: 0.9900 - val_loss: 1.0949 - val_categorical_accuracy: 0.8400\n",
      "Epoch 72/100\n",
      "8/8 [==============================] - 11s 1s/step - loss: 0.9311 - categorical_accuracy: 0.9900 - val_loss: 1.0964 - val_categorical_accuracy: 0.8200\n",
      "Epoch 73/100\n",
      "8/8 [==============================] - 12s 1s/step - loss: 0.9311 - categorical_accuracy: 0.9900 - val_loss: 1.0832 - val_categorical_accuracy: 0.8600\n",
      "Epoch 74/100\n",
      "8/8 [==============================] - 11s 1s/step - loss: 0.9313 - categorical_accuracy: 0.9950 - val_loss: 1.0998 - val_categorical_accuracy: 0.8200\n",
      "Epoch 75/100\n",
      "8/8 [==============================] - 11s 1s/step - loss: 0.9299 - categorical_accuracy: 0.9850 - val_loss: 1.0870 - val_categorical_accuracy: 0.8200\n",
      "Epoch 76/100\n",
      "8/8 [==============================] - 11s 1s/step - loss: 0.9269 - categorical_accuracy: 0.9950 - val_loss: 1.0874 - val_categorical_accuracy: 0.8400\n",
      "Epoch 77/100\n",
      "8/8 [==============================] - 12s 1s/step - loss: 0.9266 - categorical_accuracy: 0.9950 - val_loss: 1.0974 - val_categorical_accuracy: 0.8400\n",
      "Epoch 78/100\n",
      "8/8 [==============================] - 11s 1s/step - loss: 0.9320 - categorical_accuracy: 0.9850 - val_loss: 1.1047 - val_categorical_accuracy: 0.8200\n",
      "Epoch 79/100\n",
      "8/8 [==============================] - 12s 1s/step - loss: 0.9316 - categorical_accuracy: 0.9850 - val_loss: 1.1306 - val_categorical_accuracy: 0.7800\n",
      "Epoch 80/100\n",
      "8/8 [==============================] - 12s 1s/step - loss: 0.9283 - categorical_accuracy: 0.9900 - val_loss: 1.1137 - val_categorical_accuracy: 0.8200\n",
      "Epoch 81/100\n",
      "8/8 [==============================] - 11s 1s/step - loss: 0.9403 - categorical_accuracy: 0.9850 - val_loss: 1.0894 - val_categorical_accuracy: 0.8600\n",
      "Epoch 82/100\n",
      "8/8 [==============================] - 11s 1s/step - loss: 0.9251 - categorical_accuracy: 0.9950 - val_loss: 1.0816 - val_categorical_accuracy: 0.8400\n",
      "Epoch 83/100\n",
      "8/8 [==============================] - 12s 1s/step - loss: 0.9262 - categorical_accuracy: 0.9950 - val_loss: 1.0844 - val_categorical_accuracy: 0.8400\n",
      "Epoch 84/100\n",
      "8/8 [==============================] - 11s 1s/step - loss: 0.9242 - categorical_accuracy: 0.9950 - val_loss: 1.0807 - val_categorical_accuracy: 0.8400\n",
      "Epoch 85/100\n",
      "8/8 [==============================] - 11s 1s/step - loss: 0.9235 - categorical_accuracy: 0.9950 - val_loss: 1.0849 - val_categorical_accuracy: 0.8600\n",
      "Epoch 86/100\n",
      "8/8 [==============================] - 12s 1s/step - loss: 0.9224 - categorical_accuracy: 0.9950 - val_loss: 1.0894 - val_categorical_accuracy: 0.8400\n",
      "Epoch 87/100\n",
      "8/8 [==============================] - 12s 2s/step - loss: 0.9280 - categorical_accuracy: 0.9900 - val_loss: 1.1052 - val_categorical_accuracy: 0.8200\n",
      "Epoch 88/100\n",
      "8/8 [==============================] - 11s 1s/step - loss: 0.9255 - categorical_accuracy: 0.9950 - val_loss: 1.0818 - val_categorical_accuracy: 0.8800\n",
      "Epoch 89/100\n",
      "8/8 [==============================] - 12s 1s/step - loss: 0.9283 - categorical_accuracy: 0.9900 - val_loss: 1.1152 - val_categorical_accuracy: 0.8400\n",
      "Epoch 90/100\n",
      "8/8 [==============================] - 12s 1s/step - loss: 0.9269 - categorical_accuracy: 0.9900 - val_loss: 1.0823 - val_categorical_accuracy: 0.8200\n",
      "Epoch 91/100\n",
      "8/8 [==============================] - 12s 1s/step - loss: 0.9179 - categorical_accuracy: 1.0000 - val_loss: 1.0820 - val_categorical_accuracy: 0.8400\n",
      "Epoch 92/100\n",
      "8/8 [==============================] - 11s 1s/step - loss: 0.9218 - categorical_accuracy: 0.9950 - val_loss: 1.1036 - val_categorical_accuracy: 0.8400\n",
      "Epoch 93/100\n",
      "8/8 [==============================] - 12s 2s/step - loss: 0.9260 - categorical_accuracy: 0.9900 - val_loss: 1.0856 - val_categorical_accuracy: 0.8600\n",
      "Epoch 94/100\n",
      "8/8 [==============================] - 12s 1s/step - loss: 0.9254 - categorical_accuracy: 0.9950 - val_loss: 1.1086 - val_categorical_accuracy: 0.8400\n",
      "Epoch 95/100\n",
      "8/8 [==============================] - 11s 1s/step - loss: 0.9221 - categorical_accuracy: 0.9950 - val_loss: 1.0864 - val_categorical_accuracy: 0.8200\n",
      "Epoch 96/100\n",
      "8/8 [==============================] - 12s 1s/step - loss: 0.9225 - categorical_accuracy: 0.9950 - val_loss: 1.0848 - val_categorical_accuracy: 0.8400\n",
      "Epoch 97/100\n",
      "8/8 [==============================] - 12s 1s/step - loss: 0.9237 - categorical_accuracy: 0.9900 - val_loss: 1.1020 - val_categorical_accuracy: 0.8200\n",
      "Epoch 98/100\n",
      "8/8 [==============================] - 12s 2s/step - loss: 0.9204 - categorical_accuracy: 0.9950 - val_loss: 1.0836 - val_categorical_accuracy: 0.8400\n",
      "Epoch 99/100\n",
      "8/8 [==============================] - 11s 1s/step - loss: 0.9214 - categorical_accuracy: 0.9900 - val_loss: 1.0816 - val_categorical_accuracy: 0.8600\n",
      "Epoch 100/100\n",
      "8/8 [==============================] - 12s 2s/step - loss: 0.9174 - categorical_accuracy: 0.9950 - val_loss: 1.0908 - val_categorical_accuracy: 0.8400\n"
     ]
    }
   ],
   "source": [
    "history = model_vgg16_512.fit(train_it,\n",
    "          validation_data=valid_it,\n",
    "          steps_per_epoch=int(round(train_it.samples/train_it.batch_size)),\n",
    "          validation_steps=valid_it.samples/valid_it.batch_size,\n",
    "          epochs=100)"
   ]
  },
  {
   "cell_type": "code",
   "execution_count": 35,
   "id": "82b8e54b",
   "metadata": {},
   "outputs": [
    {
     "name": "stdout",
     "output_type": "stream",
     "text": [
      "accuracy:  99.3 %\n",
      "val accuracy:  84.0 %\n"
     ]
    }
   ],
   "source": [
    "acc=0\n",
    "v_acc = 0\n",
    "for a in range(-5, 0, 1):\n",
    "    acc = history.history['categorical_accuracy'][a] + acc\n",
    "    v_acc = history.history['val_categorical_accuracy'][a] + v_acc\n",
    "print('accuracy: ', round(acc/5, 4)*100,'%')\n",
    "print('val accuracy: ', round(v_acc/5, 4)*100,'%')"
   ]
  },
  {
   "cell_type": "code",
   "execution_count": 36,
   "id": "0fb6ede6",
   "metadata": {},
   "outputs": [
    {
     "data": {
      "image/png": "[encoded data removed]",
      "text/plain": [
       "<Figure size 432x288 with 1 Axes>"
      ]
     },
     "metadata": {
      "needs_background": "light"
     },
     "output_type": "display_data"
    }
   ],
   "source": [
    "plot_loss(history)"
   ]
  },
  {
   "cell_type": "code",
   "execution_count": 37,
   "id": "68090ac0",
   "metadata": {},
   "outputs": [
    {
     "data": {
      "image/png": "[encoded data removed]",
      "text/plain": [
       "<Figure size 432x288 with 1 Axes>"
      ]
     },
     "metadata": {
      "needs_background": "light"
     },
     "output_type": "display_data"
    }
   ],
   "source": [
    "plot_accuracy(history)"
   ]
  },
  {
   "cell_type": "markdown",
   "id": "d527a2d4",
   "metadata": {},
   "source": [
    "#### Add Dense Layer 256 nodes and activation relu."
   ]
  },
  {
   "cell_type": "code",
   "execution_count": 38,
   "id": "34434fe2",
   "metadata": {},
   "outputs": [],
   "source": [
    "# Create inputs with correct shape\n",
    "inputs = keras.Input(shape=(img_x,img_y, 3))\n",
    "\n",
    "x = base_model_vgg16(inputs, training=False)\n",
    "\n",
    "# Add pooling layer or flatten layer\n",
    "x = keras.layers.GlobalAveragePooling2D()(x)\n",
    "x = keras.layers.Dense(256, activation = 'relu')(x)\n",
    "\n",
    "# Add final dense layer\n",
    "outputs = keras.layers.Dense(5, activation = 'softmax')(x)\n",
    "\n",
    "# Combine inputs and outputs to create model\n",
    "model_vgg16_256 = keras.Model(inputs, outputs)\n",
    "\n",
    "model_vgg16_256.compile(optimizer=keras.optimizers.Adam(),\n",
    "                        loss = keras.losses.CategoricalCrossentropy(from_logits=True) , \n",
    "                        metrics = [keras.metrics.CategoricalAccuracy()])"
   ]
  },
  {
   "cell_type": "code",
   "execution_count": 39,
   "id": "49c91c24",
   "metadata": {},
   "outputs": [
    {
     "name": "stdout",
     "output_type": "stream",
     "text": [
      "Model: \"model_2\"\n",
      "_________________________________________________________________\n",
      "Layer (type)                 Output Shape              Param #   \n",
      "=================================================================\n",
      "input_4 (InputLayer)         [(None, 224, 224, 3)]     0         \n",
      "_________________________________________________________________\n",
      "vgg16 (Model)                (None, 7, 7, 512)         14714688  \n",
      "_________________________________________________________________\n",
      "global_average_pooling2d_2 ( (None, 512)               0         \n",
      "_________________________________________________________________\n",
      "dense_3 (Dense)              (None, 256)               131328    \n",
      "_________________________________________________________________\n",
      "dense_4 (Dense)              (None, 5)                 1285      \n",
      "=================================================================\n",
      "Total params: 14,847,301\n",
      "Trainable params: 132,613\n",
      "Non-trainable params: 14,714,688\n",
      "_________________________________________________________________\n"
     ]
    }
   ],
   "source": [
    "model_vgg16_256.summary()"
   ]
  },
  {
   "cell_type": "code",
   "execution_count": 40,
   "id": "9ca55feb",
   "metadata": {},
   "outputs": [
    {
     "name": "stdout",
     "output_type": "stream",
     "text": [
      "Epoch 1/100\n",
      "8/8 [==============================] - 12s 1s/step - loss: 1.6012 - categorical_accuracy: 0.2500 - val_loss: 1.5620 - val_categorical_accuracy: 0.3800\n",
      "Epoch 2/100\n",
      "8/8 [==============================] - 11s 1s/step - loss: 1.5422 - categorical_accuracy: 0.4550 - val_loss: 1.5101 - val_categorical_accuracy: 0.5000\n",
      "Epoch 3/100\n",
      "8/8 [==============================] - 11s 1s/step - loss: 1.4881 - categorical_accuracy: 0.5100 - val_loss: 1.4637 - val_categorical_accuracy: 0.5000\n",
      "Epoch 4/100\n",
      "8/8 [==============================] - 12s 1s/step - loss: 1.4263 - categorical_accuracy: 0.6050 - val_loss: 1.4356 - val_categorical_accuracy: 0.5000\n",
      "Epoch 5/100\n",
      "8/8 [==============================] - 12s 2s/step - loss: 1.3965 - categorical_accuracy: 0.6000 - val_loss: 1.3994 - val_categorical_accuracy: 0.5400\n",
      "Epoch 6/100\n",
      "8/8 [==============================] - 11s 1s/step - loss: 1.3677 - categorical_accuracy: 0.5900 - val_loss: 1.3811 - val_categorical_accuracy: 0.5400\n",
      "Epoch 7/100\n",
      "8/8 [==============================] - 12s 1s/step - loss: 1.3215 - categorical_accuracy: 0.6600 - val_loss: 1.3704 - val_categorical_accuracy: 0.6000\n",
      "Epoch 8/100\n",
      "8/8 [==============================] - 11s 1s/step - loss: 1.3031 - categorical_accuracy: 0.6700 - val_loss: 1.3482 - val_categorical_accuracy: 0.5800\n",
      "Epoch 9/100\n",
      "8/8 [==============================] - 11s 1s/step - loss: 1.2849 - categorical_accuracy: 0.6750 - val_loss: 1.3342 - val_categorical_accuracy: 0.6000\n",
      "Epoch 10/100\n",
      "8/8 [==============================] - 13s 2s/step - loss: 1.2819 - categorical_accuracy: 0.6800 - val_loss: 1.3375 - val_categorical_accuracy: 0.5600\n",
      "Epoch 11/100\n",
      "8/8 [==============================] - 12s 2s/step - loss: 1.2614 - categorical_accuracy: 0.6800 - val_loss: 1.3151 - val_categorical_accuracy: 0.6000\n",
      "Epoch 12/100\n",
      "8/8 [==============================] - 12s 1s/step - loss: 1.2550 - categorical_accuracy: 0.6750 - val_loss: 1.3168 - val_categorical_accuracy: 0.6000\n",
      "Epoch 13/100\n",
      "8/8 [==============================] - 11s 1s/step - loss: 1.2308 - categorical_accuracy: 0.7250 - val_loss: 1.3038 - val_categorical_accuracy: 0.6400\n",
      "Epoch 14/100\n",
      "8/8 [==============================] - 12s 1s/step - loss: 1.2183 - categorical_accuracy: 0.7350 - val_loss: 1.2976 - val_categorical_accuracy: 0.6200\n",
      "Epoch 15/100\n",
      "8/8 [==============================] - 11s 1s/step - loss: 1.2137 - categorical_accuracy: 0.7450 - val_loss: 1.2777 - val_categorical_accuracy: 0.7000\n",
      "Epoch 16/100\n",
      "8/8 [==============================] - 11s 1s/step - loss: 1.1863 - categorical_accuracy: 0.7950 - val_loss: 1.2792 - val_categorical_accuracy: 0.6800\n",
      "Epoch 17/100\n",
      "8/8 [==============================] - 12s 1s/step - loss: 1.1885 - categorical_accuracy: 0.7650 - val_loss: 1.2720 - val_categorical_accuracy: 0.6600\n",
      "Epoch 18/100\n",
      "8/8 [==============================] - 12s 1s/step - loss: 1.1578 - categorical_accuracy: 0.8200 - val_loss: 1.2657 - val_categorical_accuracy: 0.6800\n",
      "Epoch 19/100\n",
      "8/8 [==============================] - 12s 1s/step - loss: 1.1461 - categorical_accuracy: 0.8400 - val_loss: 1.2411 - val_categorical_accuracy: 0.7000\n",
      "Epoch 20/100\n",
      "8/8 [==============================] - 11s 1s/step - loss: 1.1330 - categorical_accuracy: 0.8350 - val_loss: 1.2485 - val_categorical_accuracy: 0.6400\n",
      "Epoch 21/100\n",
      "8/8 [==============================] - 11s 1s/step - loss: 1.1303 - categorical_accuracy: 0.8350 - val_loss: 1.2202 - val_categorical_accuracy: 0.7400\n",
      "Epoch 22/100\n",
      "8/8 [==============================] - 12s 1s/step - loss: 1.1168 - categorical_accuracy: 0.8800 - val_loss: 1.2218 - val_categorical_accuracy: 0.7400\n",
      "Epoch 23/100\n",
      "8/8 [==============================] - 12s 1s/step - loss: 1.1075 - categorical_accuracy: 0.8300 - val_loss: 1.2112 - val_categorical_accuracy: 0.7800\n",
      "Epoch 24/100\n",
      "8/8 [==============================] - 12s 1s/step - loss: 1.0994 - categorical_accuracy: 0.8600 - val_loss: 1.1990 - val_categorical_accuracy: 0.7800\n",
      "Epoch 25/100\n",
      "8/8 [==============================] - 12s 1s/step - loss: 1.0829 - categorical_accuracy: 0.8650 - val_loss: 1.1931 - val_categorical_accuracy: 0.7800\n",
      "Epoch 26/100\n",
      "8/8 [==============================] - 12s 2s/step - loss: 1.0716 - categorical_accuracy: 0.9150 - val_loss: 1.1917 - val_categorical_accuracy: 0.8000\n",
      "Epoch 27/100\n",
      "8/8 [==============================] - 11s 1s/step - loss: 1.0625 - categorical_accuracy: 0.9100 - val_loss: 1.1696 - val_categorical_accuracy: 0.8600\n",
      "Epoch 28/100\n",
      "8/8 [==============================] - 12s 1s/step - loss: 1.0560 - categorical_accuracy: 0.9200 - val_loss: 1.1826 - val_categorical_accuracy: 0.7800\n",
      "Epoch 29/100\n",
      "8/8 [==============================] - 12s 1s/step - loss: 1.0570 - categorical_accuracy: 0.9050 - val_loss: 1.1603 - val_categorical_accuracy: 0.8400\n",
      "Epoch 30/100\n",
      "8/8 [==============================] - 12s 1s/step - loss: 1.0485 - categorical_accuracy: 0.9200 - val_loss: 1.1728 - val_categorical_accuracy: 0.7800\n",
      "Epoch 31/100\n",
      "8/8 [==============================] - 11s 1s/step - loss: 1.0438 - categorical_accuracy: 0.9150 - val_loss: 1.1560 - val_categorical_accuracy: 0.8400\n",
      "Epoch 32/100\n",
      "8/8 [==============================] - 12s 1s/step - loss: 1.0428 - categorical_accuracy: 0.9250 - val_loss: 1.1658 - val_categorical_accuracy: 0.8000\n",
      "Epoch 33/100\n",
      "8/8 [==============================] - 12s 1s/step - loss: 1.0412 - categorical_accuracy: 0.9350 - val_loss: 1.1529 - val_categorical_accuracy: 0.8200\n",
      "Epoch 34/100\n",
      "8/8 [==============================] - 11s 1s/step - loss: 1.0333 - categorical_accuracy: 0.9300 - val_loss: 1.1615 - val_categorical_accuracy: 0.8200\n",
      "Epoch 35/100\n",
      "8/8 [==============================] - 12s 1s/step - loss: 1.0288 - categorical_accuracy: 0.9150 - val_loss: 1.1464 - val_categorical_accuracy: 0.8400\n",
      "Epoch 36/100\n",
      "8/8 [==============================] - 12s 2s/step - loss: 1.0173 - categorical_accuracy: 0.9350 - val_loss: 1.1543 - val_categorical_accuracy: 0.8200\n",
      "Epoch 37/100\n",
      "8/8 [==============================] - 11s 1s/step - loss: 1.0090 - categorical_accuracy: 0.9450 - val_loss: 1.1402 - val_categorical_accuracy: 0.8600\n",
      "Epoch 38/100\n",
      "8/8 [==============================] - 11s 1s/step - loss: 1.0160 - categorical_accuracy: 0.9300 - val_loss: 1.1556 - val_categorical_accuracy: 0.8000\n",
      "Epoch 39/100\n",
      "8/8 [==============================] - 12s 1s/step - loss: 1.0110 - categorical_accuracy: 0.9450 - val_loss: 1.1421 - val_categorical_accuracy: 0.8200\n",
      "Epoch 40/100\n",
      "8/8 [==============================] - 12s 1s/step - loss: 1.0068 - categorical_accuracy: 0.9350 - val_loss: 1.1360 - val_categorical_accuracy: 0.8600\n",
      "Epoch 41/100\n",
      "8/8 [==============================] - 11s 1s/step - loss: 1.0104 - categorical_accuracy: 0.9400 - val_loss: 1.1448 - val_categorical_accuracy: 0.8000\n",
      "Epoch 42/100\n",
      "8/8 [==============================] - 11s 1s/step - loss: 1.0071 - categorical_accuracy: 0.9300 - val_loss: 1.1229 - val_categorical_accuracy: 0.8600\n",
      "Epoch 43/100\n",
      "8/8 [==============================] - 11s 1s/step - loss: 0.9944 - categorical_accuracy: 0.9650 - val_loss: 1.1394 - val_categorical_accuracy: 0.7800\n",
      "Epoch 44/100\n",
      "8/8 [==============================] - 11s 1s/step - loss: 1.0043 - categorical_accuracy: 0.9350 - val_loss: 1.1237 - val_categorical_accuracy: 0.8800\n",
      "Epoch 45/100\n",
      "8/8 [==============================] - 11s 1s/step - loss: 0.9941 - categorical_accuracy: 0.9600 - val_loss: 1.1296 - val_categorical_accuracy: 0.8000\n",
      "Epoch 46/100\n",
      "8/8 [==============================] - 12s 1s/step - loss: 0.9820 - categorical_accuracy: 0.9650 - val_loss: 1.1294 - val_categorical_accuracy: 0.8400\n",
      "Epoch 47/100\n",
      "8/8 [==============================] - 12s 1s/step - loss: 0.9838 - categorical_accuracy: 0.9700 - val_loss: 1.1241 - val_categorical_accuracy: 0.8200\n",
      "Epoch 48/100\n",
      "8/8 [==============================] - 11s 1s/step - loss: 0.9973 - categorical_accuracy: 0.9450 - val_loss: 1.1273 - val_categorical_accuracy: 0.8400\n",
      "Epoch 49/100\n",
      "8/8 [==============================] - 10s 1s/step - loss: 0.9906 - categorical_accuracy: 0.9450 - val_loss: 1.1247 - val_categorical_accuracy: 0.7800\n",
      "Epoch 50/100\n",
      "8/8 [==============================] - 11s 1s/step - loss: 0.9814 - categorical_accuracy: 0.9750 - val_loss: 1.1247 - val_categorical_accuracy: 0.8600\n",
      "Epoch 51/100\n"
     ]
    },
    {
     "name": "stdout",
     "output_type": "stream",
     "text": [
      "8/8 [==============================] - 12s 1s/step - loss: 0.9888 - categorical_accuracy: 0.9500 - val_loss: 1.1270 - val_categorical_accuracy: 0.8000\n",
      "Epoch 52/100\n",
      "8/8 [==============================] - 12s 1s/step - loss: 0.9813 - categorical_accuracy: 0.9600 - val_loss: 1.1115 - val_categorical_accuracy: 0.8400\n",
      "Epoch 53/100\n",
      "8/8 [==============================] - 11s 1s/step - loss: 0.9787 - categorical_accuracy: 0.9600 - val_loss: 1.1141 - val_categorical_accuracy: 0.8400\n",
      "Epoch 54/100\n",
      "8/8 [==============================] - 11s 1s/step - loss: 0.9733 - categorical_accuracy: 0.9600 - val_loss: 1.1208 - val_categorical_accuracy: 0.8200\n",
      "Epoch 55/100\n",
      "8/8 [==============================] - 12s 1s/step - loss: 0.9850 - categorical_accuracy: 0.9650 - val_loss: 1.1023 - val_categorical_accuracy: 0.8800\n",
      "Epoch 56/100\n",
      "8/8 [==============================] - 11s 1s/step - loss: 0.9694 - categorical_accuracy: 0.9700 - val_loss: 1.1216 - val_categorical_accuracy: 0.7800\n",
      "Epoch 57/100\n",
      "8/8 [==============================] - 12s 1s/step - loss: 0.9689 - categorical_accuracy: 0.9700 - val_loss: 1.1170 - val_categorical_accuracy: 0.8200\n",
      "Epoch 58/100\n",
      "8/8 [==============================] - 12s 2s/step - loss: 0.9584 - categorical_accuracy: 0.9750 - val_loss: 1.1107 - val_categorical_accuracy: 0.8400\n",
      "Epoch 59/100\n",
      "8/8 [==============================] - 11s 1s/step - loss: 0.9674 - categorical_accuracy: 0.9650 - val_loss: 1.1162 - val_categorical_accuracy: 0.8200\n",
      "Epoch 60/100\n",
      "8/8 [==============================] - 11s 1s/step - loss: 0.9636 - categorical_accuracy: 0.9650 - val_loss: 1.1144 - val_categorical_accuracy: 0.8400\n",
      "Epoch 61/100\n",
      "8/8 [==============================] - 11s 1s/step - loss: 0.9596 - categorical_accuracy: 0.9800 - val_loss: 1.1243 - val_categorical_accuracy: 0.8200\n",
      "Epoch 62/100\n",
      "8/8 [==============================] - 12s 1s/step - loss: 0.9617 - categorical_accuracy: 0.9750 - val_loss: 1.1052 - val_categorical_accuracy: 0.8400\n",
      "Epoch 63/100\n",
      "8/8 [==============================] - 11s 1s/step - loss: 0.9534 - categorical_accuracy: 0.9800 - val_loss: 1.1058 - val_categorical_accuracy: 0.8400\n",
      "Epoch 64/100\n",
      "8/8 [==============================] - 12s 1s/step - loss: 0.9596 - categorical_accuracy: 0.9700 - val_loss: 1.1045 - val_categorical_accuracy: 0.8600\n",
      "Epoch 65/100\n",
      "8/8 [==============================] - 12s 2s/step - loss: 0.9607 - categorical_accuracy: 0.9700 - val_loss: 1.1171 - val_categorical_accuracy: 0.8200\n",
      "Epoch 66/100\n",
      "8/8 [==============================] - 13s 2s/step - loss: 0.9579 - categorical_accuracy: 0.9750 - val_loss: 1.0941 - val_categorical_accuracy: 0.8800\n",
      "Epoch 67/100\n",
      "8/8 [==============================] - 11s 1s/step - loss: 0.9570 - categorical_accuracy: 0.9700 - val_loss: 1.1055 - val_categorical_accuracy: 0.8400\n",
      "Epoch 68/100\n",
      "8/8 [==============================] - 12s 1s/step - loss: 0.9617 - categorical_accuracy: 0.9750 - val_loss: 1.1250 - val_categorical_accuracy: 0.8000\n",
      "Epoch 69/100\n",
      "8/8 [==============================] - 11s 1s/step - loss: 0.9577 - categorical_accuracy: 0.9800 - val_loss: 1.0935 - val_categorical_accuracy: 0.8400\n",
      "Epoch 70/100\n",
      "8/8 [==============================] - 12s 2s/step - loss: 0.9500 - categorical_accuracy: 0.9750 - val_loss: 1.1109 - val_categorical_accuracy: 0.8400\n",
      "Epoch 71/100\n",
      "8/8 [==============================] - 11s 1s/step - loss: 0.9524 - categorical_accuracy: 0.9850 - val_loss: 1.0926 - val_categorical_accuracy: 0.8400\n",
      "Epoch 72/100\n",
      "8/8 [==============================] - 12s 2s/step - loss: 0.9544 - categorical_accuracy: 0.9800 - val_loss: 1.1089 - val_categorical_accuracy: 0.8400\n",
      "Epoch 73/100\n",
      "8/8 [==============================] - 12s 1s/step - loss: 0.9506 - categorical_accuracy: 0.9800 - val_loss: 1.1008 - val_categorical_accuracy: 0.8600\n",
      "Epoch 74/100\n",
      "8/8 [==============================] - 11s 1s/step - loss: 0.9552 - categorical_accuracy: 0.9700 - val_loss: 1.0897 - val_categorical_accuracy: 0.8600\n",
      "Epoch 75/100\n",
      "8/8 [==============================] - 12s 2s/step - loss: 0.9466 - categorical_accuracy: 0.9850 - val_loss: 1.0993 - val_categorical_accuracy: 0.8600\n",
      "Epoch 76/100\n",
      "8/8 [==============================] - 12s 1s/step - loss: 0.9497 - categorical_accuracy: 0.9850 - val_loss: 1.0957 - val_categorical_accuracy: 0.8600\n",
      "Epoch 77/100\n",
      "8/8 [==============================] - 10s 1s/step - loss: 0.9477 - categorical_accuracy: 0.9850 - val_loss: 1.0887 - val_categorical_accuracy: 0.8400\n",
      "Epoch 78/100\n",
      "8/8 [==============================] - 11s 1s/step - loss: 0.9473 - categorical_accuracy: 0.9750 - val_loss: 1.0961 - val_categorical_accuracy: 0.8600\n",
      "Epoch 79/100\n",
      "8/8 [==============================] - 11s 1s/step - loss: 0.9431 - categorical_accuracy: 0.9900 - val_loss: 1.0923 - val_categorical_accuracy: 0.8400\n",
      "Epoch 80/100\n",
      "8/8 [==============================] - 11s 1s/step - loss: 0.9529 - categorical_accuracy: 0.9700 - val_loss: 1.1149 - val_categorical_accuracy: 0.8600\n",
      "Epoch 81/100\n",
      "8/8 [==============================] - 11s 1s/step - loss: 0.9509 - categorical_accuracy: 0.9850 - val_loss: 1.0928 - val_categorical_accuracy: 0.8400\n",
      "Epoch 82/100\n",
      "8/8 [==============================] - 12s 1s/step - loss: 0.9517 - categorical_accuracy: 0.9750 - val_loss: 1.0959 - val_categorical_accuracy: 0.8800\n",
      "Epoch 83/100\n",
      "8/8 [==============================] - 12s 1s/step - loss: 0.9350 - categorical_accuracy: 0.9900 - val_loss: 1.1070 - val_categorical_accuracy: 0.8200\n",
      "Epoch 84/100\n",
      "8/8 [==============================] - 11s 1s/step - loss: 0.9380 - categorical_accuracy: 0.9850 - val_loss: 1.0877 - val_categorical_accuracy: 0.8600\n",
      "Epoch 85/100\n",
      "8/8 [==============================] - 11s 1s/step - loss: 0.9356 - categorical_accuracy: 0.9900 - val_loss: 1.1065 - val_categorical_accuracy: 0.8600\n",
      "Epoch 86/100\n",
      "8/8 [==============================] - 11s 1s/step - loss: 0.9358 - categorical_accuracy: 0.9950 - val_loss: 1.0868 - val_categorical_accuracy: 0.8600\n",
      "Epoch 87/100\n",
      "8/8 [==============================] - 11s 1s/step - loss: 0.9364 - categorical_accuracy: 0.9800 - val_loss: 1.0939 - val_categorical_accuracy: 0.8600\n",
      "Epoch 88/100\n",
      "8/8 [==============================] - 11s 1s/step - loss: 0.9475 - categorical_accuracy: 0.9800 - val_loss: 1.1032 - val_categorical_accuracy: 0.8600\n",
      "Epoch 89/100\n",
      "8/8 [==============================] - 11s 1s/step - loss: 0.9351 - categorical_accuracy: 0.9850 - val_loss: 1.0852 - val_categorical_accuracy: 0.8600\n",
      "Epoch 90/100\n",
      "8/8 [==============================] - 11s 1s/step - loss: 0.9304 - categorical_accuracy: 0.9950 - val_loss: 1.0986 - val_categorical_accuracy: 0.8600\n",
      "Epoch 91/100\n",
      "8/8 [==============================] - 11s 1s/step - loss: 0.9295 - categorical_accuracy: 0.9900 - val_loss: 1.0858 - val_categorical_accuracy: 0.8400\n",
      "Epoch 92/100\n",
      "8/8 [==============================] - 10s 1s/step - loss: 0.9421 - categorical_accuracy: 0.9800 - val_loss: 1.1015 - val_categorical_accuracy: 0.8600\n",
      "Epoch 93/100\n",
      "8/8 [==============================] - 11s 1s/step - loss: 0.9405 - categorical_accuracy: 0.9850 - val_loss: 1.0892 - val_categorical_accuracy: 0.8400\n",
      "Epoch 94/100\n",
      "8/8 [==============================] - 10s 1s/step - loss: 0.9312 - categorical_accuracy: 0.9900 - val_loss: 1.1021 - val_categorical_accuracy: 0.8600\n",
      "Epoch 95/100\n",
      "8/8 [==============================] - 11s 1s/step - loss: 0.9464 - categorical_accuracy: 0.9800 - val_loss: 1.1010 - val_categorical_accuracy: 0.8400\n",
      "Epoch 96/100\n",
      "8/8 [==============================] - 10s 1s/step - loss: 0.9291 - categorical_accuracy: 0.9900 - val_loss: 1.0913 - val_categorical_accuracy: 0.8400\n",
      "Epoch 97/100\n",
      "8/8 [==============================] - 10s 1s/step - loss: 0.9339 - categorical_accuracy: 0.9950 - val_loss: 1.0838 - val_categorical_accuracy: 0.8400\n",
      "Epoch 98/100\n",
      "8/8 [==============================] - 11s 1s/step - loss: 0.9320 - categorical_accuracy: 0.9900 - val_loss: 1.0948 - val_categorical_accuracy: 0.8400\n",
      "Epoch 99/100\n",
      "8/8 [==============================] - 10s 1s/step - loss: 0.9307 - categorical_accuracy: 0.9900 - val_loss: 1.0992 - val_categorical_accuracy: 0.8600\n",
      "Epoch 100/100\n",
      "8/8 [==============================] - 11s 1s/step - loss: 0.9281 - categorical_accuracy: 0.9900 - val_loss: 1.0854 - val_categorical_accuracy: 0.8800\n"
     ]
    }
   ],
   "source": [
    "history = model_vgg16_256.fit(train_it,\n",
    "          validation_data=valid_it,\n",
    "          steps_per_epoch=int(round(train_it.samples/train_it.batch_size)),\n",
    "          validation_steps=valid_it.samples/valid_it.batch_size,\n",
    "          epochs=100)"
   ]
  },
  {
   "cell_type": "code",
   "execution_count": 41,
   "id": "038831cf",
   "metadata": {},
   "outputs": [
    {
     "name": "stdout",
     "output_type": "stream",
     "text": [
      "accuracy:  99.1 %\n",
      "val accuracy:  85.2 %\n"
     ]
    }
   ],
   "source": [
    "acc=0\n",
    "v_acc = 0\n",
    "for a in range(-5, 0, 1):\n",
    "    acc = history.history['categorical_accuracy'][a] + acc\n",
    "    v_acc = history.history['val_categorical_accuracy'][a] + v_acc\n",
    "print('accuracy: ', round(acc/5, 4)*100,'%')\n",
    "print('val accuracy: ', round(v_acc/5, 4)*100,'%')"
   ]
  },
  {
   "cell_type": "code",
   "execution_count": 42,
   "id": "c08b7726",
   "metadata": {},
   "outputs": [
    {
     "data": {
      "image/png": "[encoded data removed]",
      "text/plain": [
       "<Figure size 432x288 with 1 Axes>"
      ]
     },
     "metadata": {
      "needs_background": "light"
     },
     "output_type": "display_data"
    }
   ],
   "source": [
    "plot_loss(history)"
   ]
  },
  {
   "cell_type": "code",
   "execution_count": 43,
   "id": "ebcf70c2",
   "metadata": {},
   "outputs": [
    {
     "data": {
      "image/png": "[encoded data removed]",
      "text/plain": [
       "<Figure size 432x288 with 1 Axes>"
      ]
     },
     "metadata": {
      "needs_background": "light"
     },
     "output_type": "display_data"
    }
   ],
   "source": [
    "plot_accuracy(history)"
   ]
  },
  {
   "cell_type": "markdown",
   "id": "a9fbe58e",
   "metadata": {},
   "source": [
    "#### Add Dense Layer 128 nodes and activation relu."
   ]
  },
  {
   "cell_type": "code",
   "execution_count": 44,
   "id": "7d6c0da7",
   "metadata": {},
   "outputs": [],
   "source": [
    "# Create inputs with correct shape\n",
    "inputs = keras.Input(shape=(img_x,img_y, 3))\n",
    "\n",
    "x = base_model_vgg16(inputs, training=False)\n",
    "\n",
    "# Add pooling layer or flatten layer\n",
    "x = keras.layers.GlobalAveragePooling2D()(x)\n",
    "x = keras.layers.Dense(128, activation = 'relu')(x)\n",
    "\n",
    "# Add final dense layer\n",
    "outputs = keras.layers.Dense(5, activation = 'softmax')(x)\n",
    "\n",
    "# Combine inputs and outputs to create model\n",
    "model_vgg16_128 = keras.Model(inputs, outputs)\n",
    "\n",
    "model_vgg16_128.compile(optimizer=keras.optimizers.Adam(),\n",
    "                        loss = keras.losses.CategoricalCrossentropy(from_logits=True) , \n",
    "                        metrics = [keras.metrics.CategoricalAccuracy()])"
   ]
  },
  {
   "cell_type": "code",
   "execution_count": 45,
   "id": "a22fe53e",
   "metadata": {},
   "outputs": [
    {
     "name": "stdout",
     "output_type": "stream",
     "text": [
      "Model: \"model_3\"\n",
      "_________________________________________________________________\n",
      "Layer (type)                 Output Shape              Param #   \n",
      "=================================================================\n",
      "input_5 (InputLayer)         [(None, 224, 224, 3)]     0         \n",
      "_________________________________________________________________\n",
      "vgg16 (Model)                (None, 7, 7, 512)         14714688  \n",
      "_________________________________________________________________\n",
      "global_average_pooling2d_3 ( (None, 512)               0         \n",
      "_________________________________________________________________\n",
      "dense_5 (Dense)              (None, 128)               65664     \n",
      "_________________________________________________________________\n",
      "dense_6 (Dense)              (None, 5)                 645       \n",
      "=================================================================\n",
      "Total params: 14,780,997\n",
      "Trainable params: 66,309\n",
      "Non-trainable params: 14,714,688\n",
      "_________________________________________________________________\n"
     ]
    }
   ],
   "source": [
    "model_vgg16_128.summary()"
   ]
  },
  {
   "cell_type": "code",
   "execution_count": 46,
   "id": "18a3c849",
   "metadata": {},
   "outputs": [
    {
     "name": "stdout",
     "output_type": "stream",
     "text": [
      "Epoch 1/100\n",
      "8/8 [==============================] - 12s 2s/step - loss: 1.6204 - categorical_accuracy: 0.2300 - val_loss: 1.5945 - val_categorical_accuracy: 0.2600\n",
      "Epoch 2/100\n",
      "8/8 [==============================] - 11s 1s/step - loss: 1.5844 - categorical_accuracy: 0.3000 - val_loss: 1.5634 - val_categorical_accuracy: 0.4000\n",
      "Epoch 3/100\n",
      "8/8 [==============================] - 11s 1s/step - loss: 1.5437 - categorical_accuracy: 0.4800 - val_loss: 1.5280 - val_categorical_accuracy: 0.5600\n",
      "Epoch 4/100\n",
      "8/8 [==============================] - 11s 1s/step - loss: 1.5035 - categorical_accuracy: 0.5950 - val_loss: 1.4941 - val_categorical_accuracy: 0.5400\n",
      "Epoch 5/100\n",
      "8/8 [==============================] - 11s 1s/step - loss: 1.4621 - categorical_accuracy: 0.6150 - val_loss: 1.4585 - val_categorical_accuracy: 0.5000\n",
      "Epoch 6/100\n",
      "8/8 [==============================] - 10s 1s/step - loss: 1.4193 - categorical_accuracy: 0.6400 - val_loss: 1.4267 - val_categorical_accuracy: 0.5800\n",
      "Epoch 7/100\n",
      "8/8 [==============================] - 11s 1s/step - loss: 1.3805 - categorical_accuracy: 0.6400 - val_loss: 1.4030 - val_categorical_accuracy: 0.6000\n",
      "Epoch 8/100\n",
      "8/8 [==============================] - 11s 1s/step - loss: 1.3544 - categorical_accuracy: 0.6400 - val_loss: 1.3832 - val_categorical_accuracy: 0.6200\n",
      "Epoch 9/100\n",
      "8/8 [==============================] - 11s 1s/step - loss: 1.3367 - categorical_accuracy: 0.6400 - val_loss: 1.3652 - val_categorical_accuracy: 0.5800\n",
      "Epoch 10/100\n",
      "8/8 [==============================] - 11s 1s/step - loss: 1.3119 - categorical_accuracy: 0.6650 - val_loss: 1.3592 - val_categorical_accuracy: 0.5800\n",
      "Epoch 11/100\n",
      "8/8 [==============================] - 11s 1s/step - loss: 1.2854 - categorical_accuracy: 0.6950 - val_loss: 1.3424 - val_categorical_accuracy: 0.6000\n",
      "Epoch 12/100\n",
      "8/8 [==============================] - 11s 1s/step - loss: 1.2755 - categorical_accuracy: 0.6750 - val_loss: 1.3375 - val_categorical_accuracy: 0.6400\n",
      "Epoch 13/100\n",
      "8/8 [==============================] - 11s 1s/step - loss: 1.2574 - categorical_accuracy: 0.7000 - val_loss: 1.3265 - val_categorical_accuracy: 0.6200\n",
      "Epoch 14/100\n",
      "8/8 [==============================] - 10s 1s/step - loss: 1.2568 - categorical_accuracy: 0.7100 - val_loss: 1.3159 - val_categorical_accuracy: 0.6600\n",
      "Epoch 15/100\n",
      "8/8 [==============================] - 10s 1s/step - loss: 1.2301 - categorical_accuracy: 0.7600 - val_loss: 1.3131 - val_categorical_accuracy: 0.6400\n",
      "Epoch 16/100\n",
      "8/8 [==============================] - 11s 1s/step - loss: 1.2157 - categorical_accuracy: 0.7500 - val_loss: 1.2976 - val_categorical_accuracy: 0.6800\n",
      "Epoch 17/100\n",
      "8/8 [==============================] - 11s 1s/step - loss: 1.2089 - categorical_accuracy: 0.7800 - val_loss: 1.2948 - val_categorical_accuracy: 0.6800\n",
      "Epoch 18/100\n",
      "8/8 [==============================] - 11s 1s/step - loss: 1.1966 - categorical_accuracy: 0.8200 - val_loss: 1.2858 - val_categorical_accuracy: 0.7000\n",
      "Epoch 19/100\n",
      "8/8 [==============================] - 12s 1s/step - loss: 1.1857 - categorical_accuracy: 0.8000 - val_loss: 1.2749 - val_categorical_accuracy: 0.6800\n",
      "Epoch 20/100\n",
      "8/8 [==============================] - 10s 1s/step - loss: 1.1757 - categorical_accuracy: 0.7950 - val_loss: 1.2719 - val_categorical_accuracy: 0.7000\n",
      "Epoch 21/100\n",
      "8/8 [==============================] - 11s 1s/step - loss: 1.1524 - categorical_accuracy: 0.8500 - val_loss: 1.2579 - val_categorical_accuracy: 0.6600\n",
      "Epoch 22/100\n",
      "8/8 [==============================] - 11s 1s/step - loss: 1.1456 - categorical_accuracy: 0.8150 - val_loss: 1.2503 - val_categorical_accuracy: 0.7200\n",
      "Epoch 23/100\n",
      "8/8 [==============================] - 11s 1s/step - loss: 1.1438 - categorical_accuracy: 0.8500 - val_loss: 1.2422 - val_categorical_accuracy: 0.7200\n",
      "Epoch 24/100\n",
      "8/8 [==============================] - 11s 1s/step - loss: 1.1357 - categorical_accuracy: 0.8000 - val_loss: 1.2351 - val_categorical_accuracy: 0.7600\n",
      "Epoch 25/100\n",
      "8/8 [==============================] - 11s 1s/step - loss: 1.1220 - categorical_accuracy: 0.8600 - val_loss: 1.2424 - val_categorical_accuracy: 0.7600\n",
      "Epoch 26/100\n",
      "8/8 [==============================] - 10s 1s/step - loss: 1.1302 - categorical_accuracy: 0.8350 - val_loss: 1.2287 - val_categorical_accuracy: 0.7000\n",
      "Epoch 27/100\n",
      "8/8 [==============================] - 11s 1s/step - loss: 1.0995 - categorical_accuracy: 0.8700 - val_loss: 1.2329 - val_categorical_accuracy: 0.7200\n",
      "Epoch 28/100\n",
      "8/8 [==============================] - 11s 1s/step - loss: 1.0995 - categorical_accuracy: 0.8800 - val_loss: 1.2166 - val_categorical_accuracy: 0.7600\n",
      "Epoch 29/100\n",
      "8/8 [==============================] - 11s 1s/step - loss: 1.0851 - categorical_accuracy: 0.8800 - val_loss: 1.2104 - val_categorical_accuracy: 0.7600\n",
      "Epoch 30/100\n",
      "8/8 [==============================] - 11s 1s/step - loss: 1.0774 - categorical_accuracy: 0.9050 - val_loss: 1.2091 - val_categorical_accuracy: 0.7800\n",
      "Epoch 31/100\n",
      "8/8 [==============================] - 10s 1s/step - loss: 1.0691 - categorical_accuracy: 0.9100 - val_loss: 1.2030 - val_categorical_accuracy: 0.8000\n",
      "Epoch 32/100\n",
      "8/8 [==============================] - 11s 1s/step - loss: 1.0655 - categorical_accuracy: 0.8900 - val_loss: 1.2010 - val_categorical_accuracy: 0.7800\n",
      "Epoch 33/100\n",
      "8/8 [==============================] - 10s 1s/step - loss: 1.0724 - categorical_accuracy: 0.8800 - val_loss: 1.1880 - val_categorical_accuracy: 0.8000\n",
      "Epoch 34/100\n",
      "8/8 [==============================] - 11s 1s/step - loss: 1.0690 - categorical_accuracy: 0.8950 - val_loss: 1.1828 - val_categorical_accuracy: 0.8400\n",
      "Epoch 35/100\n",
      "8/8 [==============================] - 10s 1s/step - loss: 1.0706 - categorical_accuracy: 0.9150 - val_loss: 1.1905 - val_categorical_accuracy: 0.7600\n",
      "Epoch 36/100\n",
      "8/8 [==============================] - 11s 1s/step - loss: 1.0544 - categorical_accuracy: 0.8900 - val_loss: 1.1781 - val_categorical_accuracy: 0.8400\n",
      "Epoch 37/100\n",
      "8/8 [==============================] - 12s 1s/step - loss: 1.0511 - categorical_accuracy: 0.9100 - val_loss: 1.1724 - val_categorical_accuracy: 0.8600\n",
      "Epoch 38/100\n",
      "8/8 [==============================] - 12s 1s/step - loss: 1.0405 - categorical_accuracy: 0.9150 - val_loss: 1.1779 - val_categorical_accuracy: 0.8000\n",
      "Epoch 39/100\n",
      "8/8 [==============================] - 11s 1s/step - loss: 1.0455 - categorical_accuracy: 0.9250 - val_loss: 1.1680 - val_categorical_accuracy: 0.8400\n",
      "Epoch 40/100\n",
      "8/8 [==============================] - 11s 1s/step - loss: 1.0337 - categorical_accuracy: 0.9250 - val_loss: 1.1647 - val_categorical_accuracy: 0.8400\n",
      "Epoch 41/100\n",
      "8/8 [==============================] - 10s 1s/step - loss: 1.0335 - categorical_accuracy: 0.9350 - val_loss: 1.1609 - val_categorical_accuracy: 0.8600\n",
      "Epoch 42/100\n",
      "8/8 [==============================] - 11s 1s/step - loss: 1.0232 - categorical_accuracy: 0.9400 - val_loss: 1.1642 - val_categorical_accuracy: 0.8200\n",
      "Epoch 43/100\n",
      "8/8 [==============================] - 11s 1s/step - loss: 1.0244 - categorical_accuracy: 0.9450 - val_loss: 1.1536 - val_categorical_accuracy: 0.8600\n",
      "Epoch 44/100\n",
      "8/8 [==============================] - 11s 1s/step - loss: 1.0255 - categorical_accuracy: 0.9250 - val_loss: 1.1631 - val_categorical_accuracy: 0.8000\n",
      "Epoch 45/100\n",
      "8/8 [==============================] - 10s 1s/step - loss: 1.0260 - categorical_accuracy: 0.9250 - val_loss: 1.1684 - val_categorical_accuracy: 0.7800\n",
      "Epoch 46/100\n",
      "8/8 [==============================] - 11s 1s/step - loss: 1.0166 - categorical_accuracy: 0.9350 - val_loss: 1.1476 - val_categorical_accuracy: 0.8400\n",
      "Epoch 47/100\n",
      "8/8 [==============================] - 10s 1s/step - loss: 1.0285 - categorical_accuracy: 0.9150 - val_loss: 1.1590 - val_categorical_accuracy: 0.8200\n",
      "Epoch 48/100\n",
      "8/8 [==============================] - 10s 1s/step - loss: 1.0112 - categorical_accuracy: 0.9300 - val_loss: 1.1442 - val_categorical_accuracy: 0.8600\n",
      "Epoch 49/100\n",
      "8/8 [==============================] - 11s 1s/step - loss: 1.0105 - categorical_accuracy: 0.9500 - val_loss: 1.1531 - val_categorical_accuracy: 0.7800\n",
      "Epoch 50/100\n",
      "8/8 [==============================] - 11s 1s/step - loss: 1.0006 - categorical_accuracy: 0.9650 - val_loss: 1.1459 - val_categorical_accuracy: 0.8200\n",
      "Epoch 51/100\n"
     ]
    },
    {
     "name": "stdout",
     "output_type": "stream",
     "text": [
      "8/8 [==============================] - 11s 1s/step - loss: 0.9995 - categorical_accuracy: 0.9550 - val_loss: 1.1496 - val_categorical_accuracy: 0.8200\n",
      "Epoch 52/100\n",
      "8/8 [==============================] - 11s 1s/step - loss: 0.9966 - categorical_accuracy: 0.9500 - val_loss: 1.1518 - val_categorical_accuracy: 0.8000\n",
      "Epoch 53/100\n",
      "8/8 [==============================] - 11s 1s/step - loss: 0.9932 - categorical_accuracy: 0.9500 - val_loss: 1.1373 - val_categorical_accuracy: 0.8200\n",
      "Epoch 54/100\n",
      "8/8 [==============================] - 10s 1s/step - loss: 1.0033 - categorical_accuracy: 0.9300 - val_loss: 1.1361 - val_categorical_accuracy: 0.8200\n",
      "Epoch 55/100\n",
      "8/8 [==============================] - 11s 1s/step - loss: 0.9999 - categorical_accuracy: 0.9500 - val_loss: 1.1542 - val_categorical_accuracy: 0.7600\n",
      "Epoch 56/100\n",
      "8/8 [==============================] - 10s 1s/step - loss: 0.9939 - categorical_accuracy: 0.9500 - val_loss: 1.1323 - val_categorical_accuracy: 0.8600\n",
      "Epoch 57/100\n",
      "8/8 [==============================] - 11s 1s/step - loss: 1.0019 - categorical_accuracy: 0.9500 - val_loss: 1.1386 - val_categorical_accuracy: 0.8200\n",
      "Epoch 58/100\n",
      "8/8 [==============================] - 11s 1s/step - loss: 0.9942 - categorical_accuracy: 0.9500 - val_loss: 1.1324 - val_categorical_accuracy: 0.8400\n",
      "Epoch 59/100\n",
      "8/8 [==============================] - 11s 1s/step - loss: 0.9828 - categorical_accuracy: 0.9650 - val_loss: 1.1304 - val_categorical_accuracy: 0.8400\n",
      "Epoch 60/100\n",
      "8/8 [==============================] - 11s 1s/step - loss: 0.9770 - categorical_accuracy: 0.9650 - val_loss: 1.1423 - val_categorical_accuracy: 0.7800\n",
      "Epoch 61/100\n",
      "8/8 [==============================] - 11s 1s/step - loss: 0.9840 - categorical_accuracy: 0.9550 - val_loss: 1.1318 - val_categorical_accuracy: 0.8400\n",
      "Epoch 62/100\n",
      "8/8 [==============================] - 11s 1s/step - loss: 0.9875 - categorical_accuracy: 0.9500 - val_loss: 1.1211 - val_categorical_accuracy: 0.8600\n",
      "Epoch 63/100\n",
      "8/8 [==============================] - 11s 1s/step - loss: 0.9776 - categorical_accuracy: 0.9550 - val_loss: 1.1317 - val_categorical_accuracy: 0.8200\n",
      "Epoch 64/100\n",
      "8/8 [==============================] - 11s 1s/step - loss: 0.9866 - categorical_accuracy: 0.9550 - val_loss: 1.1279 - val_categorical_accuracy: 0.8200\n",
      "Epoch 65/100\n",
      "8/8 [==============================] - 12s 1s/step - loss: 0.9777 - categorical_accuracy: 0.9650 - val_loss: 1.1235 - val_categorical_accuracy: 0.8400\n",
      "Epoch 66/100\n",
      "8/8 [==============================] - 11s 1s/step - loss: 0.9705 - categorical_accuracy: 0.9700 - val_loss: 1.1311 - val_categorical_accuracy: 0.8000\n",
      "Epoch 67/100\n",
      "8/8 [==============================] - 11s 1s/step - loss: 0.9717 - categorical_accuracy: 0.9600 - val_loss: 1.1225 - val_categorical_accuracy: 0.8400\n",
      "Epoch 68/100\n",
      "8/8 [==============================] - 11s 1s/step - loss: 0.9724 - categorical_accuracy: 0.9650 - val_loss: 1.1202 - val_categorical_accuracy: 0.8200\n",
      "Epoch 69/100\n",
      "8/8 [==============================] - 11s 1s/step - loss: 0.9682 - categorical_accuracy: 0.9650 - val_loss: 1.1102 - val_categorical_accuracy: 0.8600\n",
      "Epoch 70/100\n",
      "8/8 [==============================] - 11s 1s/step - loss: 0.9693 - categorical_accuracy: 0.9700 - val_loss: 1.1111 - val_categorical_accuracy: 0.8400\n",
      "Epoch 71/100\n",
      "8/8 [==============================] - 11s 1s/step - loss: 0.9696 - categorical_accuracy: 0.9500 - val_loss: 1.1183 - val_categorical_accuracy: 0.8400\n",
      "Epoch 72/100\n",
      "8/8 [==============================] - 10s 1s/step - loss: 0.9691 - categorical_accuracy: 0.9650 - val_loss: 1.1152 - val_categorical_accuracy: 0.8200\n",
      "Epoch 73/100\n",
      "8/8 [==============================] - 11s 1s/step - loss: 0.9744 - categorical_accuracy: 0.9650 - val_loss: 1.1167 - val_categorical_accuracy: 0.8400\n",
      "Epoch 74/100\n",
      "8/8 [==============================] - 11s 1s/step - loss: 0.9704 - categorical_accuracy: 0.9600 - val_loss: 1.1122 - val_categorical_accuracy: 0.8400\n",
      "Epoch 75/100\n",
      "8/8 [==============================] - 11s 1s/step - loss: 0.9639 - categorical_accuracy: 0.9700 - val_loss: 1.1116 - val_categorical_accuracy: 0.8400\n",
      "Epoch 76/100\n",
      "8/8 [==============================] - 12s 1s/step - loss: 0.9707 - categorical_accuracy: 0.9750 - val_loss: 1.1075 - val_categorical_accuracy: 0.8400\n",
      "Epoch 77/100\n",
      "8/8 [==============================] - 11s 1s/step - loss: 0.9678 - categorical_accuracy: 0.9800 - val_loss: 1.1177 - val_categorical_accuracy: 0.8200\n",
      "Epoch 78/100\n",
      "8/8 [==============================] - 11s 1s/step - loss: 0.9694 - categorical_accuracy: 0.9600 - val_loss: 1.1081 - val_categorical_accuracy: 0.8400\n",
      "Epoch 79/100\n",
      "8/8 [==============================] - 12s 1s/step - loss: 0.9623 - categorical_accuracy: 0.9750 - val_loss: 1.1163 - val_categorical_accuracy: 0.8400\n",
      "Epoch 80/100\n",
      "8/8 [==============================] - 12s 1s/step - loss: 0.9562 - categorical_accuracy: 0.9700 - val_loss: 1.1097 - val_categorical_accuracy: 0.8400\n",
      "Epoch 81/100\n",
      "8/8 [==============================] - 11s 1s/step - loss: 0.9643 - categorical_accuracy: 0.9750 - val_loss: 1.1190 - val_categorical_accuracy: 0.8400\n",
      "Epoch 82/100\n",
      "8/8 [==============================] - 11s 1s/step - loss: 0.9633 - categorical_accuracy: 0.9700 - val_loss: 1.1210 - val_categorical_accuracy: 0.8400\n",
      "Epoch 83/100\n",
      "8/8 [==============================] - 11s 1s/step - loss: 0.9524 - categorical_accuracy: 0.9900 - val_loss: 1.1118 - val_categorical_accuracy: 0.8400\n",
      "Epoch 84/100\n",
      "8/8 [==============================] - 11s 1s/step - loss: 0.9611 - categorical_accuracy: 0.9700 - val_loss: 1.1146 - val_categorical_accuracy: 0.8200\n",
      "Epoch 85/100\n",
      "8/8 [==============================] - 11s 1s/step - loss: 0.9631 - categorical_accuracy: 0.9750 - val_loss: 1.1036 - val_categorical_accuracy: 0.8600\n",
      "Epoch 86/100\n",
      "8/8 [==============================] - 11s 1s/step - loss: 0.9469 - categorical_accuracy: 0.9800 - val_loss: 1.1182 - val_categorical_accuracy: 0.8400\n",
      "Epoch 87/100\n",
      "8/8 [==============================] - 11s 1s/step - loss: 0.9608 - categorical_accuracy: 0.9650 - val_loss: 1.1087 - val_categorical_accuracy: 0.8400\n",
      "Epoch 88/100\n",
      "8/8 [==============================] - 11s 1s/step - loss: 0.9526 - categorical_accuracy: 0.9800 - val_loss: 1.1123 - val_categorical_accuracy: 0.8400\n",
      "Epoch 89/100\n",
      "8/8 [==============================] - 11s 1s/step - loss: 0.9490 - categorical_accuracy: 0.9800 - val_loss: 1.1201 - val_categorical_accuracy: 0.8200\n",
      "Epoch 90/100\n",
      "8/8 [==============================] - 10s 1s/step - loss: 0.9522 - categorical_accuracy: 0.9850 - val_loss: 1.1097 - val_categorical_accuracy: 0.8400\n",
      "Epoch 91/100\n",
      "8/8 [==============================] - 11s 1s/step - loss: 0.9525 - categorical_accuracy: 0.9800 - val_loss: 1.1032 - val_categorical_accuracy: 0.8400\n",
      "Epoch 92/100\n",
      "8/8 [==============================] - 10s 1s/step - loss: 0.9499 - categorical_accuracy: 0.9850 - val_loss: 1.1136 - val_categorical_accuracy: 0.8400\n",
      "Epoch 93/100\n",
      "8/8 [==============================] - 11s 1s/step - loss: 0.9450 - categorical_accuracy: 0.9950 - val_loss: 1.1099 - val_categorical_accuracy: 0.8400\n",
      "Epoch 94/100\n",
      "8/8 [==============================] - 11s 1s/step - loss: 0.9517 - categorical_accuracy: 0.9800 - val_loss: 1.1064 - val_categorical_accuracy: 0.8400\n",
      "Epoch 95/100\n",
      "8/8 [==============================] - 10s 1s/step - loss: 0.9487 - categorical_accuracy: 0.9800 - val_loss: 1.1031 - val_categorical_accuracy: 0.8600\n",
      "Epoch 96/100\n",
      "8/8 [==============================] - 11s 1s/step - loss: 0.9422 - categorical_accuracy: 0.9800 - val_loss: 1.1250 - val_categorical_accuracy: 0.8200\n",
      "Epoch 97/100\n",
      "8/8 [==============================] - 12s 1s/step - loss: 0.9477 - categorical_accuracy: 0.9850 - val_loss: 1.1055 - val_categorical_accuracy: 0.8600\n",
      "Epoch 98/100\n",
      "8/8 [==============================] - 11s 1s/step - loss: 0.9450 - categorical_accuracy: 0.9800 - val_loss: 1.0946 - val_categorical_accuracy: 0.8600\n",
      "Epoch 99/100\n",
      "8/8 [==============================] - 12s 1s/step - loss: 0.9414 - categorical_accuracy: 0.9950 - val_loss: 1.1152 - val_categorical_accuracy: 0.8200\n",
      "Epoch 100/100\n",
      "8/8 [==============================] - 11s 1s/step - loss: 0.9410 - categorical_accuracy: 0.9950 - val_loss: 1.1048 - val_categorical_accuracy: 0.8400\n"
     ]
    }
   ],
   "source": [
    "history = model_vgg16_128.fit(train_it,\n",
    "          validation_data=valid_it,\n",
    "          steps_per_epoch=int(round(train_it.samples/train_it.batch_size)),\n",
    "          validation_steps=valid_it.samples/valid_it.batch_size,\n",
    "          epochs=100)"
   ]
  },
  {
   "cell_type": "code",
   "execution_count": 47,
   "id": "f86153b3",
   "metadata": {},
   "outputs": [
    {
     "name": "stdout",
     "output_type": "stream",
     "text": [
      "accuracy:  98.7 %\n",
      "val accuracy:  84.0 %\n"
     ]
    }
   ],
   "source": [
    "acc=0\n",
    "v_acc = 0\n",
    "for a in range(-5, 0, 1):\n",
    "    acc = history.history['categorical_accuracy'][a] + acc\n",
    "    v_acc = history.history['val_categorical_accuracy'][a] + v_acc\n",
    "print('accuracy: ', round(acc/5, 4)*100,'%')\n",
    "print('val accuracy: ', round(v_acc/5, 4)*100,'%')"
   ]
  },
  {
   "cell_type": "code",
   "execution_count": 48,
   "id": "bd94e697",
   "metadata": {},
   "outputs": [
    {
     "data": {
      "image/png": "[encoded data removed]",
      "text/plain": [
       "<Figure size 432x288 with 1 Axes>"
      ]
     },
     "metadata": {
      "needs_background": "light"
     },
     "output_type": "display_data"
    }
   ],
   "source": [
    "plot_loss(history)"
   ]
  },
  {
   "cell_type": "code",
   "execution_count": 49,
   "id": "d9810f37",
   "metadata": {},
   "outputs": [
    {
     "data": {
      "image/png": "[encoded data removed]",
      "text/plain": [
       "<Figure size 432x288 with 1 Axes>"
      ]
     },
     "metadata": {
      "needs_background": "light"
     },
     "output_type": "display_data"
    }
   ],
   "source": [
    "plot_accuracy(history)"
   ]
  },
  {
   "cell_type": "markdown",
   "id": "12448a3a",
   "metadata": {},
   "source": [
    "#### Add Dense Layer 64 nodes and activation relu."
   ]
  },
  {
   "cell_type": "code",
   "execution_count": 50,
   "id": "e1a5c4e9",
   "metadata": {},
   "outputs": [],
   "source": [
    "# Create inputs with correct shape\n",
    "inputs = keras.Input(shape=(img_x,img_y, 3))\n",
    "\n",
    "x = base_model_vgg16(inputs, training=False)\n",
    "\n",
    "# Add pooling layer or flatten layer\n",
    "x = keras.layers.GlobalAveragePooling2D()(x)\n",
    "x = keras.layers.Dense(64, activation = 'relu')(x)\n",
    "\n",
    "# Add final dense layer\n",
    "outputs = keras.layers.Dense(5, activation = 'softmax')(x)\n",
    "\n",
    "# Combine inputs and outputs to create model\n",
    "model_vgg16_64 = keras.Model(inputs, outputs)\n",
    "\n",
    "model_vgg16_64.compile(optimizer=keras.optimizers.Adam(),\n",
    "                       loss = keras.losses.CategoricalCrossentropy(from_logits=True) , \n",
    "                       metrics = [keras.metrics.CategoricalAccuracy()])"
   ]
  },
  {
   "cell_type": "code",
   "execution_count": 51,
   "id": "f6d82637",
   "metadata": {},
   "outputs": [
    {
     "name": "stdout",
     "output_type": "stream",
     "text": [
      "Model: \"model_4\"\n",
      "_________________________________________________________________\n",
      "Layer (type)                 Output Shape              Param #   \n",
      "=================================================================\n",
      "input_6 (InputLayer)         [(None, 224, 224, 3)]     0         \n",
      "_________________________________________________________________\n",
      "vgg16 (Model)                (None, 7, 7, 512)         14714688  \n",
      "_________________________________________________________________\n",
      "global_average_pooling2d_4 ( (None, 512)               0         \n",
      "_________________________________________________________________\n",
      "dense_7 (Dense)              (None, 64)                32832     \n",
      "_________________________________________________________________\n",
      "dense_8 (Dense)              (None, 5)                 325       \n",
      "=================================================================\n",
      "Total params: 14,747,845\n",
      "Trainable params: 33,157\n",
      "Non-trainable params: 14,714,688\n",
      "_________________________________________________________________\n"
     ]
    }
   ],
   "source": [
    "model_vgg16_64.summary()"
   ]
  },
  {
   "cell_type": "code",
   "execution_count": 52,
   "id": "2f59d763",
   "metadata": {},
   "outputs": [
    {
     "name": "stdout",
     "output_type": "stream",
     "text": [
      "Epoch 1/100\n",
      "8/8 [==============================] - 11s 1s/step - loss: 1.6115 - categorical_accuracy: 0.1950 - val_loss: 1.5894 - val_categorical_accuracy: 0.3600\n",
      "Epoch 2/100\n",
      "8/8 [==============================] - 11s 1s/step - loss: 1.5810 - categorical_accuracy: 0.4000 - val_loss: 1.5620 - val_categorical_accuracy: 0.4400\n",
      "Epoch 3/100\n",
      "8/8 [==============================] - 10s 1s/step - loss: 1.5530 - categorical_accuracy: 0.4250 - val_loss: 1.5328 - val_categorical_accuracy: 0.4400\n",
      "Epoch 4/100\n",
      "8/8 [==============================] - 10s 1s/step - loss: 1.5182 - categorical_accuracy: 0.4850 - val_loss: 1.5007 - val_categorical_accuracy: 0.4600\n",
      "Epoch 5/100\n",
      "8/8 [==============================] - 11s 1s/step - loss: 1.4891 - categorical_accuracy: 0.5700 - val_loss: 1.4727 - val_categorical_accuracy: 0.5200\n",
      "Epoch 6/100\n",
      "8/8 [==============================] - 10s 1s/step - loss: 1.4495 - categorical_accuracy: 0.6000 - val_loss: 1.4462 - val_categorical_accuracy: 0.5200\n",
      "Epoch 7/100\n",
      "8/8 [==============================] - 11s 1s/step - loss: 1.4228 - categorical_accuracy: 0.6050 - val_loss: 1.4249 - val_categorical_accuracy: 0.5400\n",
      "Epoch 8/100\n",
      "8/8 [==============================] - 11s 1s/step - loss: 1.3837 - categorical_accuracy: 0.6550 - val_loss: 1.4032 - val_categorical_accuracy: 0.5400\n",
      "Epoch 9/100\n",
      "8/8 [==============================] - 11s 1s/step - loss: 1.3587 - categorical_accuracy: 0.6750 - val_loss: 1.3883 - val_categorical_accuracy: 0.6000\n",
      "Epoch 10/100\n",
      "8/8 [==============================] - 11s 1s/step - loss: 1.3390 - categorical_accuracy: 0.6700 - val_loss: 1.3720 - val_categorical_accuracy: 0.6200\n",
      "Epoch 11/100\n",
      "8/8 [==============================] - 12s 2s/step - loss: 1.3205 - categorical_accuracy: 0.6800 - val_loss: 1.3621 - val_categorical_accuracy: 0.5800\n",
      "Epoch 12/100\n",
      "8/8 [==============================] - 11s 1s/step - loss: 1.3023 - categorical_accuracy: 0.6650 - val_loss: 1.3488 - val_categorical_accuracy: 0.6200\n",
      "Epoch 13/100\n",
      "8/8 [==============================] - 11s 1s/step - loss: 1.2878 - categorical_accuracy: 0.6950 - val_loss: 1.3379 - val_categorical_accuracy: 0.6200\n",
      "Epoch 14/100\n",
      "8/8 [==============================] - 11s 1s/step - loss: 1.2731 - categorical_accuracy: 0.7250 - val_loss: 1.3321 - val_categorical_accuracy: 0.6600\n",
      "Epoch 15/100\n",
      "8/8 [==============================] - 11s 1s/step - loss: 1.2610 - categorical_accuracy: 0.7300 - val_loss: 1.3191 - val_categorical_accuracy: 0.6600\n",
      "Epoch 16/100\n",
      "8/8 [==============================] - 10s 1s/step - loss: 1.2432 - categorical_accuracy: 0.7700 - val_loss: 1.3127 - val_categorical_accuracy: 0.6800\n",
      "Epoch 17/100\n",
      "8/8 [==============================] - 11s 1s/step - loss: 1.2327 - categorical_accuracy: 0.7650 - val_loss: 1.3047 - val_categorical_accuracy: 0.6800\n",
      "Epoch 18/100\n",
      "8/8 [==============================] - 11s 1s/step - loss: 1.2196 - categorical_accuracy: 0.7700 - val_loss: 1.2951 - val_categorical_accuracy: 0.6800\n",
      "Epoch 19/100\n",
      "8/8 [==============================] - 12s 1s/step - loss: 1.2094 - categorical_accuracy: 0.7800 - val_loss: 1.2900 - val_categorical_accuracy: 0.6200\n",
      "Epoch 20/100\n",
      "8/8 [==============================] - 12s 1s/step - loss: 1.1901 - categorical_accuracy: 0.8100 - val_loss: 1.2853 - val_categorical_accuracy: 0.7000\n",
      "Epoch 21/100\n",
      "8/8 [==============================] - 11s 1s/step - loss: 1.1893 - categorical_accuracy: 0.7950 - val_loss: 1.2837 - val_categorical_accuracy: 0.6600\n",
      "Epoch 22/100\n",
      "8/8 [==============================] - 12s 1s/step - loss: 1.1753 - categorical_accuracy: 0.8200 - val_loss: 1.2668 - val_categorical_accuracy: 0.7200\n",
      "Epoch 23/100\n",
      "8/8 [==============================] - 12s 1s/step - loss: 1.1682 - categorical_accuracy: 0.8250 - val_loss: 1.2626 - val_categorical_accuracy: 0.7000\n",
      "Epoch 24/100\n",
      "8/8 [==============================] - 12s 1s/step - loss: 1.1617 - categorical_accuracy: 0.7950 - val_loss: 1.2578 - val_categorical_accuracy: 0.7000\n",
      "Epoch 25/100\n",
      "8/8 [==============================] - 12s 1s/step - loss: 1.1536 - categorical_accuracy: 0.8650 - val_loss: 1.2495 - val_categorical_accuracy: 0.7200\n",
      "Epoch 26/100\n",
      "8/8 [==============================] - 11s 1s/step - loss: 1.1448 - categorical_accuracy: 0.8600 - val_loss: 1.2411 - val_categorical_accuracy: 0.7600\n",
      "Epoch 27/100\n",
      "8/8 [==============================] - 12s 1s/step - loss: 1.1273 - categorical_accuracy: 0.8700 - val_loss: 1.2366 - val_categorical_accuracy: 0.7600\n",
      "Epoch 28/100\n",
      "8/8 [==============================] - 12s 1s/step - loss: 1.1245 - categorical_accuracy: 0.8750 - val_loss: 1.2320 - val_categorical_accuracy: 0.7400\n",
      "Epoch 29/100\n",
      "8/8 [==============================] - 11s 1s/step - loss: 1.1139 - categorical_accuracy: 0.8450 - val_loss: 1.2279 - val_categorical_accuracy: 0.7400\n",
      "Epoch 30/100\n",
      "8/8 [==============================] - 11s 1s/step - loss: 1.1241 - categorical_accuracy: 0.8700 - val_loss: 1.2173 - val_categorical_accuracy: 0.7800\n",
      "Epoch 31/100\n",
      "8/8 [==============================] - 11s 1s/step - loss: 1.1022 - categorical_accuracy: 0.8850 - val_loss: 1.2172 - val_categorical_accuracy: 0.7800\n",
      "Epoch 32/100\n",
      "8/8 [==============================] - 10s 1s/step - loss: 1.1044 - categorical_accuracy: 0.8850 - val_loss: 1.2104 - val_categorical_accuracy: 0.8000\n",
      "Epoch 33/100\n",
      "8/8 [==============================] - 11s 1s/step - loss: 1.0966 - categorical_accuracy: 0.8950 - val_loss: 1.2118 - val_categorical_accuracy: 0.8200\n",
      "Epoch 34/100\n",
      "8/8 [==============================] - 12s 1s/step - loss: 1.0929 - categorical_accuracy: 0.8950 - val_loss: 1.1957 - val_categorical_accuracy: 0.8200\n",
      "Epoch 35/100\n",
      "8/8 [==============================] - 11s 1s/step - loss: 1.0898 - categorical_accuracy: 0.8800 - val_loss: 1.1984 - val_categorical_accuracy: 0.8000\n",
      "Epoch 36/100\n",
      "8/8 [==============================] - 11s 1s/step - loss: 1.0811 - categorical_accuracy: 0.8900 - val_loss: 1.1962 - val_categorical_accuracy: 0.8200\n",
      "Epoch 37/100\n",
      "8/8 [==============================] - 11s 1s/step - loss: 1.0725 - categorical_accuracy: 0.9200 - val_loss: 1.1853 - val_categorical_accuracy: 0.8400\n",
      "Epoch 38/100\n",
      "8/8 [==============================] - 12s 2s/step - loss: 1.0673 - categorical_accuracy: 0.9050 - val_loss: 1.1898 - val_categorical_accuracy: 0.8000\n",
      "Epoch 39/100\n",
      "8/8 [==============================] - 12s 1s/step - loss: 1.0636 - categorical_accuracy: 0.9350 - val_loss: 1.1773 - val_categorical_accuracy: 0.8400\n",
      "Epoch 40/100\n",
      "8/8 [==============================] - 11s 1s/step - loss: 1.0629 - categorical_accuracy: 0.9000 - val_loss: 1.1776 - val_categorical_accuracy: 0.8400\n",
      "Epoch 41/100\n",
      "8/8 [==============================] - 11s 1s/step - loss: 1.0547 - categorical_accuracy: 0.9300 - val_loss: 1.1728 - val_categorical_accuracy: 0.8200\n",
      "Epoch 42/100\n",
      "8/8 [==============================] - 11s 1s/step - loss: 1.0488 - categorical_accuracy: 0.9200 - val_loss: 1.1759 - val_categorical_accuracy: 0.8400\n",
      "Epoch 43/100\n",
      "8/8 [==============================] - 12s 1s/step - loss: 1.0557 - categorical_accuracy: 0.8850 - val_loss: 1.1764 - val_categorical_accuracy: 0.8000\n",
      "Epoch 44/100\n",
      "8/8 [==============================] - 9s 1s/step - loss: 1.0465 - categorical_accuracy: 0.9350 - val_loss: 1.1608 - val_categorical_accuracy: 0.8400\n",
      "Epoch 45/100\n",
      "8/8 [==============================] - 9s 1s/step - loss: 1.0342 - categorical_accuracy: 0.9250 - val_loss: 1.1742 - val_categorical_accuracy: 0.8000\n",
      "Epoch 46/100\n",
      "8/8 [==============================] - 10s 1s/step - loss: 1.0455 - categorical_accuracy: 0.9300 - val_loss: 1.1662 - val_categorical_accuracy: 0.8200\n",
      "Epoch 47/100\n",
      "8/8 [==============================] - 10s 1s/step - loss: 1.0400 - categorical_accuracy: 0.9300 - val_loss: 1.1658 - val_categorical_accuracy: 0.7800\n",
      "Epoch 48/100\n",
      "8/8 [==============================] - 10s 1s/step - loss: 1.0262 - categorical_accuracy: 0.9350 - val_loss: 1.1590 - val_categorical_accuracy: 0.8400\n",
      "Epoch 49/100\n",
      "8/8 [==============================] - 10s 1s/step - loss: 1.0286 - categorical_accuracy: 0.9350 - val_loss: 1.1610 - val_categorical_accuracy: 0.8200\n",
      "Epoch 50/100\n",
      "8/8 [==============================] - 9s 1s/step - loss: 1.0303 - categorical_accuracy: 0.9400 - val_loss: 1.1526 - val_categorical_accuracy: 0.8000\n",
      "Epoch 51/100\n"
     ]
    },
    {
     "name": "stdout",
     "output_type": "stream",
     "text": [
      "8/8 [==============================] - 10s 1s/step - loss: 1.0303 - categorical_accuracy: 0.9350 - val_loss: 1.1611 - val_categorical_accuracy: 0.8000\n",
      "Epoch 52/100\n",
      "8/8 [==============================] - 10s 1s/step - loss: 1.0233 - categorical_accuracy: 0.9200 - val_loss: 1.1474 - val_categorical_accuracy: 0.8400\n",
      "Epoch 53/100\n",
      "8/8 [==============================] - 10s 1s/step - loss: 1.0265 - categorical_accuracy: 0.9400 - val_loss: 1.1565 - val_categorical_accuracy: 0.8000\n",
      "Epoch 54/100\n",
      "8/8 [==============================] - 9s 1s/step - loss: 1.0254 - categorical_accuracy: 0.9350 - val_loss: 1.1483 - val_categorical_accuracy: 0.8200\n",
      "Epoch 55/100\n",
      "8/8 [==============================] - 9s 1s/step - loss: 1.0106 - categorical_accuracy: 0.9350 - val_loss: 1.1397 - val_categorical_accuracy: 0.8400\n",
      "Epoch 56/100\n",
      "8/8 [==============================] - 10s 1s/step - loss: 1.0030 - categorical_accuracy: 0.9600 - val_loss: 1.1524 - val_categorical_accuracy: 0.8200\n",
      "Epoch 57/100\n",
      "8/8 [==============================] - 9s 1s/step - loss: 1.0057 - categorical_accuracy: 0.9500 - val_loss: 1.1514 - val_categorical_accuracy: 0.8200\n",
      "Epoch 58/100\n",
      "8/8 [==============================] - 9s 1s/step - loss: 1.0017 - categorical_accuracy: 0.9550 - val_loss: 1.1398 - val_categorical_accuracy: 0.8400\n",
      "Epoch 59/100\n",
      "8/8 [==============================] - 9s 1s/step - loss: 1.0161 - categorical_accuracy: 0.9400 - val_loss: 1.1488 - val_categorical_accuracy: 0.8000\n",
      "Epoch 60/100\n",
      "8/8 [==============================] - 9s 1s/step - loss: 0.9964 - categorical_accuracy: 0.9600 - val_loss: 1.1471 - val_categorical_accuracy: 0.8200\n",
      "Epoch 61/100\n",
      "8/8 [==============================] - 10s 1s/step - loss: 1.0037 - categorical_accuracy: 0.9400 - val_loss: 1.1374 - val_categorical_accuracy: 0.8200\n",
      "Epoch 62/100\n",
      "8/8 [==============================] - 11s 1s/step - loss: 0.9924 - categorical_accuracy: 0.9550 - val_loss: 1.1455 - val_categorical_accuracy: 0.8200\n",
      "Epoch 63/100\n",
      "8/8 [==============================] - 11s 1s/step - loss: 0.9981 - categorical_accuracy: 0.9450 - val_loss: 1.1422 - val_categorical_accuracy: 0.8200\n",
      "Epoch 64/100\n",
      "8/8 [==============================] - 11s 1s/step - loss: 0.9948 - categorical_accuracy: 0.9650 - val_loss: 1.1314 - val_categorical_accuracy: 0.8200\n",
      "Epoch 65/100\n",
      "8/8 [==============================] - 11s 1s/step - loss: 0.9852 - categorical_accuracy: 0.9750 - val_loss: 1.1433 - val_categorical_accuracy: 0.8200\n",
      "Epoch 66/100\n",
      "8/8 [==============================] - 11s 1s/step - loss: 0.9948 - categorical_accuracy: 0.9500 - val_loss: 1.1359 - val_categorical_accuracy: 0.8200\n",
      "Epoch 67/100\n",
      "8/8 [==============================] - 10s 1s/step - loss: 0.9878 - categorical_accuracy: 0.9600 - val_loss: 1.1382 - val_categorical_accuracy: 0.8200\n",
      "Epoch 68/100\n",
      "8/8 [==============================] - 10s 1s/step - loss: 0.9791 - categorical_accuracy: 0.9750 - val_loss: 1.1297 - val_categorical_accuracy: 0.8200\n",
      "Epoch 69/100\n",
      "8/8 [==============================] - 10s 1s/step - loss: 0.9894 - categorical_accuracy: 0.9500 - val_loss: 1.1295 - val_categorical_accuracy: 0.8000\n",
      "Epoch 70/100\n",
      "8/8 [==============================] - 11s 1s/step - loss: 0.9914 - categorical_accuracy: 0.9550 - val_loss: 1.1439 - val_categorical_accuracy: 0.8000\n",
      "Epoch 71/100\n",
      "8/8 [==============================] - 11s 1s/step - loss: 0.9843 - categorical_accuracy: 0.9700 - val_loss: 1.1228 - val_categorical_accuracy: 0.8600\n",
      "Epoch 72/100\n",
      "8/8 [==============================] - 11s 1s/step - loss: 0.9851 - categorical_accuracy: 0.9650 - val_loss: 1.1280 - val_categorical_accuracy: 0.8200\n",
      "Epoch 73/100\n",
      "8/8 [==============================] - 11s 1s/step - loss: 0.9875 - categorical_accuracy: 0.9600 - val_loss: 1.1455 - val_categorical_accuracy: 0.7800\n",
      "Epoch 74/100\n",
      "8/8 [==============================] - 11s 1s/step - loss: 0.9775 - categorical_accuracy: 0.9750 - val_loss: 1.1288 - val_categorical_accuracy: 0.8600\n",
      "Epoch 75/100\n",
      "8/8 [==============================] - 11s 1s/step - loss: 0.9848 - categorical_accuracy: 0.9650 - val_loss: 1.1280 - val_categorical_accuracy: 0.8200\n",
      "Epoch 76/100\n",
      "8/8 [==============================] - 11s 1s/step - loss: 0.9758 - categorical_accuracy: 0.9700 - val_loss: 1.1339 - val_categorical_accuracy: 0.8200\n",
      "Epoch 77/100\n",
      "8/8 [==============================] - 11s 1s/step - loss: 0.9740 - categorical_accuracy: 0.9700 - val_loss: 1.1214 - val_categorical_accuracy: 0.8200\n",
      "Epoch 78/100\n",
      "8/8 [==============================] - 11s 1s/step - loss: 0.9739 - categorical_accuracy: 0.9600 - val_loss: 1.1208 - val_categorical_accuracy: 0.8200\n",
      "Epoch 79/100\n",
      "8/8 [==============================] - 10s 1s/step - loss: 0.9700 - categorical_accuracy: 0.9750 - val_loss: 1.1269 - val_categorical_accuracy: 0.8000\n",
      "Epoch 80/100\n",
      "8/8 [==============================] - 11s 1s/step - loss: 0.9772 - categorical_accuracy: 0.9600 - val_loss: 1.1259 - val_categorical_accuracy: 0.8200\n",
      "Epoch 81/100\n",
      "8/8 [==============================] - 11s 1s/step - loss: 0.9709 - categorical_accuracy: 0.9650 - val_loss: 1.1175 - val_categorical_accuracy: 0.8400\n",
      "Epoch 82/100\n",
      "8/8 [==============================] - 11s 1s/step - loss: 0.9634 - categorical_accuracy: 0.9850 - val_loss: 1.1237 - val_categorical_accuracy: 0.8200\n",
      "Epoch 83/100\n",
      "8/8 [==============================] - 11s 1s/step - loss: 0.9685 - categorical_accuracy: 0.9600 - val_loss: 1.1200 - val_categorical_accuracy: 0.8200\n",
      "Epoch 84/100\n",
      "8/8 [==============================] - 11s 1s/step - loss: 0.9701 - categorical_accuracy: 0.9650 - val_loss: 1.1312 - val_categorical_accuracy: 0.8000\n",
      "Epoch 85/100\n",
      "8/8 [==============================] - 11s 1s/step - loss: 0.9694 - categorical_accuracy: 0.9550 - val_loss: 1.1319 - val_categorical_accuracy: 0.8400\n",
      "Epoch 86/100\n",
      "8/8 [==============================] - 12s 1s/step - loss: 0.9676 - categorical_accuracy: 0.9650 - val_loss: 1.1201 - val_categorical_accuracy: 0.8200\n",
      "Epoch 87/100\n",
      "8/8 [==============================] - 11s 1s/step - loss: 0.9664 - categorical_accuracy: 0.9750 - val_loss: 1.1181 - val_categorical_accuracy: 0.8400\n",
      "Epoch 88/100\n",
      "8/8 [==============================] - 11s 1s/step - loss: 0.9637 - categorical_accuracy: 0.9700 - val_loss: 1.1197 - val_categorical_accuracy: 0.8400\n",
      "Epoch 89/100\n",
      "8/8 [==============================] - 11s 1s/step - loss: 0.9580 - categorical_accuracy: 0.9750 - val_loss: 1.1180 - val_categorical_accuracy: 0.8200\n",
      "Epoch 90/100\n",
      "8/8 [==============================] - 11s 1s/step - loss: 0.9615 - categorical_accuracy: 0.9800 - val_loss: 1.1189 - val_categorical_accuracy: 0.8000\n",
      "Epoch 91/100\n",
      "8/8 [==============================] - 12s 2s/step - loss: 0.9545 - categorical_accuracy: 0.9800 - val_loss: 1.1313 - val_categorical_accuracy: 0.8200\n",
      "Epoch 92/100\n",
      "8/8 [==============================] - 11s 1s/step - loss: 0.9567 - categorical_accuracy: 0.9850 - val_loss: 1.1125 - val_categorical_accuracy: 0.8400\n",
      "Epoch 93/100\n",
      "8/8 [==============================] - 11s 1s/step - loss: 0.9722 - categorical_accuracy: 0.9700 - val_loss: 1.1284 - val_categorical_accuracy: 0.8000\n",
      "Epoch 94/100\n",
      "8/8 [==============================] - 11s 1s/step - loss: 0.9615 - categorical_accuracy: 0.9750 - val_loss: 1.1085 - val_categorical_accuracy: 0.8400\n",
      "Epoch 95/100\n",
      "8/8 [==============================] - 11s 1s/step - loss: 0.9592 - categorical_accuracy: 0.9700 - val_loss: 1.1307 - val_categorical_accuracy: 0.8000\n",
      "Epoch 96/100\n",
      "8/8 [==============================] - 12s 2s/step - loss: 0.9568 - categorical_accuracy: 0.9850 - val_loss: 1.1321 - val_categorical_accuracy: 0.8000\n",
      "Epoch 97/100\n",
      "8/8 [==============================] - 12s 2s/step - loss: 0.9549 - categorical_accuracy: 0.9750 - val_loss: 1.1154 - val_categorical_accuracy: 0.8200\n",
      "Epoch 98/100\n",
      "8/8 [==============================] - 12s 1s/step - loss: 0.9571 - categorical_accuracy: 0.9850 - val_loss: 1.1240 - val_categorical_accuracy: 0.8000\n",
      "Epoch 99/100\n",
      "8/8 [==============================] - 12s 1s/step - loss: 0.9526 - categorical_accuracy: 0.9800 - val_loss: 1.1335 - val_categorical_accuracy: 0.8000\n",
      "Epoch 100/100\n",
      "8/8 [==============================] - 12s 1s/step - loss: 0.9549 - categorical_accuracy: 0.9800 - val_loss: 1.1224 - val_categorical_accuracy: 0.8200\n"
     ]
    }
   ],
   "source": [
    "history = model_vgg16_64.fit(train_it,\n",
    "          validation_data=valid_it,\n",
    "          steps_per_epoch=int(round(train_it.samples/train_it.batch_size)),\n",
    "          validation_steps=valid_it.samples/valid_it.batch_size,\n",
    "          epochs=100)"
   ]
  },
  {
   "cell_type": "code",
   "execution_count": 53,
   "id": "ebbde2a3",
   "metadata": {},
   "outputs": [
    {
     "name": "stdout",
     "output_type": "stream",
     "text": [
      "accuracy:  98.1 %\n",
      "val accuracy:  80.80000000000001 %\n"
     ]
    }
   ],
   "source": [
    "acc=0\n",
    "v_acc = 0\n",
    "for a in range(-5, 0, 1):\n",
    "    acc = history.history['categorical_accuracy'][a] + acc\n",
    "    v_acc = history.history['val_categorical_accuracy'][a] + v_acc\n",
    "print('accuracy: ', round(acc/5, 4)*100,'%')\n",
    "print('val accuracy: ', round(v_acc/5, 4)*100,'%')"
   ]
  },
  {
   "cell_type": "code",
   "execution_count": 54,
   "id": "a94613ac",
   "metadata": {},
   "outputs": [
    {
     "data": {
      "image/png": "[encoded data removed]",
      "text/plain": [
       "<Figure size 432x288 with 1 Axes>"
      ]
     },
     "metadata": {
      "needs_background": "light"
     },
     "output_type": "display_data"
    }
   ],
   "source": [
    "plot_loss(history)"
   ]
  },
  {
   "cell_type": "code",
   "execution_count": 55,
   "id": "e21aba2a",
   "metadata": {},
   "outputs": [
    {
     "data": {
      "image/png": "[encoded data removed]",
      "text/plain": [
       "<Figure size 432x288 with 1 Axes>"
      ]
     },
     "metadata": {
      "needs_background": "light"
     },
     "output_type": "display_data"
    }
   ],
   "source": [
    "plot_accuracy(history)"
   ]
  },
  {
   "cell_type": "markdown",
   "id": "bd905400",
   "metadata": {},
   "source": [
    "### Setup 1 with Adam as optimizer and additional Dense layer that has different number of nodes.\n",
    "#### Results as shown below:\n",
    "                no. of nodes  Training Accuracy      Validation Accuracy\n",
    "                512                 99.3%                   84.0%\n",
    "                256                 99.1%                   85.2%\n",
    "                128                 98.7%                   84.0%\n",
    "                64                  98.1%                   80.8%                           \n",
    "*The accuracy is estimated average of the last 5 epoch"
   ]
  },
  {
   "cell_type": "markdown",
   "id": "cbc27610",
   "metadata": {},
   "source": [
    "#### Base on above results, the good candidate for additional layer will Dense 256 and Dense 128."
   ]
  },
  {
   "cell_type": "markdown",
   "id": "da39af0e",
   "metadata": {},
   "source": [
    "### Setup 2 Train the top layer and the last block of convolution Network."
   ]
  },
  {
   "cell_type": "code",
   "execution_count": 56,
   "id": "3974cfc8",
   "metadata": {},
   "outputs": [
    {
     "name": "stdout",
     "output_type": "stream",
     "text": [
      "Model: \"vgg16\"\n",
      "_________________________________________________________________\n",
      "Layer (type)                 Output Shape              Param #   \n",
      "=================================================================\n",
      "input_1 (InputLayer)         [(None, 224, 224, 3)]     0         \n",
      "_________________________________________________________________\n",
      "block1_conv1 (Conv2D)        (None, 224, 224, 64)      1792      \n",
      "_________________________________________________________________\n",
      "block1_conv2 (Conv2D)        (None, 224, 224, 64)      36928     \n",
      "_________________________________________________________________\n",
      "block1_pool (MaxPooling2D)   (None, 112, 112, 64)      0         \n",
      "_________________________________________________________________\n",
      "block2_conv1 (Conv2D)        (None, 112, 112, 128)     73856     \n",
      "_________________________________________________________________\n",
      "block2_conv2 (Conv2D)        (None, 112, 112, 128)     147584    \n",
      "_________________________________________________________________\n",
      "block2_pool (MaxPooling2D)   (None, 56, 56, 128)       0         \n",
      "_________________________________________________________________\n",
      "block3_conv1 (Conv2D)        (None, 56, 56, 256)       295168    \n",
      "_________________________________________________________________\n",
      "block3_conv2 (Conv2D)        (None, 56, 56, 256)       590080    \n",
      "_________________________________________________________________\n",
      "block3_conv3 (Conv2D)        (None, 56, 56, 256)       590080    \n",
      "_________________________________________________________________\n",
      "block3_pool (MaxPooling2D)   (None, 28, 28, 256)       0         \n",
      "_________________________________________________________________\n",
      "block4_conv1 (Conv2D)        (None, 28, 28, 512)       1180160   \n",
      "_________________________________________________________________\n",
      "block4_conv2 (Conv2D)        (None, 28, 28, 512)       2359808   \n",
      "_________________________________________________________________\n",
      "block4_conv3 (Conv2D)        (None, 28, 28, 512)       2359808   \n",
      "_________________________________________________________________\n",
      "block4_pool (MaxPooling2D)   (None, 14, 14, 512)       0         \n",
      "_________________________________________________________________\n",
      "block5_conv1 (Conv2D)        (None, 14, 14, 512)       2359808   \n",
      "_________________________________________________________________\n",
      "block5_conv2 (Conv2D)        (None, 14, 14, 512)       2359808   \n",
      "_________________________________________________________________\n",
      "block5_conv3 (Conv2D)        (None, 14, 14, 512)       2359808   \n",
      "_________________________________________________________________\n",
      "block5_pool (MaxPooling2D)   (None, 7, 7, 512)         0         \n",
      "=================================================================\n",
      "Total params: 14,714,688\n",
      "Trainable params: 14,714,688\n",
      "Non-trainable params: 0\n",
      "_________________________________________________________________\n"
     ]
    }
   ],
   "source": [
    "base_model_vgg16.trainable = True\n",
    "base_model_vgg16.summary()"
   ]
  },
  {
   "cell_type": "code",
   "execution_count": 57,
   "id": "725d9687",
   "metadata": {},
   "outputs": [
    {
     "name": "stdout",
     "output_type": "stream",
     "text": [
      "Layer 0: input_1 (True)\n",
      "Layer 1: block1_conv1 (True)\n",
      "Layer 2: block1_conv2 (True)\n",
      "Layer 3: block1_pool (True)\n",
      "Layer 4: block2_conv1 (True)\n",
      "Layer 5: block2_conv2 (True)\n",
      "Layer 6: block2_pool (True)\n",
      "Layer 7: block3_conv1 (True)\n",
      "Layer 8: block3_conv2 (True)\n",
      "Layer 9: block3_conv3 (True)\n",
      "Layer 10: block3_pool (True)\n",
      "Layer 11: block4_conv1 (True)\n",
      "Layer 12: block4_conv2 (True)\n",
      "Layer 13: block4_conv3 (True)\n",
      "Layer 14: block4_pool (True)\n",
      "Layer 15: block5_conv1 (True)\n",
      "Layer 16: block5_conv2 (True)\n",
      "Layer 17: block5_conv3 (True)\n",
      "Layer 18: block5_pool (True)\n"
     ]
    }
   ],
   "source": [
    "for i, layer in enumerate(base_model_vgg16.layers):\n",
    "    print('Layer {}: {} ({})'.format(i, layer.name, layer.trainable))"
   ]
  },
  {
   "cell_type": "code",
   "execution_count": 58,
   "id": "e213934b",
   "metadata": {},
   "outputs": [],
   "source": [
    "for layer in base_model_vgg16.layers[:15]:\n",
    "  layer.trainable = False"
   ]
  },
  {
   "cell_type": "code",
   "execution_count": 59,
   "id": "78d44977",
   "metadata": {},
   "outputs": [
    {
     "name": "stdout",
     "output_type": "stream",
     "text": [
      "Layer 0: input_1 (False)\n",
      "Layer 1: block1_conv1 (False)\n",
      "Layer 2: block1_conv2 (False)\n",
      "Layer 3: block1_pool (False)\n",
      "Layer 4: block2_conv1 (False)\n",
      "Layer 5: block2_conv2 (False)\n",
      "Layer 6: block2_pool (False)\n",
      "Layer 7: block3_conv1 (False)\n",
      "Layer 8: block3_conv2 (False)\n",
      "Layer 9: block3_conv3 (False)\n",
      "Layer 10: block3_pool (False)\n",
      "Layer 11: block4_conv1 (False)\n",
      "Layer 12: block4_conv2 (False)\n",
      "Layer 13: block4_conv3 (False)\n",
      "Layer 14: block4_pool (False)\n",
      "Layer 15: block5_conv1 (True)\n",
      "Layer 16: block5_conv2 (True)\n",
      "Layer 17: block5_conv3 (True)\n",
      "Layer 18: block5_pool (True)\n"
     ]
    }
   ],
   "source": [
    "for i, layer in enumerate(base_model_vgg16.layers):\n",
    "    print('Layer {}: {} ({})'.format(i, layer.name, layer.trainable))"
   ]
  },
  {
   "cell_type": "markdown",
   "id": "a743a1e8",
   "metadata": {},
   "source": [
    "#### without additional dense layer at the output"
   ]
  },
  {
   "cell_type": "code",
   "execution_count": 60,
   "id": "f3efb332",
   "metadata": {},
   "outputs": [],
   "source": [
    "model_vgg16.compile(optimizer=keras.optimizers.Adam(learning_rate = 0.00001),\n",
    "              loss = keras.losses.CategoricalCrossentropy(from_logits=True) , metrics = [keras.metrics.CategoricalAccuracy()])"
   ]
  },
  {
   "cell_type": "code",
   "execution_count": 61,
   "id": "5d155adb",
   "metadata": {},
   "outputs": [
    {
     "name": "stdout",
     "output_type": "stream",
     "text": [
      "Model: \"model\"\n",
      "_________________________________________________________________\n",
      "Layer (type)                 Output Shape              Param #   \n",
      "=================================================================\n",
      "input_2 (InputLayer)         [(None, 224, 224, 3)]     0         \n",
      "_________________________________________________________________\n",
      "vgg16 (Model)                (None, 7, 7, 512)         14714688  \n",
      "_________________________________________________________________\n",
      "global_average_pooling2d (Gl (None, 512)               0         \n",
      "_________________________________________________________________\n",
      "dense (Dense)                (None, 5)                 2565      \n",
      "=================================================================\n",
      "Total params: 14,717,253\n",
      "Trainable params: 7,081,989\n",
      "Non-trainable params: 7,635,264\n",
      "_________________________________________________________________\n"
     ]
    }
   ],
   "source": [
    "model_vgg16.summary()"
   ]
  },
  {
   "cell_type": "code",
   "execution_count": 62,
   "id": "4ef72f60",
   "metadata": {},
   "outputs": [
    {
     "name": "stdout",
     "output_type": "stream",
     "text": [
      "Epoch 1/30\n",
      "8/8 [==============================] - 18s 2s/step - loss: 1.0491 - categorical_accuracy: 0.9350 - val_loss: 1.1518 - val_categorical_accuracy: 0.8200\n",
      "Epoch 2/30\n",
      "8/8 [==============================] - 19s 2s/step - loss: 1.0123 - categorical_accuracy: 0.9450 - val_loss: 1.1303 - val_categorical_accuracy: 0.8400\n",
      "Epoch 3/30\n",
      "8/8 [==============================] - 19s 2s/step - loss: 1.0044 - categorical_accuracy: 0.9250 - val_loss: 1.1217 - val_categorical_accuracy: 0.8000\n",
      "Epoch 4/30\n",
      "8/8 [==============================] - 18s 2s/step - loss: 0.9897 - categorical_accuracy: 0.9350 - val_loss: 1.0882 - val_categorical_accuracy: 0.8600\n",
      "Epoch 5/30\n",
      "8/8 [==============================] - 16s 2s/step - loss: 0.9741 - categorical_accuracy: 0.9550 - val_loss: 1.0910 - val_categorical_accuracy: 0.8400\n",
      "Epoch 6/30\n",
      "8/8 [==============================] - 18s 2s/step - loss: 0.9751 - categorical_accuracy: 0.9500 - val_loss: 1.0774 - val_categorical_accuracy: 0.9000\n",
      "Epoch 7/30\n",
      "8/8 [==============================] - 20s 2s/step - loss: 0.9653 - categorical_accuracy: 0.9500 - val_loss: 1.0725 - val_categorical_accuracy: 0.8800\n",
      "Epoch 8/30\n",
      "8/8 [==============================] - 17s 2s/step - loss: 0.9587 - categorical_accuracy: 0.9550 - val_loss: 1.0685 - val_categorical_accuracy: 0.8800\n",
      "Epoch 9/30\n",
      "8/8 [==============================] - 18s 2s/step - loss: 0.9540 - categorical_accuracy: 0.9650 - val_loss: 1.0715 - val_categorical_accuracy: 0.8600\n",
      "Epoch 10/30\n",
      "8/8 [==============================] - 17s 2s/step - loss: 0.9555 - categorical_accuracy: 0.9550 - val_loss: 1.0742 - val_categorical_accuracy: 0.8600\n",
      "Epoch 11/30\n",
      "8/8 [==============================] - 20s 2s/step - loss: 0.9445 - categorical_accuracy: 0.9650 - val_loss: 1.0749 - val_categorical_accuracy: 0.8600\n",
      "Epoch 12/30\n",
      "8/8 [==============================] - 19s 2s/step - loss: 0.9438 - categorical_accuracy: 0.9750 - val_loss: 1.0688 - val_categorical_accuracy: 0.8600\n",
      "Epoch 13/30\n",
      "8/8 [==============================] - 17s 2s/step - loss: 0.9389 - categorical_accuracy: 0.9700 - val_loss: 1.0681 - val_categorical_accuracy: 0.8600\n",
      "Epoch 14/30\n",
      "8/8 [==============================] - 18s 2s/step - loss: 0.9433 - categorical_accuracy: 0.9650 - val_loss: 1.0896 - val_categorical_accuracy: 0.8200\n",
      "Epoch 15/30\n",
      "8/8 [==============================] - 16s 2s/step - loss: 0.9316 - categorical_accuracy: 0.9850 - val_loss: 1.0604 - val_categorical_accuracy: 0.8800\n",
      "Epoch 16/30\n",
      "8/8 [==============================] - 18s 2s/step - loss: 0.9324 - categorical_accuracy: 0.9800 - val_loss: 1.0922 - val_categorical_accuracy: 0.8200\n",
      "Epoch 17/30\n",
      "8/8 [==============================] - 16s 2s/step - loss: 0.9327 - categorical_accuracy: 0.9800 - val_loss: 1.0578 - val_categorical_accuracy: 0.8800\n",
      "Epoch 18/30\n",
      "8/8 [==============================] - 16s 2s/step - loss: 0.9327 - categorical_accuracy: 0.9800 - val_loss: 1.0678 - val_categorical_accuracy: 0.8600\n",
      "Epoch 19/30\n",
      "8/8 [==============================] - 16s 2s/step - loss: 0.9229 - categorical_accuracy: 0.9900 - val_loss: 1.0645 - val_categorical_accuracy: 0.8600\n",
      "Epoch 20/30\n",
      "8/8 [==============================] - 17s 2s/step - loss: 0.9223 - categorical_accuracy: 0.9950 - val_loss: 1.0697 - val_categorical_accuracy: 0.8600\n",
      "Epoch 21/30\n",
      "8/8 [==============================] - 16s 2s/step - loss: 0.9222 - categorical_accuracy: 0.9900 - val_loss: 1.0565 - val_categorical_accuracy: 0.8600\n",
      "Epoch 22/30\n",
      "8/8 [==============================] - 16s 2s/step - loss: 0.9214 - categorical_accuracy: 0.9900 - val_loss: 1.0605 - val_categorical_accuracy: 0.8800\n",
      "Epoch 23/30\n",
      "8/8 [==============================] - 16s 2s/step - loss: 0.9202 - categorical_accuracy: 0.9900 - val_loss: 1.0695 - val_categorical_accuracy: 0.8400\n",
      "Epoch 24/30\n",
      "8/8 [==============================] - 17s 2s/step - loss: 0.9196 - categorical_accuracy: 0.9950 - val_loss: 1.0546 - val_categorical_accuracy: 0.8600\n",
      "Epoch 25/30\n",
      "8/8 [==============================] - 16s 2s/step - loss: 0.9212 - categorical_accuracy: 0.9900 - val_loss: 1.1273 - val_categorical_accuracy: 0.7600\n",
      "Epoch 26/30\n",
      "8/8 [==============================] - 16s 2s/step - loss: 0.9150 - categorical_accuracy: 0.9950 - val_loss: 1.0532 - val_categorical_accuracy: 0.8600\n",
      "Epoch 27/30\n",
      "8/8 [==============================] - 17s 2s/step - loss: 0.9141 - categorical_accuracy: 0.9950 - val_loss: 1.0425 - val_categorical_accuracy: 0.8800\n",
      "Epoch 28/30\n",
      "8/8 [==============================] - 17s 2s/step - loss: 0.9154 - categorical_accuracy: 0.9950 - val_loss: 1.0797 - val_categorical_accuracy: 0.8200\n",
      "Epoch 29/30\n",
      "8/8 [==============================] - 17s 2s/step - loss: 0.9146 - categorical_accuracy: 0.9950 - val_loss: 1.0519 - val_categorical_accuracy: 0.9000\n",
      "Epoch 30/30\n",
      "8/8 [==============================] - 17s 2s/step - loss: 0.9136 - categorical_accuracy: 0.9950 - val_loss: 1.0468 - val_categorical_accuracy: 0.8600\n"
     ]
    }
   ],
   "source": [
    "history = model_vgg16.fit(train_it,\n",
    "          validation_data=valid_it,\n",
    "          steps_per_epoch=train_it.samples/train_it.batch_size,\n",
    "          validation_steps=valid_it.samples/valid_it.batch_size,\n",
    "          epochs=30)"
   ]
  },
  {
   "cell_type": "code",
   "execution_count": 63,
   "id": "04a7240a",
   "metadata": {},
   "outputs": [
    {
     "name": "stdout",
     "output_type": "stream",
     "text": [
      "accuracy:  99.5 %\n",
      "val accuracy:  86.4 %\n"
     ]
    }
   ],
   "source": [
    "acc=0\n",
    "v_acc = 0\n",
    "for a in range(-5, 0, 1):\n",
    "    acc = history.history['categorical_accuracy'][a] + acc\n",
    "    v_acc = history.history['val_categorical_accuracy'][a] + v_acc\n",
    "print('accuracy: ', round(acc/5, 4)*100,'%')\n",
    "print('val accuracy: ', round(v_acc/5, 4)*100,'%')"
   ]
  },
  {
   "cell_type": "code",
   "execution_count": 64,
   "id": "e1907c53",
   "metadata": {},
   "outputs": [
    {
     "data": {
      "image/png": "[encoded data removed]",
      "text/plain": [
       "<Figure size 432x288 with 1 Axes>"
      ]
     },
     "metadata": {
      "needs_background": "light"
     },
     "output_type": "display_data"
    }
   ],
   "source": [
    "plot_loss(history)"
   ]
  },
  {
   "cell_type": "code",
   "execution_count": 65,
   "id": "5cad7b4d",
   "metadata": {},
   "outputs": [
    {
     "data": {
      "image/png": "[encoded data removed]",
      "text/plain": [
       "<Figure size 432x288 with 1 Axes>"
      ]
     },
     "metadata": {
      "needs_background": "light"
     },
     "output_type": "display_data"
    }
   ],
   "source": [
    "plot_accuracy(history)"
   ]
  },
  {
   "cell_type": "markdown",
   "id": "65d6f733",
   "metadata": {},
   "source": [
    "#### with additional 128 node at the output dense layer"
   ]
  },
  {
   "cell_type": "code",
   "execution_count": 66,
   "id": "82bd2a47",
   "metadata": {},
   "outputs": [],
   "source": [
    "model_vgg16_128.compile(optimizer=keras.optimizers.Adam(learning_rate = 0.00001),\n",
    "              loss = keras.losses.CategoricalCrossentropy(from_logits=True) , metrics = [keras.metrics.CategoricalAccuracy()])"
   ]
  },
  {
   "cell_type": "code",
   "execution_count": 67,
   "id": "557041f9",
   "metadata": {},
   "outputs": [
    {
     "name": "stdout",
     "output_type": "stream",
     "text": [
      "Model: \"model_3\"\n",
      "_________________________________________________________________\n",
      "Layer (type)                 Output Shape              Param #   \n",
      "=================================================================\n",
      "input_5 (InputLayer)         [(None, 224, 224, 3)]     0         \n",
      "_________________________________________________________________\n",
      "vgg16 (Model)                (None, 7, 7, 512)         14714688  \n",
      "_________________________________________________________________\n",
      "global_average_pooling2d_3 ( (None, 512)               0         \n",
      "_________________________________________________________________\n",
      "dense_5 (Dense)              (None, 128)               65664     \n",
      "_________________________________________________________________\n",
      "dense_6 (Dense)              (None, 5)                 645       \n",
      "=================================================================\n",
      "Total params: 14,780,997\n",
      "Trainable params: 7,145,733\n",
      "Non-trainable params: 7,635,264\n",
      "_________________________________________________________________\n"
     ]
    }
   ],
   "source": [
    "model_vgg16_128.summary()"
   ]
  },
  {
   "cell_type": "code",
   "execution_count": 68,
   "id": "9e2348f7",
   "metadata": {},
   "outputs": [
    {
     "name": "stdout",
     "output_type": "stream",
     "text": [
      "Epoch 1/30\n",
      "8/8 [==============================] - 17s 2s/step - loss: 0.9156 - categorical_accuracy: 0.9900 - val_loss: 1.0641 - val_categorical_accuracy: 0.8600\n",
      "Epoch 2/30\n",
      "8/8 [==============================] - 17s 2s/step - loss: 0.9114 - categorical_accuracy: 0.9950 - val_loss: 1.0447 - val_categorical_accuracy: 0.8600\n",
      "Epoch 3/30\n",
      "8/8 [==============================] - 16s 2s/step - loss: 0.9111 - categorical_accuracy: 0.9950 - val_loss: 1.0782 - val_categorical_accuracy: 0.8200\n",
      "Epoch 4/30\n",
      "8/8 [==============================] - 16s 2s/step - loss: 0.9103 - categorical_accuracy: 0.9950 - val_loss: 1.1192 - val_categorical_accuracy: 0.7800\n",
      "Epoch 5/30\n",
      "8/8 [==============================] - 16s 2s/step - loss: 0.9102 - categorical_accuracy: 0.9950 - val_loss: 1.0703 - val_categorical_accuracy: 0.8400\n",
      "Epoch 6/30\n",
      "8/8 [==============================] - 15s 2s/step - loss: 0.9100 - categorical_accuracy: 0.9950 - val_loss: 1.0167 - val_categorical_accuracy: 0.9000\n",
      "Epoch 7/30\n",
      "8/8 [==============================] - 16s 2s/step - loss: 0.9152 - categorical_accuracy: 0.9900 - val_loss: 1.0119 - val_categorical_accuracy: 0.9000\n",
      "Epoch 8/30\n",
      "8/8 [==============================] - 16s 2s/step - loss: 0.9102 - categorical_accuracy: 0.9950 - val_loss: 1.0204 - val_categorical_accuracy: 0.9200\n",
      "Epoch 9/30\n",
      "8/8 [==============================] - 16s 2s/step - loss: 0.9226 - categorical_accuracy: 0.9850 - val_loss: 1.1394 - val_categorical_accuracy: 0.7600\n",
      "Epoch 10/30\n",
      "8/8 [==============================] - 16s 2s/step - loss: 0.9257 - categorical_accuracy: 0.9800 - val_loss: 1.0107 - val_categorical_accuracy: 0.9000\n",
      "Epoch 11/30\n",
      "8/8 [==============================] - 17s 2s/step - loss: 0.9176 - categorical_accuracy: 0.9900 - val_loss: 0.9822 - val_categorical_accuracy: 0.9400\n",
      "Epoch 12/30\n",
      "8/8 [==============================] - 17s 2s/step - loss: 0.9107 - categorical_accuracy: 0.9950 - val_loss: 1.0522 - val_categorical_accuracy: 0.8600\n",
      "Epoch 13/30\n",
      "8/8 [==============================] - 16s 2s/step - loss: 0.9100 - categorical_accuracy: 0.9950 - val_loss: 1.0723 - val_categorical_accuracy: 0.8400\n",
      "Epoch 14/30\n",
      "8/8 [==============================] - 16s 2s/step - loss: 0.9101 - categorical_accuracy: 0.9950 - val_loss: 1.0727 - val_categorical_accuracy: 0.8400\n",
      "Epoch 15/30\n",
      "8/8 [==============================] - 16s 2s/step - loss: 0.9103 - categorical_accuracy: 0.9950 - val_loss: 1.0117 - val_categorical_accuracy: 0.9000\n",
      "Epoch 16/30\n",
      "8/8 [==============================] - 16s 2s/step - loss: 0.9096 - categorical_accuracy: 0.9950 - val_loss: 0.9868 - val_categorical_accuracy: 0.9200\n",
      "Epoch 17/30\n",
      "8/8 [==============================] - 16s 2s/step - loss: 0.9113 - categorical_accuracy: 0.9950 - val_loss: 1.1215 - val_categorical_accuracy: 0.8000\n",
      "Epoch 18/30\n",
      "8/8 [==============================] - 16s 2s/step - loss: 0.9114 - categorical_accuracy: 0.9950 - val_loss: 0.9902 - val_categorical_accuracy: 0.9200\n",
      "Epoch 19/30\n",
      "8/8 [==============================] - 16s 2s/step - loss: 0.9100 - categorical_accuracy: 0.9950 - val_loss: 1.0316 - val_categorical_accuracy: 0.8600\n",
      "Epoch 20/30\n",
      "8/8 [==============================] - 16s 2s/step - loss: 0.9122 - categorical_accuracy: 0.9950 - val_loss: 1.1404 - val_categorical_accuracy: 0.7800\n",
      "Epoch 21/30\n",
      "8/8 [==============================] - 18s 2s/step - loss: 0.9133 - categorical_accuracy: 0.9950 - val_loss: 1.0109 - val_categorical_accuracy: 0.9000\n",
      "Epoch 22/30\n",
      "8/8 [==============================] - 17s 2s/step - loss: 0.9115 - categorical_accuracy: 0.9950 - val_loss: 1.0370 - val_categorical_accuracy: 0.8600\n",
      "Epoch 23/30\n",
      "8/8 [==============================] - 17s 2s/step - loss: 0.9102 - categorical_accuracy: 0.9950 - val_loss: 1.0710 - val_categorical_accuracy: 0.8200\n",
      "Epoch 24/30\n",
      "8/8 [==============================] - 17s 2s/step - loss: 0.9108 - categorical_accuracy: 0.9950 - val_loss: 1.0385 - val_categorical_accuracy: 0.8600\n",
      "Epoch 25/30\n",
      "8/8 [==============================] - 16s 2s/step - loss: 0.9100 - categorical_accuracy: 0.9950 - val_loss: 1.0399 - val_categorical_accuracy: 0.8600\n",
      "Epoch 26/30\n",
      "8/8 [==============================] - 17s 2s/step - loss: 0.9099 - categorical_accuracy: 0.9950 - val_loss: 1.0510 - val_categorical_accuracy: 0.8400\n",
      "Epoch 27/30\n",
      "8/8 [==============================] - 17s 2s/step - loss: 0.9100 - categorical_accuracy: 0.9950 - val_loss: 1.0362 - val_categorical_accuracy: 0.8600\n",
      "Epoch 28/30\n",
      "8/8 [==============================] - 16s 2s/step - loss: 0.9099 - categorical_accuracy: 0.9950 - val_loss: 1.0287 - val_categorical_accuracy: 0.8800\n",
      "Epoch 29/30\n",
      "8/8 [==============================] - 16s 2s/step - loss: 0.9099 - categorical_accuracy: 0.9950 - val_loss: 1.0251 - val_categorical_accuracy: 0.8800\n",
      "Epoch 30/30\n",
      "8/8 [==============================] - 16s 2s/step - loss: 0.9099 - categorical_accuracy: 0.9950 - val_loss: 1.0232 - val_categorical_accuracy: 0.8800\n"
     ]
    }
   ],
   "source": [
    "history = model_vgg16_128.fit(train_it,\n",
    "          validation_data=valid_it,\n",
    "          steps_per_epoch=train_it.samples/train_it.batch_size,\n",
    "          validation_steps=valid_it.samples/valid_it.batch_size,\n",
    "          epochs=30)"
   ]
  },
  {
   "cell_type": "code",
   "execution_count": 69,
   "id": "0e686f3b",
   "metadata": {},
   "outputs": [
    {
     "name": "stdout",
     "output_type": "stream",
     "text": [
      "accuracy:  99.5 %\n",
      "val accuracy:  86.8 %\n"
     ]
    }
   ],
   "source": [
    "acc=0\n",
    "v_acc = 0\n",
    "for a in range(-5, 0, 1):\n",
    "    acc = history.history['categorical_accuracy'][a] + acc\n",
    "    v_acc = history.history['val_categorical_accuracy'][a] + v_acc\n",
    "print('accuracy: ', round(acc/5, 4)*100,'%')\n",
    "print('val accuracy: ', round(v_acc/5, 4)*100,'%')"
   ]
  },
  {
   "cell_type": "code",
   "execution_count": 70,
   "id": "58e1d440",
   "metadata": {},
   "outputs": [],
   "source": [
    "model_vgg16_128.save('vgg16_last_128_out.h5')"
   ]
  },
  {
   "cell_type": "code",
   "execution_count": 71,
   "id": "59f3c11a",
   "metadata": {},
   "outputs": [
    {
     "data": {
      "image/png": "[encoded data removed]",
      "text/plain": [
       "<Figure size 432x288 with 1 Axes>"
      ]
     },
     "metadata": {
      "needs_background": "light"
     },
     "output_type": "display_data"
    }
   ],
   "source": [
    "plot_loss(history)"
   ]
  },
  {
   "cell_type": "code",
   "execution_count": 72,
   "id": "e89cc0b5",
   "metadata": {},
   "outputs": [
    {
     "data": {
      "image/png": "[encoded data removed]",
      "text/plain": [
       "<Figure size 432x288 with 1 Axes>"
      ]
     },
     "metadata": {
      "needs_background": "light"
     },
     "output_type": "display_data"
    }
   ],
   "source": [
    "plot_accuracy(history)"
   ]
  },
  {
   "cell_type": "markdown",
   "id": "1fc42fa4",
   "metadata": {},
   "source": [
    "#### with additional 256 nodes at the output dense layer"
   ]
  },
  {
   "cell_type": "code",
   "execution_count": 73,
   "id": "a6a43b85",
   "metadata": {},
   "outputs": [],
   "source": [
    "model_vgg16_256.compile(optimizer=keras.optimizers.Adam(learning_rate = 0.00001),\n",
    "              loss = keras.losses.CategoricalCrossentropy(from_logits=True) , metrics = [keras.metrics.CategoricalAccuracy()])"
   ]
  },
  {
   "cell_type": "code",
   "execution_count": 74,
   "id": "648d59f9",
   "metadata": {},
   "outputs": [
    {
     "name": "stdout",
     "output_type": "stream",
     "text": [
      "Model: \"model_2\"\n",
      "_________________________________________________________________\n",
      "Layer (type)                 Output Shape              Param #   \n",
      "=================================================================\n",
      "input_4 (InputLayer)         [(None, 224, 224, 3)]     0         \n",
      "_________________________________________________________________\n",
      "vgg16 (Model)                (None, 7, 7, 512)         14714688  \n",
      "_________________________________________________________________\n",
      "global_average_pooling2d_2 ( (None, 512)               0         \n",
      "_________________________________________________________________\n",
      "dense_3 (Dense)              (None, 256)               131328    \n",
      "_________________________________________________________________\n",
      "dense_4 (Dense)              (None, 5)                 1285      \n",
      "=================================================================\n",
      "Total params: 14,847,301\n",
      "Trainable params: 7,212,037\n",
      "Non-trainable params: 7,635,264\n",
      "_________________________________________________________________\n"
     ]
    }
   ],
   "source": [
    "model_vgg16_256.summary()"
   ]
  },
  {
   "cell_type": "code",
   "execution_count": 75,
   "id": "ce6b66cd",
   "metadata": {},
   "outputs": [
    {
     "name": "stdout",
     "output_type": "stream",
     "text": [
      "Epoch 1/30\n",
      "8/8 [==============================] - 16s 2s/step - loss: 0.9099 - categorical_accuracy: 0.9950 - val_loss: 1.0213 - val_categorical_accuracy: 0.8800\n",
      "Epoch 2/30\n",
      "8/8 [==============================] - 17s 2s/step - loss: 0.9126 - categorical_accuracy: 0.9900 - val_loss: 1.0518 - val_categorical_accuracy: 0.8600\n",
      "Epoch 3/30\n",
      "8/8 [==============================] - 18s 2s/step - loss: 0.9104 - categorical_accuracy: 0.9950 - val_loss: 1.0675 - val_categorical_accuracy: 0.8200\n",
      "Epoch 4/30\n",
      "8/8 [==============================] - 17s 2s/step - loss: 0.9099 - categorical_accuracy: 0.9950 - val_loss: 1.0310 - val_categorical_accuracy: 0.8800\n",
      "Epoch 5/30\n",
      "8/8 [==============================] - 17s 2s/step - loss: 0.9097 - categorical_accuracy: 0.9950 - val_loss: 1.0181 - val_categorical_accuracy: 0.8800\n",
      "Epoch 6/30\n",
      "8/8 [==============================] - 17s 2s/step - loss: 0.9108 - categorical_accuracy: 0.9950 - val_loss: 1.0295 - val_categorical_accuracy: 0.9000\n",
      "Epoch 7/30\n",
      "8/8 [==============================] - 17s 2s/step - loss: 0.9103 - categorical_accuracy: 0.9950 - val_loss: 1.0778 - val_categorical_accuracy: 0.8200\n",
      "Epoch 8/30\n",
      "8/8 [==============================] - 17s 2s/step - loss: 0.9051 - categorical_accuracy: 1.0000 - val_loss: 1.1102 - val_categorical_accuracy: 0.7800\n",
      "Epoch 9/30\n",
      "8/8 [==============================] - 18s 2s/step - loss: 0.9053 - categorical_accuracy: 1.0000 - val_loss: 1.0792 - val_categorical_accuracy: 0.8400\n",
      "Epoch 10/30\n",
      "8/8 [==============================] - 17s 2s/step - loss: 0.9049 - categorical_accuracy: 1.0000 - val_loss: 1.0476 - val_categorical_accuracy: 0.8400\n",
      "Epoch 11/30\n",
      "8/8 [==============================] - 17s 2s/step - loss: 0.9049 - categorical_accuracy: 1.0000 - val_loss: 1.0438 - val_categorical_accuracy: 0.8600\n",
      "Epoch 12/30\n",
      "8/8 [==============================] - 16s 2s/step - loss: 0.9049 - categorical_accuracy: 1.0000 - val_loss: 1.0423 - val_categorical_accuracy: 0.8600\n",
      "Epoch 13/30\n",
      "8/8 [==============================] - 20s 2s/step - loss: 0.9049 - categorical_accuracy: 1.0000 - val_loss: 1.0422 - val_categorical_accuracy: 0.8600\n",
      "Epoch 14/30\n",
      "8/8 [==============================] - 16s 2s/step - loss: 0.9048 - categorical_accuracy: 1.0000 - val_loss: 1.0424 - val_categorical_accuracy: 0.8600\n",
      "Epoch 15/30\n",
      "8/8 [==============================] - 16s 2s/step - loss: 0.9050 - categorical_accuracy: 1.0000 - val_loss: 1.0471 - val_categorical_accuracy: 0.8600\n",
      "Epoch 16/30\n",
      "8/8 [==============================] - 16s 2s/step - loss: 0.9049 - categorical_accuracy: 1.0000 - val_loss: 1.0660 - val_categorical_accuracy: 0.8600\n",
      "Epoch 17/30\n",
      "8/8 [==============================] - 17s 2s/step - loss: 0.9051 - categorical_accuracy: 1.0000 - val_loss: 1.0404 - val_categorical_accuracy: 0.8600\n",
      "Epoch 18/30\n",
      "8/8 [==============================] - 17s 2s/step - loss: 0.9048 - categorical_accuracy: 1.0000 - val_loss: 1.0248 - val_categorical_accuracy: 0.8800\n",
      "Epoch 19/30\n",
      "8/8 [==============================] - 17s 2s/step - loss: 0.9049 - categorical_accuracy: 1.0000 - val_loss: 1.0248 - val_categorical_accuracy: 0.8800\n",
      "Epoch 20/30\n",
      "8/8 [==============================] - 16s 2s/step - loss: 0.9055 - categorical_accuracy: 1.0000 - val_loss: 1.1270 - val_categorical_accuracy: 0.7600\n",
      "Epoch 21/30\n",
      "8/8 [==============================] - 16s 2s/step - loss: 0.9101 - categorical_accuracy: 0.9950 - val_loss: 1.0515 - val_categorical_accuracy: 0.8400\n",
      "Epoch 22/30\n",
      "8/8 [==============================] - 17s 2s/step - loss: 0.9049 - categorical_accuracy: 1.0000 - val_loss: 1.0483 - val_categorical_accuracy: 0.8600\n",
      "Epoch 23/30\n",
      "8/8 [==============================] - 17s 2s/step - loss: 0.9055 - categorical_accuracy: 1.0000 - val_loss: 1.0772 - val_categorical_accuracy: 0.8200\n",
      "Epoch 24/30\n",
      "8/8 [==============================] - 18s 2s/step - loss: 0.9100 - categorical_accuracy: 0.9950 - val_loss: 1.0782 - val_categorical_accuracy: 0.8400\n",
      "Epoch 25/30\n",
      "8/8 [==============================] - 17s 2s/step - loss: 0.9069 - categorical_accuracy: 1.0000 - val_loss: 1.0398 - val_categorical_accuracy: 0.8800\n",
      "Epoch 26/30\n",
      "8/8 [==============================] - 17s 2s/step - loss: 0.9057 - categorical_accuracy: 1.0000 - val_loss: 1.0561 - val_categorical_accuracy: 0.8400\n",
      "Epoch 27/30\n",
      "8/8 [==============================] - 17s 2s/step - loss: 0.9057 - categorical_accuracy: 1.0000 - val_loss: 1.0505 - val_categorical_accuracy: 0.8400\n",
      "Epoch 28/30\n",
      "8/8 [==============================] - 18s 2s/step - loss: 0.9050 - categorical_accuracy: 1.0000 - val_loss: 1.0433 - val_categorical_accuracy: 0.8600\n",
      "Epoch 29/30\n",
      "8/8 [==============================] - 18s 2s/step - loss: 0.9051 - categorical_accuracy: 1.0000 - val_loss: 1.0439 - val_categorical_accuracy: 0.8400\n",
      "Epoch 30/30\n",
      "8/8 [==============================] - 17s 2s/step - loss: 0.9049 - categorical_accuracy: 1.0000 - val_loss: 1.0479 - val_categorical_accuracy: 0.8400\n"
     ]
    }
   ],
   "source": [
    "history = model_vgg16_256.fit(train_it,\n",
    "          validation_data=valid_it,\n",
    "          steps_per_epoch=train_it.samples/train_it.batch_size,\n",
    "          validation_steps=valid_it.samples/valid_it.batch_size,\n",
    "          epochs=30)"
   ]
  },
  {
   "cell_type": "code",
   "execution_count": 76,
   "id": "8a23f1c5",
   "metadata": {},
   "outputs": [
    {
     "name": "stdout",
     "output_type": "stream",
     "text": [
      "accuracy:  100.0 %\n",
      "val accuracy:  84.39999999999999 %\n"
     ]
    }
   ],
   "source": [
    "acc=0\n",
    "v_acc = 0\n",
    "for a in range(-5, 0, 1):\n",
    "    acc = history.history['categorical_accuracy'][a] + acc\n",
    "    v_acc = history.history['val_categorical_accuracy'][a] + v_acc\n",
    "print('accuracy: ', round(acc/5, 4)*100,'%')\n",
    "print('val accuracy: ', round(v_acc/5, 4)*100,'%')"
   ]
  },
  {
   "cell_type": "code",
   "execution_count": 77,
   "id": "6d4ef573",
   "metadata": {},
   "outputs": [
    {
     "data": {
      "image/png": "[encoded data removed]",
      "text/plain": [
       "<Figure size 432x288 with 1 Axes>"
      ]
     },
     "metadata": {
      "needs_background": "light"
     },
     "output_type": "display_data"
    }
   ],
   "source": [
    "plot_loss(history)"
   ]
  },
  {
   "cell_type": "code",
   "execution_count": 78,
   "id": "aacc2d1b",
   "metadata": {},
   "outputs": [
    {
     "data": {
      "image/png": "[encoded data removed]",
      "text/plain": [
       "<Figure size 432x288 with 1 Axes>"
      ]
     },
     "metadata": {
      "needs_background": "light"
     },
     "output_type": "display_data"
    }
   ],
   "source": [
    "plot_accuracy(history)"
   ]
  },
  {
   "cell_type": "markdown",
   "id": "75031eaa",
   "metadata": {},
   "source": [
    "### Setup 2 with Adam as optimizer and last convolution block trainable with and without additional dense layer.\n",
    "#### Results as shown below:\n",
    "                Setup                              Training Accuracy      Validation Accuracy\n",
    "                w/out additional dense                   99.5%                   86.4%\n",
    "                w/ additional 128 dense                  99.5%                   86.8%\n",
    "                w/ additional 256 dense                  100%                    84.4%\n",
    "*The accuracy is estimated average of the last 5 epoch"
   ]
  },
  {
   "cell_type": "markdown",
   "id": "4c64b7f3",
   "metadata": {},
   "source": [
    "#### Based on above results. Trainable last convolution block with additional 128 dense layer at the output provide a better results. "
   ]
  },
  {
   "cell_type": "markdown",
   "id": "1288c40c",
   "metadata": {},
   "source": [
    "### Setup 3, we train the whole VGG16 with and witout additional 128 dense layer at the output."
   ]
  },
  {
   "cell_type": "markdown",
   "id": "d46ff5d5",
   "metadata": {},
   "source": [
    "##### without additional 128 dense layer"
   ]
  },
  {
   "cell_type": "code",
   "execution_count": 79,
   "id": "c632fdac",
   "metadata": {},
   "outputs": [],
   "source": [
    "base_model_vgg16.trainable = True"
   ]
  },
  {
   "cell_type": "code",
   "execution_count": 80,
   "id": "81bb2caa",
   "metadata": {},
   "outputs": [],
   "source": [
    "model_vgg16.compile(optimizer=keras.optimizers.Adam(learning_rate = 0.00001),\n",
    "              loss = keras.losses.CategoricalCrossentropy(from_logits=True) , metrics = [keras.metrics.CategoricalAccuracy()])"
   ]
  },
  {
   "cell_type": "code",
   "execution_count": 81,
   "id": "4640d26b",
   "metadata": {},
   "outputs": [
    {
     "name": "stdout",
     "output_type": "stream",
     "text": [
      "Model: \"model\"\n",
      "_________________________________________________________________\n",
      "Layer (type)                 Output Shape              Param #   \n",
      "=================================================================\n",
      "input_2 (InputLayer)         [(None, 224, 224, 3)]     0         \n",
      "_________________________________________________________________\n",
      "vgg16 (Model)                (None, 7, 7, 512)         14714688  \n",
      "_________________________________________________________________\n",
      "global_average_pooling2d (Gl (None, 512)               0         \n",
      "_________________________________________________________________\n",
      "dense (Dense)                (None, 5)                 2565      \n",
      "=================================================================\n",
      "Total params: 14,717,253\n",
      "Trainable params: 14,717,253\n",
      "Non-trainable params: 0\n",
      "_________________________________________________________________\n"
     ]
    }
   ],
   "source": [
    "model_vgg16.summary()"
   ]
  },
  {
   "cell_type": "code",
   "execution_count": 82,
   "id": "d8975f6b",
   "metadata": {},
   "outputs": [
    {
     "name": "stdout",
     "output_type": "stream",
     "text": [
      "Epoch 1/30\n",
      "8/8 [==============================] - 121s 15s/step - loss: 0.9264 - categorical_accuracy: 0.9950 - val_loss: 1.0401 - val_categorical_accuracy: 0.8600\n",
      "Epoch 2/30\n",
      "8/8 [==============================] - 117s 15s/step - loss: 0.9143 - categorical_accuracy: 0.9950 - val_loss: 1.0478 - val_categorical_accuracy: 0.8600\n",
      "Epoch 3/30\n",
      "8/8 [==============================] - 120s 15s/step - loss: 0.9134 - categorical_accuracy: 0.9900 - val_loss: 1.0256 - val_categorical_accuracy: 0.9000\n",
      "Epoch 4/30\n",
      "8/8 [==============================] - 124s 16s/step - loss: 0.9077 - categorical_accuracy: 1.0000 - val_loss: 1.0424 - val_categorical_accuracy: 0.8800\n",
      "Epoch 5/30\n",
      "8/8 [==============================] - 123s 15s/step - loss: 0.9110 - categorical_accuracy: 1.0000 - val_loss: 1.0218 - val_categorical_accuracy: 0.8800\n",
      "Epoch 6/30\n",
      "8/8 [==============================] - 122s 15s/step - loss: 0.9106 - categorical_accuracy: 1.0000 - val_loss: 1.0660 - val_categorical_accuracy: 0.8400\n",
      "Epoch 7/30\n",
      "8/8 [==============================] - 126s 16s/step - loss: 0.9120 - categorical_accuracy: 1.0000 - val_loss: 1.0267 - val_categorical_accuracy: 0.8800\n",
      "Epoch 8/30\n",
      "8/8 [==============================] - 124s 16s/step - loss: 0.9090 - categorical_accuracy: 1.0000 - val_loss: 1.0347 - val_categorical_accuracy: 0.8600\n",
      "Epoch 9/30\n",
      "8/8 [==============================] - 128s 16s/step - loss: 0.9099 - categorical_accuracy: 0.9950 - val_loss: 1.0243 - val_categorical_accuracy: 0.8800\n",
      "Epoch 10/30\n",
      "8/8 [==============================] - 133s 17s/step - loss: 0.9059 - categorical_accuracy: 1.0000 - val_loss: 1.0545 - val_categorical_accuracy: 0.8600\n",
      "Epoch 11/30\n",
      "8/8 [==============================] - 133s 17s/step - loss: 0.9062 - categorical_accuracy: 1.0000 - val_loss: 1.0292 - val_categorical_accuracy: 0.8600\n",
      "Epoch 12/30\n",
      "8/8 [==============================] - 128s 16s/step - loss: 0.9056 - categorical_accuracy: 1.0000 - val_loss: 1.0269 - val_categorical_accuracy: 0.8800\n",
      "Epoch 13/30\n",
      "8/8 [==============================] - 130s 16s/step - loss: 0.9051 - categorical_accuracy: 1.0000 - val_loss: 1.0271 - val_categorical_accuracy: 0.8600\n",
      "Epoch 14/30\n",
      "8/8 [==============================] - 133s 17s/step - loss: 0.9054 - categorical_accuracy: 1.0000 - val_loss: 1.0229 - val_categorical_accuracy: 0.8800\n",
      "Epoch 15/30\n",
      "8/8 [==============================] - 146s 18s/step - loss: 0.9062 - categorical_accuracy: 1.0000 - val_loss: 1.0203 - val_categorical_accuracy: 0.9000\n",
      "Epoch 16/30\n",
      "8/8 [==============================] - 142s 18s/step - loss: 0.9073 - categorical_accuracy: 1.0000 - val_loss: 1.0234 - val_categorical_accuracy: 0.8800\n",
      "Epoch 17/30\n",
      "8/8 [==============================] - 141s 18s/step - loss: 0.9050 - categorical_accuracy: 1.0000 - val_loss: 1.0306 - val_categorical_accuracy: 0.8800\n",
      "Epoch 18/30\n",
      "8/8 [==============================] - 140s 17s/step - loss: 0.9064 - categorical_accuracy: 1.0000 - val_loss: 1.0137 - val_categorical_accuracy: 0.9000\n",
      "Epoch 19/30\n",
      "8/8 [==============================] - 136s 17s/step - loss: 0.9062 - categorical_accuracy: 1.0000 - val_loss: 1.0256 - val_categorical_accuracy: 0.8600\n",
      "Epoch 20/30\n",
      "8/8 [==============================] - 139s 17s/step - loss: 0.9095 - categorical_accuracy: 0.9950 - val_loss: 1.0172 - val_categorical_accuracy: 0.8800\n",
      "Epoch 21/30\n",
      "8/8 [==============================] - 144s 18s/step - loss: 0.9051 - categorical_accuracy: 1.0000 - val_loss: 0.9995 - val_categorical_accuracy: 0.9000\n",
      "Epoch 22/30\n",
      "8/8 [==============================] - 142s 18s/step - loss: 0.9050 - categorical_accuracy: 1.0000 - val_loss: 0.9951 - val_categorical_accuracy: 0.9200\n",
      "Epoch 23/30\n",
      "8/8 [==============================] - 139s 17s/step - loss: 0.9052 - categorical_accuracy: 1.0000 - val_loss: 0.9946 - val_categorical_accuracy: 0.9400\n",
      "Epoch 24/30\n",
      "8/8 [==============================] - 123s 15s/step - loss: 0.9050 - categorical_accuracy: 1.0000 - val_loss: 0.9942 - val_categorical_accuracy: 0.9400\n",
      "Epoch 25/30\n",
      "8/8 [==============================] - 119s 15s/step - loss: 0.9052 - categorical_accuracy: 1.0000 - val_loss: 0.9947 - val_categorical_accuracy: 0.9200\n",
      "Epoch 26/30\n",
      "8/8 [==============================] - 113s 14s/step - loss: 0.9050 - categorical_accuracy: 1.0000 - val_loss: 0.9984 - val_categorical_accuracy: 0.9000\n",
      "Epoch 27/30\n",
      "8/8 [==============================] - 112s 14s/step - loss: 0.9049 - categorical_accuracy: 1.0000 - val_loss: 1.0033 - val_categorical_accuracy: 0.9000\n",
      "Epoch 28/30\n",
      "8/8 [==============================] - 110s 14s/step - loss: 0.9049 - categorical_accuracy: 1.0000 - val_loss: 1.0047 - val_categorical_accuracy: 0.9000\n",
      "Epoch 29/30\n",
      "8/8 [==============================] - 105s 13s/step - loss: 0.9049 - categorical_accuracy: 1.0000 - val_loss: 1.0038 - val_categorical_accuracy: 0.9000\n",
      "Epoch 30/30\n",
      "8/8 [==============================] - 107s 13s/step - loss: 0.9049 - categorical_accuracy: 1.0000 - val_loss: 1.0049 - val_categorical_accuracy: 0.9000\n"
     ]
    }
   ],
   "source": [
    "history = model_vgg16.fit(train_it,\n",
    "          validation_data=valid_it,\n",
    "          steps_per_epoch=train_it.samples/train_it.batch_size,\n",
    "          validation_steps=valid_it.samples/valid_it.batch_size,\n",
    "          epochs=30)"
   ]
  },
  {
   "cell_type": "code",
   "execution_count": 83,
   "id": "b1756274",
   "metadata": {},
   "outputs": [
    {
     "name": "stdout",
     "output_type": "stream",
     "text": [
      "accuracy:  100.0 %\n",
      "val accuracy:  90.0 %\n"
     ]
    }
   ],
   "source": [
    "acc=0\n",
    "v_acc = 0\n",
    "for a in range(-5, 0, 1):\n",
    "    acc = history.history['categorical_accuracy'][a] + acc\n",
    "    v_acc = history.history['val_categorical_accuracy'][a] + v_acc\n",
    "print('accuracy: ', round(acc/5, 4)*100,'%')\n",
    "print('val accuracy: ', round(v_acc/5, 4)*100,'%')"
   ]
  },
  {
   "cell_type": "code",
   "execution_count": 85,
   "id": "dfe1e28e",
   "metadata": {},
   "outputs": [
    {
     "data": {
      "image/png": "[encoded data removed]",
      "text/plain": [
       "<Figure size 432x288 with 1 Axes>"
      ]
     },
     "metadata": {
      "needs_background": "light"
     },
     "output_type": "display_data"
    }
   ],
   "source": [
    "plot_loss(history)"
   ]
  },
  {
   "cell_type": "code",
   "execution_count": 86,
   "id": "80a23c10",
   "metadata": {},
   "outputs": [
    {
     "data": {
      "image/png": "[encoded data removed]",
      "text/plain": [
       "<Figure size 432x288 with 1 Axes>"
      ]
     },
     "metadata": {
      "needs_background": "light"
     },
     "output_type": "display_data"
    }
   ],
   "source": [
    "plot_accuracy(history)"
   ]
  },
  {
   "cell_type": "markdown",
   "id": "3bae0769",
   "metadata": {},
   "source": [
    "##### with additional 128 dense layer"
   ]
  },
  {
   "cell_type": "code",
   "execution_count": 87,
   "id": "7cb06958",
   "metadata": {},
   "outputs": [],
   "source": [
    "model_vgg16_128.compile(optimizer=keras.optimizers.Adam(learning_rate = 0.00001),\n",
    "              loss = keras.losses.CategoricalCrossentropy(from_logits=True) , metrics = [keras.metrics.CategoricalAccuracy()])"
   ]
  },
  {
   "cell_type": "code",
   "execution_count": 88,
   "id": "3d31d3ec",
   "metadata": {
    "scrolled": true
   },
   "outputs": [
    {
     "name": "stdout",
     "output_type": "stream",
     "text": [
      "Model: \"model_3\"\n",
      "_________________________________________________________________\n",
      "Layer (type)                 Output Shape              Param #   \n",
      "=================================================================\n",
      "input_5 (InputLayer)         [(None, 224, 224, 3)]     0         \n",
      "_________________________________________________________________\n",
      "vgg16 (Model)                (None, 7, 7, 512)         14714688  \n",
      "_________________________________________________________________\n",
      "global_average_pooling2d_3 ( (None, 512)               0         \n",
      "_________________________________________________________________\n",
      "dense_5 (Dense)              (None, 128)               65664     \n",
      "_________________________________________________________________\n",
      "dense_6 (Dense)              (None, 5)                 645       \n",
      "=================================================================\n",
      "Total params: 14,780,997\n",
      "Trainable params: 14,780,997\n",
      "Non-trainable params: 0\n",
      "_________________________________________________________________\n"
     ]
    }
   ],
   "source": [
    "model_vgg16_128.summary()"
   ]
  },
  {
   "cell_type": "code",
   "execution_count": 89,
   "id": "5aa11357",
   "metadata": {},
   "outputs": [
    {
     "name": "stdout",
     "output_type": "stream",
     "text": [
      "Epoch 1/30\n",
      "8/8 [==============================] - 106s 13s/step - loss: 0.9050 - categorical_accuracy: 1.0000 - val_loss: 1.1807 - val_categorical_accuracy: 0.7200\n",
      "Epoch 2/30\n",
      "8/8 [==============================] - 104s 13s/step - loss: 0.9099 - categorical_accuracy: 0.9950 - val_loss: 1.0614 - val_categorical_accuracy: 0.8400\n",
      "Epoch 3/30\n",
      "8/8 [==============================] - 102s 13s/step - loss: 0.9144 - categorical_accuracy: 0.9900 - val_loss: 1.0827 - val_categorical_accuracy: 0.8200\n",
      "Epoch 4/30\n",
      "8/8 [==============================] - 100s 13s/step - loss: 0.9166 - categorical_accuracy: 0.9850 - val_loss: 1.0741 - val_categorical_accuracy: 0.8400\n",
      "Epoch 5/30\n",
      "8/8 [==============================] - 101s 13s/step - loss: 0.9322 - categorical_accuracy: 0.9750 - val_loss: 0.9913 - val_categorical_accuracy: 0.9200\n",
      "Epoch 6/30\n",
      "8/8 [==============================] - 101s 13s/step - loss: 0.9120 - categorical_accuracy: 0.9900 - val_loss: 1.1165 - val_categorical_accuracy: 0.7800\n",
      "Epoch 7/30\n",
      "8/8 [==============================] - 102s 13s/step - loss: 0.9167 - categorical_accuracy: 0.9900 - val_loss: 0.9920 - val_categorical_accuracy: 0.9200\n",
      "Epoch 8/30\n",
      "8/8 [==============================] - 100s 12s/step - loss: 0.9049 - categorical_accuracy: 1.0000 - val_loss: 1.0254 - val_categorical_accuracy: 0.9000\n",
      "Epoch 9/30\n",
      "8/8 [==============================] - 101s 13s/step - loss: 0.9072 - categorical_accuracy: 1.0000 - val_loss: 1.0191 - val_categorical_accuracy: 0.8800\n",
      "Epoch 10/30\n",
      "8/8 [==============================] - 99s 12s/step - loss: 0.9075 - categorical_accuracy: 1.0000 - val_loss: 1.0275 - val_categorical_accuracy: 0.8600\n",
      "Epoch 11/30\n",
      "8/8 [==============================] - 100s 13s/step - loss: 0.9050 - categorical_accuracy: 1.0000 - val_loss: 1.0059 - val_categorical_accuracy: 0.9000\n",
      "Epoch 12/30\n",
      "8/8 [==============================] - 101s 13s/step - loss: 0.9051 - categorical_accuracy: 1.0000 - val_loss: 1.0116 - val_categorical_accuracy: 0.9000\n",
      "Epoch 13/30\n",
      "8/8 [==============================] - 111s 14s/step - loss: 0.9052 - categorical_accuracy: 1.0000 - val_loss: 1.0197 - val_categorical_accuracy: 0.8800\n",
      "Epoch 14/30\n",
      "8/8 [==============================] - 118s 15s/step - loss: 0.9050 - categorical_accuracy: 1.0000 - val_loss: 1.0259 - val_categorical_accuracy: 0.8800\n",
      "Epoch 15/30\n",
      "8/8 [==============================] - 124s 15s/step - loss: 0.9049 - categorical_accuracy: 1.0000 - val_loss: 1.0116 - val_categorical_accuracy: 0.8800\n",
      "Epoch 16/30\n",
      "8/8 [==============================] - 124s 16s/step - loss: 0.9048 - categorical_accuracy: 1.0000 - val_loss: 1.0098 - val_categorical_accuracy: 0.9000\n",
      "Epoch 17/30\n",
      "8/8 [==============================] - 126s 16s/step - loss: 0.9049 - categorical_accuracy: 1.0000 - val_loss: 1.0077 - val_categorical_accuracy: 0.9000\n",
      "Epoch 18/30\n",
      "8/8 [==============================] - 127s 16s/step - loss: 0.9049 - categorical_accuracy: 1.0000 - val_loss: 1.0039 - val_categorical_accuracy: 0.9000\n",
      "Epoch 19/30\n",
      "8/8 [==============================] - 124s 15s/step - loss: 0.9048 - categorical_accuracy: 1.0000 - val_loss: 1.0015 - val_categorical_accuracy: 0.9000\n",
      "Epoch 20/30\n",
      "8/8 [==============================] - 127s 16s/step - loss: 0.9049 - categorical_accuracy: 1.0000 - val_loss: 0.9992 - val_categorical_accuracy: 0.9200\n",
      "Epoch 21/30\n",
      "8/8 [==============================] - 125s 16s/step - loss: 0.9048 - categorical_accuracy: 1.0000 - val_loss: 0.9963 - val_categorical_accuracy: 0.9200\n",
      "Epoch 22/30\n",
      "8/8 [==============================] - 127s 16s/step - loss: 0.9049 - categorical_accuracy: 1.0000 - val_loss: 0.9948 - val_categorical_accuracy: 0.9200\n",
      "Epoch 23/30\n",
      "8/8 [==============================] - 126s 16s/step - loss: 0.9048 - categorical_accuracy: 1.0000 - val_loss: 0.9936 - val_categorical_accuracy: 0.9200\n",
      "Epoch 24/30\n",
      "8/8 [==============================] - 126s 16s/step - loss: 0.9048 - categorical_accuracy: 1.0000 - val_loss: 0.9930 - val_categorical_accuracy: 0.9200\n",
      "Epoch 25/30\n",
      "8/8 [==============================] - 126s 16s/step - loss: 0.9048 - categorical_accuracy: 1.0000 - val_loss: 0.9926 - val_categorical_accuracy: 0.9200\n",
      "Epoch 26/30\n",
      "8/8 [==============================] - 128s 16s/step - loss: 0.9049 - categorical_accuracy: 1.0000 - val_loss: 0.9911 - val_categorical_accuracy: 0.9200\n",
      "Epoch 27/30\n",
      "8/8 [==============================] - 129s 16s/step - loss: 0.9048 - categorical_accuracy: 1.0000 - val_loss: 0.9904 - val_categorical_accuracy: 0.9200\n",
      "Epoch 28/30\n",
      "8/8 [==============================] - 128s 16s/step - loss: 0.9048 - categorical_accuracy: 1.0000 - val_loss: 0.9902 - val_categorical_accuracy: 0.9200\n",
      "Epoch 29/30\n",
      "8/8 [==============================] - 129s 16s/step - loss: 0.9048 - categorical_accuracy: 1.0000 - val_loss: 0.9901 - val_categorical_accuracy: 0.9200\n",
      "Epoch 30/30\n",
      "8/8 [==============================] - 128s 16s/step - loss: 0.9048 - categorical_accuracy: 1.0000 - val_loss: 0.9897 - val_categorical_accuracy: 0.9200\n"
     ]
    }
   ],
   "source": [
    "history = model_vgg16_128.fit(train_it,\n",
    "          validation_data=valid_it,\n",
    "          steps_per_epoch=train_it.samples/train_it.batch_size,\n",
    "          validation_steps=valid_it.samples/valid_it.batch_size,\n",
    "          epochs=30)"
   ]
  },
  {
   "cell_type": "code",
   "execution_count": 90,
   "id": "219ae296",
   "metadata": {},
   "outputs": [
    {
     "name": "stdout",
     "output_type": "stream",
     "text": [
      "accuracy:  100.0 %\n",
      "val accuracy:  92.0 %\n"
     ]
    }
   ],
   "source": [
    "acc=0\n",
    "v_acc = 0\n",
    "for a in range(-5, 0, 1):\n",
    "    acc = history.history['categorical_accuracy'][a] + acc\n",
    "    v_acc = history.history['val_categorical_accuracy'][a] + v_acc\n",
    "print('accuracy: ', round(acc/5, 4)*100,'%')\n",
    "print('val accuracy: ', round(v_acc/5, 4)*100,'%')"
   ]
  },
  {
   "cell_type": "code",
   "execution_count": 91,
   "id": "c750d315",
   "metadata": {},
   "outputs": [],
   "source": [
    "model_vgg16_128.save('vgg16_full_128_out.h5')"
   ]
  },
  {
   "cell_type": "code",
   "execution_count": 92,
   "id": "4885b824",
   "metadata": {},
   "outputs": [
    {
     "data": {
      "image/png": "[encoded data removed]",
      "text/plain": [
       "<Figure size 432x288 with 1 Axes>"
      ]
     },
     "metadata": {
      "needs_background": "light"
     },
     "output_type": "display_data"
    }
   ],
   "source": [
    "plot_loss(history)"
   ]
  },
  {
   "cell_type": "code",
   "execution_count": 93,
   "id": "82dd2257",
   "metadata": {},
   "outputs": [
    {
     "data": {
      "image/png": "[encoded data removed]",
      "text/plain": [
       "<Figure size 432x288 with 1 Axes>"
      ]
     },
     "metadata": {
      "needs_background": "light"
     },
     "output_type": "display_data"
    }
   ],
   "source": [
    "plot_accuracy(history)"
   ]
  },
  {
   "cell_type": "markdown",
   "id": "4c43e5c7",
   "metadata": {},
   "source": [
    "## Setup 3 with fully trained VGG16\n",
    "#### Results as shown below:\n",
    "                                     Training Accuracy      Validation Accuracy\n",
    "     w/out additional dense layer          100%                    90.0%\n",
    "     with additional dense layer 128       100%                    92.0%\n",
    "     \n",
    "*The accuracy is estimated average of the last 5 epoch"
   ]
  },
  {
   "cell_type": "markdown",
   "id": "369f619d",
   "metadata": {},
   "source": [
    "### Summary of results:\n",
    "1. Choosing an optimizer\n",
    "                              Training Accuracy      Validation Accuracy\n",
    "                    RMSprop        83.5%                   75.2%\n",
    "                    SGD            86.1%                   75.2%\n",
    "                    ADAM           91.9%                   84.8%\n",
    "\n",
    "2. Additional Dense layer at the output stage with different number of nodes.\n",
    "                no. of nodes  Training Accuracy      Validation Accuracy\n",
    "                512                 99.3%                   84.0%\n",
    "                256                 99.1%                   85.2%\n",
    "                128                 98.7%                   84.0%\n",
    "                64                  98.1%                   80.8%            \n",
    "   Conclusion: 128 and 256 nodes have almost the same performance.\n",
    "\n",
    "3. Trainable last convolution block with and without additional dense layer.\n",
    "                Setup                              Training Accuracy      Validation Accuracy\n",
    "                w/out additional dense                   99.5%                   86.4%\n",
    "                w/ additional 128 dense                  99.5%                   86.8%\n",
    "                w/ additional 256 dense                  100%                    84.4%\n",
    "   Conclusion: w/ additional 128 dense layer at the output seems to perform better.\n",
    "\n",
    "4. The whole VGG16 with and without additional dense layer trainable.\n",
    "                                          Training Accuracy      Validation Accuracy\n",
    "          w/out additional dense layer          100%                    90.0%\n",
    "          with additional dense layer 128       100%                    92.0%                                          \n",
    "   Conclusion: w/additional 128 dense layer at the output perform a bit better."
   ]
  },
  {
   "cell_type": "markdown",
   "id": "b035ad0f",
   "metadata": {},
   "source": [
    "### Conclusion:"
   ]
  },
  {
   "cell_type": "markdown",
   "id": "05851dc4",
   "metadata": {},
   "source": [
    "Using VGG16 transfer learning and fine tuning the model provide us a good quality model that can identify the pokemon.\n",
    "The model to choose based on the results are:\n",
    "        1. Trainable last convolution block of VGG16 with additional 128 dense layer at the output.\n",
    "        2. Trainable whole VGG16 convolution block with additional 128 dense layer at the output.\n",
    "\n",
    "With these two model above, we can classify the pokemon 90% of the time.\n",
    "To increase accuracy further, we may need more data/picture of pokemon for training.\n",
    "\n",
    "Other convolution network like VGG19, Resnet, Mobilenet, etc, can also be use to do transfer learning. \n"
   ]
  },
  {
   "cell_type": "markdown",
   "id": "4c501adf",
   "metadata": {},
   "source": [
    "Note:\n",
    "1. Provide additional python file to be use for testing by loading the model save on this file.\n",
    "2. Two model were save. \n",
    "        First one is vgg16_full_128_out.h5. This is the full training of VGG16 model with additional dense layer 128 nodes.\n",
    "        Second one is vgg16_last_128_out.h5. This is the training of the last block of convolution layer with additional \n",
    "        dense layer 128 nodes. \n",
    "3. No callback, early stop or patient were used. The reason was to see where the model will overfit.\n",
    "4. All this iteration run was done through DGX server provided by RP. Without those server, it will take so much time for the CPU to provide all the iteration."
   ]
  },
  {
   "cell_type": "markdown",
   "id": "8ca1a3e3",
   "metadata": {},
   "source": [
    "## --------------------------------------------------------------------------------------------------------------------------------------"
   ]
  }
 ],
 "metadata": {
  "kernelspec": {
   "display_name": "Python 3 (ipykernel)",
   "language": "python",
   "name": "python3"
  },
  "language_info": {
   "codemirror_mode": {
    "name": "ipython",
    "version": 3
   },
   "file_extension": ".py",
   "mimetype": "text/x-python",
   "name": "python",
   "nbconvert_exporter": "python",
   "pygments_lexer": "ipython3",
   "version": "3.8.12"
  }
 },
 "nbformat": 4,
 "nbformat_minor": 5
}
